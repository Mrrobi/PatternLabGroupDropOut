{
  "nbformat": 4,
  "nbformat_minor": 0,
  "metadata": {
    "colab": {
      "name": "Iterative_n_RFC_crossValidation_enac.ipynb",
      "provenance": [],
      "collapsed_sections": []
    },
    "kernelspec": {
      "name": "python3",
      "display_name": "Python 3"
    }
  },
  "cells": [
    {
      "cell_type": "code",
      "metadata": {
        "id": "xcg-c9ezGOHr"
      },
      "source": [
        "from sklearn.model_selection import train_test_split\n",
        "import numpy as np"
      ],
      "execution_count": 10,
      "outputs": []
    },
    {
      "cell_type": "code",
      "metadata": {
        "id": "mNgMT0uORFWb"
      },
      "source": [
        "from sklearn.ensemble import RandomForestClassifier"
      ],
      "execution_count": 11,
      "outputs": []
    },
    {
      "cell_type": "code",
      "metadata": {
        "id": "wROFsPwdNRI5"
      },
      "source": [
        "from sklearn.svm import SVC"
      ],
      "execution_count": 12,
      "outputs": []
    },
    {
      "cell_type": "code",
      "metadata": {
        "id": "SkYWCRv0Oyiv"
      },
      "source": [
        "from sklearn.metrics import accuracy_score"
      ],
      "execution_count": 13,
      "outputs": []
    },
    {
      "cell_type": "code",
      "metadata": {
        "id": "VCZnwzteUht2"
      },
      "source": [
        "from sklearn.model_selection import KFold"
      ],
      "execution_count": 14,
      "outputs": []
    },
    {
      "cell_type": "code",
      "metadata": {
        "id": "va5Hjzg8DKsG",
        "outputId": "8ac95fa7-8ef1-4f5a-8154-b3d19f1704e2",
        "colab": {
          "base_uri": "https://localhost:8080/",
          "height": 34
        }
      },
      "source": [
        "from google.colab import drive\n",
        "drive.mount('/content/drive')"
      ],
      "execution_count": 15,
      "outputs": [
        {
          "output_type": "stream",
          "text": [
            "Drive already mounted at /content/drive; to attempt to forcibly remount, call drive.mount(\"/content/drive\", force_remount=True).\n"
          ],
          "name": "stdout"
        }
      ]
    },
    {
      "cell_type": "code",
      "metadata": {
        "id": "yLUt4RggDDLu"
      },
      "source": [
        "#kmer1+kmer2+kmer3+pcpseDNC + enac + pseknc\n",
        "train_neg = [\n",
        "  \"/content/drive/My Drive/Pattern project training/pattern/data/converted/A.thaliana5289_neg/concated result/concated kmer1/A.thaliana5289_neg_kmr1.npy\",\n",
        "  \"/content/drive/My Drive/Pattern project training/pattern/data/converted/A.thaliana5289_neg/concated result/concted kmer2/A.thaliana5289_neg_kmer2.npy\",\n",
        "  \"/content/drive/My Drive/Pattern project training/pattern/data/converted/A.thaliana5289_neg/concated result/concated kmer3/A.thaliana5289_neg_kmer_3.npy\",\n",
        "  \"/content/drive/My Drive/Pattern project training/pattern/data/converted/A.thaliana5289_neg/concated result/PCPseDNC/A.thaliana5289_neg_PCPseDNC.npy\",\n",
        "  \"/content/drive/My Drive/Pattern project training/pattern/data/converted/A.thaliana5289_neg/concated result/concated enac/A.thaliana5289_neg_ENAC.npy\",\n",
        "  \"/content/drive/My Drive/Pattern project training/pattern/data/converted/A.thaliana5289_neg/concated result/pseknc/A.thaliana5289_neg_pseknc.npy\"\n",
        "\n",
        "]\n",
        "train_pos = [\n",
        "  \"/content/drive/My Drive/Pattern project training/pattern/data/converted/A.thaliana5289_pos/combined/Kmer1/A.thaliana5289_pos_kmer_1.npy\",\n",
        "  \"/content/drive/My Drive/Pattern project training/pattern/data/converted/A.thaliana5289_pos/combined/Kmer2/A.thaliana5289_pos_kmer2.npy\",\n",
        "  \"/content/drive/My Drive/Pattern project training/pattern/data/converted/A.thaliana5289_pos/combined/Kmer3/A.thaliana5289_pos_kmer3.npy\",\n",
        "  \"/content/drive/My Drive/Pattern project training/pattern/data/converted/A.thaliana5289_pos/combined/PCPseDNC/A.thaliana5289_pos_PCPseDNC.npy\",\n",
        "  \"/content/drive/My Drive/Pattern project training/pattern/data/converted/A.thaliana5289_pos/combined/ENAC/A.thaliana5289_pos_ENAC.npy\",\n",
        "  \"/content/drive/My Drive/Pattern project training/pattern/data/converted/A.thaliana5289_pos/combined/PSeKNC/A.thaliana5289_pos_PseKNC.npy\"\n",
        "]\n",
        "\n",
        "\n",
        "test_neg = [\n",
        "    \"/content/drive/My Drive/Pattern project training/pattern/data/converted/A.thaliana1000indep_neg/kmer1/A.thaliana1000indep_neg_kmer_1.npy\",\n",
        "    \"/content/drive/My Drive/Pattern project training/pattern/data/converted/A.thaliana1000indep_neg/kmer2/A.thaliana1000indep_neg_kmer2.npy\",\n",
        "    \"/content/drive/My Drive/Pattern project training/pattern/data/converted/A.thaliana1000indep_neg/kmer3/A.thaliana1000indep_neg_kmer_3.npy\",\n",
        "    \"/content/drive/My Drive/Pattern project training/pattern/data/converted/A.thaliana1000indep_neg/PCPseDNC/A.thaliana1000indep_neg_PCPseDNC.npy\",\n",
        "    \"/content/drive/My Drive/Pattern project training/pattern/data/converted/A.thaliana1000indep_neg/enac/A.thaliana1000indep_neg_enac.npy\",\n",
        "    \"/content/drive/My Drive/Pattern project training/pattern/data/converted/A.thaliana1000indep_neg/pseknc/A.thaliana1000indep_neg_pseknc.npy\"    \n",
        "]\n",
        "\n",
        "test_pos = [\n",
        "     \"/content/drive/My Drive/Pattern project training/pattern/data/converted/A.thaliana1000indep_pos/Kmer1/A.thaliana1000indep_pos_kmer_1.npy\",\n",
        "     \"/content/drive/My Drive/Pattern project training/pattern/data/converted/A.thaliana1000indep_pos/kmer2/A.thaliana1000indep_pos_kmer_2.npy\",\n",
        "     \"/content/drive/My Drive/Pattern project training/pattern/data/converted/A.thaliana1000indep_pos/kmer3/A.thaliana1000indep_pos_kmer_3.npy\",\n",
        "     \"/content/drive/My Drive/Pattern project training/pattern/data/converted/A.thaliana1000indep_pos/pcpsednc/A.thaliana1000indep_pos_PCPseDNC.npy\",\n",
        "     \"/content/drive/My Drive/Pattern project training/pattern/data/converted/A.thaliana1000indep_pos/enac/A.thaliana1000indep_pos_enac.npy\",\n",
        "     \"/content/drive/My Drive/Pattern project training/pattern/data/converted/A.thaliana1000indep_pos/pseknc/A.thaliana1000indep_pos_pseknc.npy\"    \n",
        "]"
      ],
      "execution_count": 16,
      "outputs": []
    },
    {
      "cell_type": "code",
      "metadata": {
        "id": "Bkibhn2DD9hU"
      },
      "source": [
        "#train pos load npy\n",
        "x_train_pos1 = np.load(train_pos[0])\n",
        "x_train_pos2 = np.load(train_pos[1])\n",
        "x_train_pos3 = np.load(train_pos[2])\n",
        "x_train_pos4 = np.load(train_pos[3])\n",
        "x_train_pos5 = np.load(train_pos[4])\n",
        "x_train_pos6 = np.load(train_pos[5])\n",
        "\n",
        "#train neg load npy\n",
        "x_train_neg1 = np.load(train_neg[0])\n",
        "x_train_neg2 = np.load(train_neg[1])\n",
        "x_train_neg3 = np.load(train_neg[2])\n",
        "x_train_neg4 = np.load(train_neg[3])\n",
        "x_train_neg5 = np.load(train_neg[4])\n",
        "x_train_neg6 = np.load(train_neg[5])\n",
        "\n",
        "\n",
        "#test pos load npy\n",
        "x_test_pos1 = np.load(test_pos[0])\n",
        "x_test_pos2 = np.load(test_pos[1])\n",
        "x_test_pos3 = np.load(test_pos[2])\n",
        "x_test_pos4 = np.load(test_pos[3])\n",
        "x_test_pos5 = np.load(test_pos[4])\n",
        "x_test_pos6 = np.load(test_pos[5])\n",
        "\n",
        "#test neg load npy\n",
        "x_test_neg1 = np.load(test_neg[0])\n",
        "x_test_neg2 = np.load(test_neg[1])\n",
        "x_test_neg3 = np.load(test_neg[2])\n",
        "x_test_neg4 = np.load(test_neg[3])\n",
        "x_test_neg5 = np.load(test_neg[4])\n",
        "x_test_neg6 = np.load(test_neg[5])\n",
        "\n",
        "\n",
        "x_train_pos = x_train_pos5\n",
        "x_train_neg = x_train_neg5\n",
        "x_test_pos =  x_test_pos5\n",
        "x_test_neg =  x_test_neg5\n",
        " \n",
        "\n",
        "y_train_pos = np.tile(1, 5289) \n",
        "y_train_neg = np.tile(0, 5289) \n",
        "y_test_pos = np.tile(1, 1000) \n",
        "y_test_neg = np.tile(0, 1000) "
      ],
      "execution_count": 17,
      "outputs": []
    },
    {
      "cell_type": "code",
      "metadata": {
        "id": "H84h5ZubMHuZ",
        "outputId": "497f98c9-06bf-4f8e-d2e3-cd3059eafbf5",
        "colab": {
          "base_uri": "https://localhost:8080/",
          "height": 158
        }
      },
      "source": [
        "print(x_train_pos.shape)\n",
        "print(x_train_neg.shape)\n",
        "print(x_test_pos.shape)\n",
        "print(x_test_neg.shape)\n",
        "\n",
        "print(y_train_pos.shape)\n",
        "print(y_train_neg.shape)\n",
        "print(y_test_pos.shape)\n",
        "print(y_test_neg.shape)"
      ],
      "execution_count": 18,
      "outputs": [
        {
          "output_type": "stream",
          "text": [
            "(5289, 148)\n",
            "(5289, 148)\n",
            "(1000, 148)\n",
            "(1000, 148)\n",
            "(5289,)\n",
            "(5289,)\n",
            "(1000,)\n",
            "(1000,)\n"
          ],
          "name": "stdout"
        }
      ]
    },
    {
      "cell_type": "code",
      "metadata": {
        "id": "4woF7AbhG2D5"
      },
      "source": [
        "seed = 40\n",
        "np.random.seed(seed)"
      ],
      "execution_count": 19,
      "outputs": []
    },
    {
      "cell_type": "code",
      "metadata": {
        "id": "Rxp25B0pIt5S"
      },
      "source": [
        "x_training = np.concatenate((x_train_pos, x_train_neg), axis= 0)\n",
        "y_training = np.concatenate((y_train_pos, y_train_neg))"
      ],
      "execution_count": 20,
      "outputs": []
    },
    {
      "cell_type": "code",
      "metadata": {
        "id": "5SlGQaZ0QtwH"
      },
      "source": [
        "x_test = np.concatenate((x_test_pos, x_test_neg))\n",
        "y_test = np.concatenate((y_test_pos, y_test_neg))"
      ],
      "execution_count": 21,
      "outputs": []
    },
    {
      "cell_type": "code",
      "metadata": {
        "id": "AFWq8oQ9Q8pr",
        "outputId": "567eb644-f1c9-459d-eda2-54f4d9c9ff9f",
        "colab": {
          "base_uri": "https://localhost:8080/",
          "height": 52
        }
      },
      "source": [
        "print(x_test.shape)\n",
        "print(y_test.shape)"
      ],
      "execution_count": 22,
      "outputs": [
        {
          "output_type": "stream",
          "text": [
            "(2000, 148)\n",
            "(2000,)\n"
          ],
          "name": "stdout"
        }
      ]
    },
    {
      "cell_type": "code",
      "metadata": {
        "id": "r2lmmmO7JotB",
        "outputId": "e668798c-ec8c-4413-a5fd-b7cab5fc4bce",
        "colab": {
          "base_uri": "https://localhost:8080/",
          "height": 52
        }
      },
      "source": [
        "print(x_training.shape)\n",
        "print(y_training.shape)"
      ],
      "execution_count": 23,
      "outputs": [
        {
          "output_type": "stream",
          "text": [
            "(10578, 148)\n",
            "(10578,)\n"
          ],
          "name": "stdout"
        }
      ]
    },
    {
      "cell_type": "code",
      "metadata": {
        "id": "s7kBxZXMX5q-",
        "outputId": "5fd430e0-422c-4936-d651-80f79315b89b",
        "colab": {
          "base_uri": "https://localhost:8080/",
          "height": 72
        }
      },
      "source": [
        "kf = KFold(n_splits=5, random_state=seed)"
      ],
      "execution_count": 24,
      "outputs": [
        {
          "output_type": "stream",
          "text": [
            "/usr/local/lib/python3.6/dist-packages/sklearn/model_selection/_split.py:296: FutureWarning: Setting a random_state has no effect since shuffle is False. This will raise an error in 0.24. You should leave random_state to its default (None), or set shuffle=True.\n",
            "  FutureWarning\n"
          ],
          "name": "stderr"
        }
      ]
    },
    {
      "cell_type": "code",
      "metadata": {
        "id": "veZ7aQjkV_62",
        "outputId": "83940239-1f90-4cde-b213-f528276d59ea",
        "colab": {
          "base_uri": "https://localhost:8080/",
          "height": 1000
        }
      },
      "source": [
        "j=1\n",
        "n_list=[]\n",
        "n_train_avg = []\n",
        "n_val_avg = [] \n",
        "while j <100:\n",
        "  n = j\n",
        "  sumTrain = sumVal = 0\n",
        "  print(f\"RFC: enac  |   n = {n}\")\n",
        "  clf = RandomForestClassifier(n_estimators = n, random_state=seed)\n",
        "\n",
        "  val_accuracy_list = []\n",
        "  train_accuracy_list = []\n",
        "  n = 1\n",
        "  for train_index, val_index in kf.split(x_training):\n",
        "      print(\"Fold : \",n)\n",
        "      X_train, X_val = x_training[train_index], x_training[val_index]\n",
        "      y_train, y_val = y_training[train_index], y_training[val_index]\n",
        "      \n",
        "      clf.fit(X_train, y_train)\n",
        "\n",
        "      y_val_pred = clf.predict(X_val)\n",
        "      val_accuracy = accuracy_score(y_val, y_val_pred)\n",
        "      val_accuracy_list.append(val_accuracy)\n",
        "\n",
        "      y_train_pred = clf.predict(X_train)\n",
        "      train_accuracy = accuracy_score(y_train, y_train_pred)\n",
        "      train_accuracy_list.append(train_accuracy)\n",
        "\n",
        "\n",
        "      n += 1 \n",
        "\n",
        "  print(\"done\")\n",
        "  for i in range(0, len(train_accuracy_list)):\n",
        "      print(\"train_accuracy : \", train_accuracy_list[i], \"\\tVal accuracy : \", val_accuracy_list[i])\n",
        "      sumTrain = sumTrain + train_accuracy_list[i]\n",
        "      sumVal = sumVal + val_accuracy_list[i]\n",
        "  sumTrain = sumTrain/5.0\n",
        "  sumVal = sumVal/5.0\n",
        "  print(\"------------------------------------------------------------------------------------------------\")\n",
        "  print(f\"Train accuracy(avg): {sumTrain} | Val accuracy(avg): {sumVal}\")\n",
        "  print(\"================================================================================================\")\n",
        "  n_list.append(j)\n",
        "  n_train_avg.append(sumTrain)\n",
        "  n_val_avg.append(sumVal)\n",
        "  j = j+10"
      ],
      "execution_count": 27,
      "outputs": [
        {
          "output_type": "stream",
          "text": [
            "RFC: enac  |   n = 1\n",
            "Fold :  1\n",
            "Fold :  2\n",
            "Fold :  3\n",
            "Fold :  4\n",
            "Fold :  5\n",
            "done\n",
            "train_accuracy :  0.9249586386197116 \tVal accuracy :  0.5982986767485823\n",
            "train_accuracy :  0.9270857953202553 \tVal accuracy :  0.6791115311909263\n",
            "train_accuracy :  0.9397305601512644 \tVal accuracy :  0.611531190926276\n",
            "train_accuracy :  0.9191775965969514 \tVal accuracy :  0.6699763593380614\n",
            "train_accuracy :  0.9358383551931939 \tVal accuracy :  0.518676122931442\n",
            "------------------------------------------------------------------------------------------------\n",
            "Train accuracy(avg): 0.9293581891762752 | Val accuracy(avg): 0.6155187762270575\n",
            "================================================================================================\n",
            "RFC: enac  |   n = 11\n",
            "Fold :  1\n",
            "Fold :  2\n",
            "Fold :  3\n",
            "Fold :  4\n",
            "Fold :  5\n",
            "done\n",
            "train_accuracy :  0.9989364216497282 \tVal accuracy :  0.42580340264650285\n",
            "train_accuracy :  0.9994091231387379 \tVal accuracy :  0.5751417769376181\n",
            "train_accuracy :  0.9989364216497282 \tVal accuracy :  0.6597353497164461\n",
            "train_accuracy :  0.9983457402812241 \tVal accuracy :  0.8108747044917257\n",
            "train_accuracy :  0.9996455157745481 \tVal accuracy :  0.4548463356973995\n",
            "------------------------------------------------------------------------------------------------\n",
            "Train accuracy(avg): 0.9990546444987931 | Val accuracy(avg): 0.5852803138979384\n",
            "================================================================================================\n",
            "RFC: enac  |   n = 21\n",
            "Fold :  1\n",
            "Fold :  2\n",
            "Fold :  3\n",
            "Fold :  4\n",
            "Fold :  5\n",
            "done\n",
            "train_accuracy :  1.0 \tVal accuracy :  0.3672022684310019\n",
            "train_accuracy :  0.9998818246277476 \tVal accuracy :  0.5463137996219282\n",
            "train_accuracy :  0.9995272985109903 \tVal accuracy :  0.6800567107750473\n",
            "train_accuracy :  0.999881838591516 \tVal accuracy :  0.842080378250591\n",
            "train_accuracy :  1.0 \tVal accuracy :  0.45059101654846334\n",
            "------------------------------------------------------------------------------------------------\n",
            "Train accuracy(avg): 0.9998581923460508 | Val accuracy(avg): 0.5772488347254063\n",
            "================================================================================================\n",
            "RFC: enac  |   n = 31\n",
            "Fold :  1\n",
            "Fold :  2\n",
            "Fold :  3\n",
            "Fold :  4\n",
            "Fold :  5\n",
            "done\n",
            "train_accuracy :  1.0 \tVal accuracy :  0.35822306238185253\n",
            "train_accuracy :  0.9998818246277476 \tVal accuracy :  0.46928166351606804\n",
            "train_accuracy :  1.0 \tVal accuracy :  0.6956521739130435\n",
            "train_accuracy :  1.0 \tVal accuracy :  0.8520094562647754\n",
            "train_accuracy :  1.0 \tVal accuracy :  0.43782505910165487\n",
            "------------------------------------------------------------------------------------------------\n",
            "Train accuracy(avg): 0.9999763649255495 | Val accuracy(avg): 0.5625982830354789\n",
            "================================================================================================\n",
            "RFC: enac  |   n = 41\n",
            "Fold :  1\n",
            "Fold :  2\n",
            "Fold :  3\n",
            "Fold :  4\n",
            "Fold :  5\n",
            "done\n",
            "train_accuracy :  1.0 \tVal accuracy :  0.32655954631379963\n",
            "train_accuracy :  1.0 \tVal accuracy :  0.4825141776937618\n",
            "train_accuracy :  1.0 \tVal accuracy :  0.695179584120983\n",
            "train_accuracy :  1.0 \tVal accuracy :  0.8591016548463357\n",
            "train_accuracy :  1.0 \tVal accuracy :  0.4444444444444444\n",
            "------------------------------------------------------------------------------------------------\n",
            "Train accuracy(avg): 1.0 | Val accuracy(avg): 0.5615598814838648\n",
            "================================================================================================\n",
            "RFC: enac  |   n = 51\n",
            "Fold :  1\n",
            "Fold :  2\n",
            "Fold :  3\n",
            "Fold :  4\n",
            "Fold :  5\n",
            "done\n",
            "train_accuracy :  1.0 \tVal accuracy :  0.33081285444234404\n",
            "train_accuracy :  1.0 \tVal accuracy :  0.4881852551984877\n",
            "train_accuracy :  1.0 \tVal accuracy :  0.6937618147448015\n",
            "train_accuracy :  1.0 \tVal accuracy :  0.8633569739952719\n",
            "train_accuracy :  1.0 \tVal accuracy :  0.4293144208037825\n",
            "------------------------------------------------------------------------------------------------\n",
            "Train accuracy(avg): 1.0 | Val accuracy(avg): 0.5610862638369376\n",
            "================================================================================================\n",
            "RFC: enac  |   n = 61\n",
            "Fold :  1\n",
            "Fold :  2\n",
            "Fold :  3\n",
            "Fold :  4\n",
            "Fold :  5\n",
            "done\n",
            "train_accuracy :  1.0 \tVal accuracy :  0.32277882797731566\n",
            "train_accuracy :  1.0 \tVal accuracy :  0.4725897920604915\n",
            "train_accuracy :  1.0 \tVal accuracy :  0.6999054820415879\n",
            "train_accuracy :  1.0 \tVal accuracy :  0.8619385342789598\n",
            "train_accuracy :  1.0 \tVal accuracy :  0.42789598108747046\n",
            "------------------------------------------------------------------------------------------------\n",
            "Train accuracy(avg): 1.0 | Val accuracy(avg): 0.557021723489165\n",
            "================================================================================================\n",
            "RFC: enac  |   n = 71\n",
            "Fold :  1\n",
            "Fold :  2\n",
            "Fold :  3\n",
            "Fold :  4\n",
            "Fold :  5\n",
            "done\n",
            "train_accuracy :  1.0 \tVal accuracy :  0.32986767485822305\n",
            "train_accuracy :  1.0 \tVal accuracy :  0.4820415879017013\n",
            "train_accuracy :  1.0 \tVal accuracy :  0.6984877126654064\n",
            "train_accuracy :  1.0 \tVal accuracy :  0.8680851063829788\n",
            "train_accuracy :  1.0 \tVal accuracy :  0.42505910165484634\n",
            "------------------------------------------------------------------------------------------------\n",
            "Train accuracy(avg): 1.0 | Val accuracy(avg): 0.5607082366926311\n",
            "================================================================================================\n",
            "RFC: enac  |   n = 81\n",
            "Fold :  1\n",
            "Fold :  2\n",
            "Fold :  3\n",
            "Fold :  4\n",
            "Fold :  5\n",
            "done\n",
            "train_accuracy :  1.0 \tVal accuracy :  0.31758034026465026\n",
            "train_accuracy :  1.0 \tVal accuracy :  0.4768431001890359\n",
            "train_accuracy :  1.0 \tVal accuracy :  0.7074669187145558\n",
            "train_accuracy :  1.0 \tVal accuracy :  0.8633569739952719\n",
            "train_accuracy :  1.0 \tVal accuracy :  0.4226950354609929\n",
            "------------------------------------------------------------------------------------------------\n",
            "Train accuracy(avg): 1.0 | Val accuracy(avg): 0.5575884737249013\n",
            "================================================================================================\n",
            "RFC: enac  |   n = 91\n",
            "Fold :  1\n",
            "Fold :  2\n",
            "Fold :  3\n",
            "Fold :  4\n",
            "Fold :  5\n",
            "done\n",
            "train_accuracy :  1.0 \tVal accuracy :  0.30765595463137996\n",
            "train_accuracy :  1.0 \tVal accuracy :  0.4867674858223062\n",
            "train_accuracy :  1.0 \tVal accuracy :  0.7041587901701323\n",
            "train_accuracy :  1.0 \tVal accuracy :  0.8704491725768322\n",
            "train_accuracy :  1.0 \tVal accuracy :  0.4260047281323877\n",
            "------------------------------------------------------------------------------------------------\n",
            "Train accuracy(avg): 1.0 | Val accuracy(avg): 0.5590072262666077\n",
            "================================================================================================\n"
          ],
          "name": "stdout"
        }
      ]
    },
    {
      "cell_type": "code",
      "metadata": {
        "id": "ZHFEhZGlq4Q8",
        "outputId": "20dcf5cb-1f15-4ebc-f0b6-972875c6081d",
        "colab": {
          "base_uri": "https://localhost:8080/",
          "height": 407
        }
      },
      "source": [
        "i=0  \n",
        "print(\" n      train        val                    \")\n",
        "print(\"===================================================================\")\n",
        "for x in n_list:\n",
        "  print(f\"{x}  -  {n_train_avg[i]} - {n_val_avg[i]}\")\n",
        "  print(\"--------------------------------------------------------------------\")\n",
        "  i=i+1"
      ],
      "execution_count": 28,
      "outputs": [
        {
          "output_type": "stream",
          "text": [
            " n      train        val                    \n",
            "===================================================================\n",
            "1  -  0.9293581891762752 - 0.6155187762270575\n",
            "--------------------------------------------------------------------\n",
            "11  -  0.9990546444987931 - 0.5852803138979384\n",
            "--------------------------------------------------------------------\n",
            "21  -  0.9998581923460508 - 0.5772488347254063\n",
            "--------------------------------------------------------------------\n",
            "31  -  0.9999763649255495 - 0.5625982830354789\n",
            "--------------------------------------------------------------------\n",
            "41  -  1.0 - 0.5615598814838648\n",
            "--------------------------------------------------------------------\n",
            "51  -  1.0 - 0.5610862638369376\n",
            "--------------------------------------------------------------------\n",
            "61  -  1.0 - 0.557021723489165\n",
            "--------------------------------------------------------------------\n",
            "71  -  1.0 - 0.5607082366926311\n",
            "--------------------------------------------------------------------\n",
            "81  -  1.0 - 0.5575884737249013\n",
            "--------------------------------------------------------------------\n",
            "91  -  1.0 - 0.5590072262666077\n",
            "--------------------------------------------------------------------\n"
          ],
          "name": "stdout"
        }
      ]
    },
    {
      "cell_type": "code",
      "metadata": {
        "id": "M-8SwsofHdqv",
        "outputId": "d1c3a06e-d210-4f2f-8a72-93f699f14af9",
        "colab": {
          "base_uri": "https://localhost:8080/",
          "height": 171
        }
      },
      "source": [
        "# Import pyplot\n",
        "import matplotlib.pyplot as plt\n",
        "\n",
        "\n",
        "# Define plot space\n",
        "fig, ax = plt.subplots(figsize=(24, 2))\n",
        "\n",
        "# Define x and y axes\n",
        "ax.plot(n_list, \n",
        "        n_train_avg,\n",
        "        marker = 'o')\n",
        "\n",
        "# Set plot title and axes labels\n",
        "ax.set(title = \"n and Train accuracy\",\n",
        "       xlabel = \"n values\",\n",
        "       ylabel = \"Train accuracy\")\n",
        "\n",
        "plt.show()"
      ],
      "execution_count": 29,
      "outputs": [
        {
          "output_type": "display_data",
          "data": {
            "image/png": "[encoded data removed]",
            "text/plain": [
              "<Figure size 1728x144 with 1 Axes>"
            ]
          },
          "metadata": {
            "tags": [],
            "needs_background": "light"
          }
        }
      ]
    },
    {
      "cell_type": "code",
      "metadata": {
        "id": "oRdyw4YjiRn2",
        "outputId": "7ad1f34b-a65c-4802-be38-856d33c04362",
        "colab": {
          "base_uri": "https://localhost:8080/",
          "height": 171
        }
      },
      "source": [
        "# Import pyplot\n",
        "import matplotlib.pyplot as plt\n",
        "\n",
        "\n",
        "# Define plot space\n",
        "fig, ax = plt.subplots(figsize=(24, 2))\n",
        "\n",
        "# Define x and y axes\n",
        "ax.plot(n_list, \n",
        "        n_val_avg,\n",
        "        marker = 'o')\n",
        "\n",
        "# Set plot title and axes labels\n",
        "ax.set(title = \"n and Val accuracy\",\n",
        "       xlabel = \"n values\",\n",
        "       ylabel = \"Val accuracy\")\n",
        "\n",
        "plt.show()"
      ],
      "execution_count": 30,
      "outputs": [
        {
          "output_type": "display_data",
          "data": {
            "image/png": "[encoded data removed]",
            "text/plain": [
              "<Figure size 1728x144 with 1 Axes>"
            ]
          },
          "metadata": {
            "tags": [],
            "needs_background": "light"
          }
        }
      ]
    },
    {
      "cell_type": "code",
      "metadata": {
        "id": "HM-1X6lRj08s"
      },
      "source": [
        ""
      ],
      "execution_count": null,
      "outputs": []
    }
  ]
}