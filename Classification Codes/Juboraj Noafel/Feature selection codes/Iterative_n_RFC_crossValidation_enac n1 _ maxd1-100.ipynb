{
  "nbformat": 4,
  "nbformat_minor": 0,
  "metadata": {
    "colab": {
      "name": "Iterative_n_RFC_crossValidation_enac.ipynb",
      "provenance": [],
      "collapsed_sections": []
    },
    "kernelspec": {
      "name": "python3",
      "display_name": "Python 3"
    }
  },
  "cells": [
    {
      "cell_type": "code",
      "metadata": {
        "id": "xcg-c9ezGOHr"
      },
      "source": [
        "from sklearn.model_selection import train_test_split\n",
        "import numpy as np"
      ],
      "execution_count": 31,
      "outputs": []
    },
    {
      "cell_type": "code",
      "metadata": {
        "id": "mNgMT0uORFWb"
      },
      "source": [
        "from sklearn.ensemble import RandomForestClassifier"
      ],
      "execution_count": 32,
      "outputs": []
    },
    {
      "cell_type": "code",
      "metadata": {
        "id": "wROFsPwdNRI5"
      },
      "source": [
        "from sklearn.svm import SVC"
      ],
      "execution_count": 33,
      "outputs": []
    },
    {
      "cell_type": "code",
      "metadata": {
        "id": "SkYWCRv0Oyiv"
      },
      "source": [
        "from sklearn.metrics import accuracy_score"
      ],
      "execution_count": 34,
      "outputs": []
    },
    {
      "cell_type": "code",
      "metadata": {
        "id": "VCZnwzteUht2"
      },
      "source": [
        "from sklearn.model_selection import KFold"
      ],
      "execution_count": 35,
      "outputs": []
    },
    {
      "cell_type": "code",
      "metadata": {
        "id": "va5Hjzg8DKsG",
        "outputId": "8a4bed1b-d887-42ad-8fc8-ad5709f6c3a0",
        "colab": {
          "base_uri": "https://localhost:8080/",
          "height": 34
        }
      },
      "source": [
        "from google.colab import drive\n",
        "drive.mount('/content/drive')"
      ],
      "execution_count": 36,
      "outputs": [
        {
          "output_type": "stream",
          "text": [
            "Drive already mounted at /content/drive; to attempt to forcibly remount, call drive.mount(\"/content/drive\", force_remount=True).\n"
          ],
          "name": "stdout"
        }
      ]
    },
    {
      "cell_type": "code",
      "metadata": {
        "id": "yLUt4RggDDLu"
      },
      "source": [
        "#kmer1+kmer2+kmer3+pcpseDNC + enac + pseknc\n",
        "train_neg = [\n",
        "  \"/content/drive/My Drive/Pattern project training/pattern/data/converted/A.thaliana5289_neg/concated result/concated kmer1/A.thaliana5289_neg_kmr1.npy\",\n",
        "  \"/content/drive/My Drive/Pattern project training/pattern/data/converted/A.thaliana5289_neg/concated result/concted kmer2/A.thaliana5289_neg_kmer2.npy\",\n",
        "  \"/content/drive/My Drive/Pattern project training/pattern/data/converted/A.thaliana5289_neg/concated result/concated kmer3/A.thaliana5289_neg_kmer_3.npy\",\n",
        "  \"/content/drive/My Drive/Pattern project training/pattern/data/converted/A.thaliana5289_neg/concated result/PCPseDNC/A.thaliana5289_neg_PCPseDNC.npy\",\n",
        "  \"/content/drive/My Drive/Pattern project training/pattern/data/converted/A.thaliana5289_neg/concated result/concated enac/A.thaliana5289_neg_ENAC.npy\",\n",
        "  \"/content/drive/My Drive/Pattern project training/pattern/data/converted/A.thaliana5289_neg/concated result/pseknc/A.thaliana5289_neg_pseknc.npy\"\n",
        "\n",
        "]\n",
        "train_pos = [\n",
        "  \"/content/drive/My Drive/Pattern project training/pattern/data/converted/A.thaliana5289_pos/combined/Kmer1/A.thaliana5289_pos_kmer_1.npy\",\n",
        "  \"/content/drive/My Drive/Pattern project training/pattern/data/converted/A.thaliana5289_pos/combined/Kmer2/A.thaliana5289_pos_kmer2.npy\",\n",
        "  \"/content/drive/My Drive/Pattern project training/pattern/data/converted/A.thaliana5289_pos/combined/Kmer3/A.thaliana5289_pos_kmer3.npy\",\n",
        "  \"/content/drive/My Drive/Pattern project training/pattern/data/converted/A.thaliana5289_pos/combined/PCPseDNC/A.thaliana5289_pos_PCPseDNC.npy\",\n",
        "  \"/content/drive/My Drive/Pattern project training/pattern/data/converted/A.thaliana5289_pos/combined/ENAC/A.thaliana5289_pos_ENAC.npy\",\n",
        "  \"/content/drive/My Drive/Pattern project training/pattern/data/converted/A.thaliana5289_pos/combined/PSeKNC/A.thaliana5289_pos_PseKNC.npy\"\n",
        "]\n",
        "\n",
        "\n",
        "test_neg = [\n",
        "    \"/content/drive/My Drive/Pattern project training/pattern/data/converted/A.thaliana1000indep_neg/kmer1/A.thaliana1000indep_neg_kmer_1.npy\",\n",
        "    \"/content/drive/My Drive/Pattern project training/pattern/data/converted/A.thaliana1000indep_neg/kmer2/A.thaliana1000indep_neg_kmer2.npy\",\n",
        "    \"/content/drive/My Drive/Pattern project training/pattern/data/converted/A.thaliana1000indep_neg/kmer3/A.thaliana1000indep_neg_kmer_3.npy\",\n",
        "    \"/content/drive/My Drive/Pattern project training/pattern/data/converted/A.thaliana1000indep_neg/PCPseDNC/A.thaliana1000indep_neg_PCPseDNC.npy\",\n",
        "    \"/content/drive/My Drive/Pattern project training/pattern/data/converted/A.thaliana1000indep_neg/enac/A.thaliana1000indep_neg_enac.npy\",\n",
        "    \"/content/drive/My Drive/Pattern project training/pattern/data/converted/A.thaliana1000indep_neg/pseknc/A.thaliana1000indep_neg_pseknc.npy\"    \n",
        "]\n",
        "\n",
        "test_pos = [\n",
        "     \"/content/drive/My Drive/Pattern project training/pattern/data/converted/A.thaliana1000indep_pos/Kmer1/A.thaliana1000indep_pos_kmer_1.npy\",\n",
        "     \"/content/drive/My Drive/Pattern project training/pattern/data/converted/A.thaliana1000indep_pos/kmer2/A.thaliana1000indep_pos_kmer_2.npy\",\n",
        "     \"/content/drive/My Drive/Pattern project training/pattern/data/converted/A.thaliana1000indep_pos/kmer3/A.thaliana1000indep_pos_kmer_3.npy\",\n",
        "     \"/content/drive/My Drive/Pattern project training/pattern/data/converted/A.thaliana1000indep_pos/pcpsednc/A.thaliana1000indep_pos_PCPseDNC.npy\",\n",
        "     \"/content/drive/My Drive/Pattern project training/pattern/data/converted/A.thaliana1000indep_pos/enac/A.thaliana1000indep_pos_enac.npy\",\n",
        "     \"/content/drive/My Drive/Pattern project training/pattern/data/converted/A.thaliana1000indep_pos/pseknc/A.thaliana1000indep_pos_pseknc.npy\"    \n",
        "]"
      ],
      "execution_count": 37,
      "outputs": []
    },
    {
      "cell_type": "code",
      "metadata": {
        "id": "Bkibhn2DD9hU"
      },
      "source": [
        "#train pos load npy\n",
        "x_train_pos1 = np.load(train_pos[0])\n",
        "x_train_pos2 = np.load(train_pos[1])\n",
        "x_train_pos3 = np.load(train_pos[2])\n",
        "x_train_pos4 = np.load(train_pos[3])\n",
        "x_train_pos5 = np.load(train_pos[4])\n",
        "x_train_pos6 = np.load(train_pos[5])\n",
        "\n",
        "#train neg load npy\n",
        "x_train_neg1 = np.load(train_neg[0])\n",
        "x_train_neg2 = np.load(train_neg[1])\n",
        "x_train_neg3 = np.load(train_neg[2])\n",
        "x_train_neg4 = np.load(train_neg[3])\n",
        "x_train_neg5 = np.load(train_neg[4])\n",
        "x_train_neg6 = np.load(train_neg[5])\n",
        "\n",
        "\n",
        "#test pos load npy\n",
        "x_test_pos1 = np.load(test_pos[0])\n",
        "x_test_pos2 = np.load(test_pos[1])\n",
        "x_test_pos3 = np.load(test_pos[2])\n",
        "x_test_pos4 = np.load(test_pos[3])\n",
        "x_test_pos5 = np.load(test_pos[4])\n",
        "x_test_pos6 = np.load(test_pos[5])\n",
        "\n",
        "#test neg load npy\n",
        "x_test_neg1 = np.load(test_neg[0])\n",
        "x_test_neg2 = np.load(test_neg[1])\n",
        "x_test_neg3 = np.load(test_neg[2])\n",
        "x_test_neg4 = np.load(test_neg[3])\n",
        "x_test_neg5 = np.load(test_neg[4])\n",
        "x_test_neg6 = np.load(test_neg[5])\n",
        "\n",
        "\n",
        "x_train_pos = x_train_pos5\n",
        "x_train_neg = x_train_neg5\n",
        "x_test_pos =  x_test_pos5\n",
        "x_test_neg =  x_test_neg5\n",
        " \n",
        "\n",
        "y_train_pos = np.tile(1, 5289) \n",
        "y_train_neg = np.tile(0, 5289) \n",
        "y_test_pos = np.tile(1, 1000) \n",
        "y_test_neg = np.tile(0, 1000) "
      ],
      "execution_count": 38,
      "outputs": []
    },
    {
      "cell_type": "code",
      "metadata": {
        "id": "H84h5ZubMHuZ",
        "outputId": "37e2735f-4a7c-4ff5-bf07-5f5f8a78f97c",
        "colab": {
          "base_uri": "https://localhost:8080/",
          "height": 158
        }
      },
      "source": [
        "print(x_train_pos.shape)\n",
        "print(x_train_neg.shape)\n",
        "print(x_test_pos.shape)\n",
        "print(x_test_neg.shape)\n",
        "\n",
        "print(y_train_pos.shape)\n",
        "print(y_train_neg.shape)\n",
        "print(y_test_pos.shape)\n",
        "print(y_test_neg.shape)"
      ],
      "execution_count": 39,
      "outputs": [
        {
          "output_type": "stream",
          "text": [
            "(5289, 148)\n",
            "(5289, 148)\n",
            "(1000, 148)\n",
            "(1000, 148)\n",
            "(5289,)\n",
            "(5289,)\n",
            "(1000,)\n",
            "(1000,)\n"
          ],
          "name": "stdout"
        }
      ]
    },
    {
      "cell_type": "code",
      "metadata": {
        "id": "4woF7AbhG2D5"
      },
      "source": [
        "seed = 40\n",
        "np.random.seed(seed)"
      ],
      "execution_count": 40,
      "outputs": []
    },
    {
      "cell_type": "code",
      "metadata": {
        "id": "Rxp25B0pIt5S"
      },
      "source": [
        "x_training = np.concatenate((x_train_pos, x_train_neg), axis= 0)\n",
        "y_training = np.concatenate((y_train_pos, y_train_neg))"
      ],
      "execution_count": 41,
      "outputs": []
    },
    {
      "cell_type": "code",
      "metadata": {
        "id": "5SlGQaZ0QtwH"
      },
      "source": [
        "x_test = np.concatenate((x_test_pos, x_test_neg))\n",
        "y_test = np.concatenate((y_test_pos, y_test_neg))"
      ],
      "execution_count": 42,
      "outputs": []
    },
    {
      "cell_type": "code",
      "metadata": {
        "id": "AFWq8oQ9Q8pr",
        "outputId": "d07284cd-cddc-4573-c1bf-07e7f0c11834",
        "colab": {
          "base_uri": "https://localhost:8080/",
          "height": 52
        }
      },
      "source": [
        "print(x_test.shape)\n",
        "print(y_test.shape)"
      ],
      "execution_count": 43,
      "outputs": [
        {
          "output_type": "stream",
          "text": [
            "(2000, 148)\n",
            "(2000,)\n"
          ],
          "name": "stdout"
        }
      ]
    },
    {
      "cell_type": "code",
      "metadata": {
        "id": "r2lmmmO7JotB",
        "outputId": "05b7af20-16dd-45fa-de45-9e0ecafdc20c",
        "colab": {
          "base_uri": "https://localhost:8080/",
          "height": 52
        }
      },
      "source": [
        "print(x_training.shape)\n",
        "print(y_training.shape)"
      ],
      "execution_count": 44,
      "outputs": [
        {
          "output_type": "stream",
          "text": [
            "(10578, 148)\n",
            "(10578,)\n"
          ],
          "name": "stdout"
        }
      ]
    },
    {
      "cell_type": "code",
      "metadata": {
        "id": "s7kBxZXMX5q-",
        "outputId": "a672b71b-7cc9-47da-9c4b-a3365d8c2749",
        "colab": {
          "base_uri": "https://localhost:8080/",
          "height": 72
        }
      },
      "source": [
        "kf = KFold(n_splits=5, random_state=seed)"
      ],
      "execution_count": 45,
      "outputs": [
        {
          "output_type": "stream",
          "text": [
            "/usr/local/lib/python3.6/dist-packages/sklearn/model_selection/_split.py:296: FutureWarning: Setting a random_state has no effect since shuffle is False. This will raise an error in 0.24. You should leave random_state to its default (None), or set shuffle=True.\n",
            "  FutureWarning\n"
          ],
          "name": "stderr"
        }
      ]
    },
    {
      "cell_type": "code",
      "metadata": {
        "id": "veZ7aQjkV_62",
        "outputId": "890c7da8-a78c-4d23-97d7-fb8125f31d91",
        "colab": {
          "base_uri": "https://localhost:8080/",
          "height": 1000
        }
      },
      "source": [
        "j=1\n",
        "n_list=[]\n",
        "n_train_avg = []\n",
        "n_val_avg = [] \n",
        "while j <100:\n",
        "  n = j\n",
        "  sumTrain = sumVal = 0\n",
        "  print(f\"RFC: enac  |   n = 1 , max-depth =  {n}\")\n",
        "  clf = RandomForestClassifier(n_estimators = 1,max_depth=n, random_state=seed)\n",
        "\n",
        "  val_accuracy_list = []\n",
        "  train_accuracy_list = []\n",
        "  n = 1\n",
        "  for train_index, val_index in kf.split(x_training):\n",
        "      print(\"Fold : \",n)\n",
        "      X_train, X_val = x_training[train_index], x_training[val_index]\n",
        "      y_train, y_val = y_training[train_index], y_training[val_index]\n",
        "      \n",
        "      clf.fit(X_train, y_train)\n",
        "\n",
        "      y_val_pred = clf.predict(X_val)\n",
        "      val_accuracy = accuracy_score(y_val, y_val_pred)\n",
        "      val_accuracy_list.append(val_accuracy)\n",
        "\n",
        "      y_train_pred = clf.predict(X_train)\n",
        "      train_accuracy = accuracy_score(y_train, y_train_pred)\n",
        "      train_accuracy_list.append(train_accuracy)\n",
        "\n",
        "\n",
        "      n += 1 \n",
        "\n",
        "  print(\"done\")\n",
        "  for i in range(0, len(train_accuracy_list)):\n",
        "      print(\"train_accuracy : \", train_accuracy_list[i], \"\\tVal accuracy : \", val_accuracy_list[i])\n",
        "      sumTrain = sumTrain + train_accuracy_list[i]\n",
        "      sumVal = sumVal + val_accuracy_list[i]\n",
        "  sumTrain = sumTrain/5.0\n",
        "  sumVal = sumVal/5.0\n",
        "  print(\"------------------------------------------------------------------------------------------------\")\n",
        "  print(f\"Train accuracy(avg): {sumTrain} | Val accuracy(avg): {sumVal}\")\n",
        "  print(\"================================================================================================\")\n",
        "  n_list.append(j)\n",
        "  n_train_avg.append(sumTrain)\n",
        "  n_val_avg.append(sumVal)\n",
        "  j = j+10"
      ],
      "execution_count": 58,
      "outputs": [
        {
          "output_type": "stream",
          "text": [
            "RFC: enac  |   n = 1 , max-depth =  1\n",
            "Fold :  1\n",
            "Fold :  2\n",
            "Fold :  3\n",
            "Fold :  4\n",
            "Fold :  5\n",
            "done\n",
            "train_accuracy :  0.6250295438430631 \tVal accuracy :  0.0\n",
            "train_accuracy :  0.6250295438430631 \tVal accuracy :  0.0\n",
            "train_accuracy :  0.6693453084377216 \tVal accuracy :  0.5151228733459358\n",
            "train_accuracy :  0.6702115089211863 \tVal accuracy :  0.5115839243498818\n",
            "train_accuracy :  0.6664303438496987 \tVal accuracy :  0.5267139479905437\n",
            "------------------------------------------------------------------------------------------------\n",
            "Train accuracy(avg): 0.6512092497789465 | Val accuracy(avg): 0.3106841491372722\n",
            "================================================================================================\n",
            "RFC: enac  |   n = 1 , max-depth =  11\n",
            "Fold :  1\n",
            "Fold :  2\n",
            "Fold :  3\n",
            "Fold :  4\n",
            "Fold :  5\n",
            "done\n",
            "train_accuracy :  0.8919877097612857 \tVal accuracy :  0.5741965973534972\n",
            "train_accuracy :  0.8989600567241787 \tVal accuracy :  0.6157844990548205\n",
            "train_accuracy :  0.8906877806665091 \tVal accuracy :  0.5633270321361059\n",
            "train_accuracy :  0.8849107881365946 \tVal accuracy :  0.6898345153664303\n",
            "train_accuracy :  0.9051163889873567 \tVal accuracy :  0.6108747044917258\n",
            "------------------------------------------------------------------------------------------------\n",
            "Train accuracy(avg): 0.894332544855185 | Val accuracy(avg): 0.6108034696805159\n",
            "================================================================================================\n",
            "RFC: enac  |   n = 1 , max-depth =  21\n",
            "Fold :  1\n",
            "Fold :  2\n",
            "Fold :  3\n",
            "Fold :  4\n",
            "Fold :  5\n",
            "done\n",
            "train_accuracy :  0.9249586386197116 \tVal accuracy :  0.5982986767485823\n",
            "train_accuracy :  0.9270857953202553 \tVal accuracy :  0.6791115311909263\n",
            "train_accuracy :  0.9397305601512644 \tVal accuracy :  0.611531190926276\n",
            "train_accuracy :  0.9191775965969514 \tVal accuracy :  0.6699763593380614\n",
            "train_accuracy :  0.9358383551931939 \tVal accuracy :  0.518676122931442\n",
            "------------------------------------------------------------------------------------------------\n",
            "Train accuracy(avg): 0.9293581891762752 | Val accuracy(avg): 0.6155187762270575\n",
            "================================================================================================\n",
            "RFC: enac  |   n = 1 , max-depth =  31\n",
            "Fold :  1\n",
            "Fold :  2\n",
            "Fold :  3\n",
            "Fold :  4\n",
            "Fold :  5\n",
            "done\n",
            "train_accuracy :  0.9249586386197116 \tVal accuracy :  0.5982986767485823\n",
            "train_accuracy :  0.9270857953202553 \tVal accuracy :  0.6791115311909263\n",
            "train_accuracy :  0.9397305601512644 \tVal accuracy :  0.611531190926276\n",
            "train_accuracy :  0.9191775965969514 \tVal accuracy :  0.6699763593380614\n",
            "train_accuracy :  0.9358383551931939 \tVal accuracy :  0.518676122931442\n",
            "------------------------------------------------------------------------------------------------\n",
            "Train accuracy(avg): 0.9293581891762752 | Val accuracy(avg): 0.6155187762270575\n",
            "================================================================================================\n",
            "RFC: enac  |   n = 1 , max-depth =  41\n",
            "Fold :  1\n",
            "Fold :  2\n",
            "Fold :  3\n",
            "Fold :  4\n",
            "Fold :  5\n",
            "done\n",
            "train_accuracy :  0.9249586386197116 \tVal accuracy :  0.5982986767485823\n",
            "train_accuracy :  0.9270857953202553 \tVal accuracy :  0.6791115311909263\n",
            "train_accuracy :  0.9397305601512644 \tVal accuracy :  0.611531190926276\n",
            "train_accuracy :  0.9191775965969514 \tVal accuracy :  0.6699763593380614\n",
            "train_accuracy :  0.9358383551931939 \tVal accuracy :  0.518676122931442\n",
            "------------------------------------------------------------------------------------------------\n",
            "Train accuracy(avg): 0.9293581891762752 | Val accuracy(avg): 0.6155187762270575\n",
            "================================================================================================\n",
            "RFC: enac  |   n = 1 , max-depth =  51\n",
            "Fold :  1\n",
            "Fold :  2\n",
            "Fold :  3\n",
            "Fold :  4\n",
            "Fold :  5\n",
            "done\n",
            "train_accuracy :  0.9249586386197116 \tVal accuracy :  0.5982986767485823\n",
            "train_accuracy :  0.9270857953202553 \tVal accuracy :  0.6791115311909263\n",
            "train_accuracy :  0.9397305601512644 \tVal accuracy :  0.611531190926276\n",
            "train_accuracy :  0.9191775965969514 \tVal accuracy :  0.6699763593380614\n",
            "train_accuracy :  0.9358383551931939 \tVal accuracy :  0.518676122931442\n",
            "------------------------------------------------------------------------------------------------\n",
            "Train accuracy(avg): 0.9293581891762752 | Val accuracy(avg): 0.6155187762270575\n",
            "================================================================================================\n",
            "RFC: enac  |   n = 1 , max-depth =  61\n",
            "Fold :  1\n",
            "Fold :  2\n",
            "Fold :  3\n",
            "Fold :  4\n",
            "Fold :  5\n",
            "done\n",
            "train_accuracy :  0.9249586386197116 \tVal accuracy :  0.5982986767485823\n",
            "train_accuracy :  0.9270857953202553 \tVal accuracy :  0.6791115311909263\n",
            "train_accuracy :  0.9397305601512644 \tVal accuracy :  0.611531190926276\n",
            "train_accuracy :  0.9191775965969514 \tVal accuracy :  0.6699763593380614\n",
            "train_accuracy :  0.9358383551931939 \tVal accuracy :  0.518676122931442\n",
            "------------------------------------------------------------------------------------------------\n",
            "Train accuracy(avg): 0.9293581891762752 | Val accuracy(avg): 0.6155187762270575\n",
            "================================================================================================\n",
            "RFC: enac  |   n = 1 , max-depth =  71\n",
            "Fold :  1\n",
            "Fold :  2\n",
            "Fold :  3\n",
            "Fold :  4\n",
            "Fold :  5\n",
            "done\n",
            "train_accuracy :  0.9249586386197116 \tVal accuracy :  0.5982986767485823\n",
            "train_accuracy :  0.9270857953202553 \tVal accuracy :  0.6791115311909263\n",
            "train_accuracy :  0.9397305601512644 \tVal accuracy :  0.611531190926276\n",
            "train_accuracy :  0.9191775965969514 \tVal accuracy :  0.6699763593380614\n",
            "train_accuracy :  0.9358383551931939 \tVal accuracy :  0.518676122931442\n",
            "------------------------------------------------------------------------------------------------\n",
            "Train accuracy(avg): 0.9293581891762752 | Val accuracy(avg): 0.6155187762270575\n",
            "================================================================================================\n",
            "RFC: enac  |   n = 1 , max-depth =  81\n",
            "Fold :  1\n",
            "Fold :  2\n",
            "Fold :  3\n",
            "Fold :  4\n",
            "Fold :  5\n",
            "done\n",
            "train_accuracy :  0.9249586386197116 \tVal accuracy :  0.5982986767485823\n",
            "train_accuracy :  0.9270857953202553 \tVal accuracy :  0.6791115311909263\n",
            "train_accuracy :  0.9397305601512644 \tVal accuracy :  0.611531190926276\n",
            "train_accuracy :  0.9191775965969514 \tVal accuracy :  0.6699763593380614\n",
            "train_accuracy :  0.9358383551931939 \tVal accuracy :  0.518676122931442\n",
            "------------------------------------------------------------------------------------------------\n",
            "Train accuracy(avg): 0.9293581891762752 | Val accuracy(avg): 0.6155187762270575\n",
            "================================================================================================\n",
            "RFC: enac  |   n = 1 , max-depth =  91\n",
            "Fold :  1\n",
            "Fold :  2\n",
            "Fold :  3\n",
            "Fold :  4\n",
            "Fold :  5\n",
            "done\n",
            "train_accuracy :  0.9249586386197116 \tVal accuracy :  0.5982986767485823\n",
            "train_accuracy :  0.9270857953202553 \tVal accuracy :  0.6791115311909263\n",
            "train_accuracy :  0.9397305601512644 \tVal accuracy :  0.611531190926276\n",
            "train_accuracy :  0.9191775965969514 \tVal accuracy :  0.6699763593380614\n",
            "train_accuracy :  0.9358383551931939 \tVal accuracy :  0.518676122931442\n",
            "------------------------------------------------------------------------------------------------\n",
            "Train accuracy(avg): 0.9293581891762752 | Val accuracy(avg): 0.6155187762270575\n",
            "================================================================================================\n"
          ],
          "name": "stdout"
        }
      ]
    },
    {
      "cell_type": "code",
      "metadata": {
        "id": "ZHFEhZGlq4Q8",
        "outputId": "86985b36-ba38-41bc-c556-cbe0ee3de8a9",
        "colab": {
          "base_uri": "https://localhost:8080/",
          "height": 407
        }
      },
      "source": [
        "i=0  \n",
        "print(\" md      train        val                    \")\n",
        "print(\"===================================================================\")\n",
        "for x in n_list:\n",
        "  print(f\"{x}  -  {n_train_avg[i]} - {n_val_avg[i]}\")\n",
        "  print(\"--------------------------------------------------------------------\")\n",
        "  i=i+1"
      ],
      "execution_count": 53,
      "outputs": [
        {
          "output_type": "stream",
          "text": [
            " md      train        val                    \n",
            "===================================================================\n",
            "1  -  0.6512092497789465 - 0.3106841491372722\n",
            "--------------------------------------------------------------------\n",
            "11  -  0.894332544855185 - 0.6108034696805159\n",
            "--------------------------------------------------------------------\n",
            "21  -  0.9293581891762752 - 0.6155187762270575\n",
            "--------------------------------------------------------------------\n",
            "31  -  0.9293581891762752 - 0.6155187762270575\n",
            "--------------------------------------------------------------------\n",
            "41  -  0.9293581891762752 - 0.6155187762270575\n",
            "--------------------------------------------------------------------\n",
            "51  -  0.9293581891762752 - 0.6155187762270575\n",
            "--------------------------------------------------------------------\n",
            "61  -  0.9293581891762752 - 0.6155187762270575\n",
            "--------------------------------------------------------------------\n",
            "71  -  0.9293581891762752 - 0.6155187762270575\n",
            "--------------------------------------------------------------------\n",
            "81  -  0.9293581891762752 - 0.6155187762270575\n",
            "--------------------------------------------------------------------\n",
            "91  -  0.9293581891762752 - 0.6155187762270575\n",
            "--------------------------------------------------------------------\n"
          ],
          "name": "stdout"
        }
      ]
    },
    {
      "cell_type": "code",
      "metadata": {
        "id": "M-8SwsofHdqv",
        "outputId": "13b64beb-764b-405d-b87b-968c766bab89",
        "colab": {
          "base_uri": "https://localhost:8080/",
          "height": 172
        }
      },
      "source": [
        "# Import pyplot\n",
        "import matplotlib.pyplot as plt\n",
        "\n",
        "\n",
        "# Define plot space\n",
        "fig, ax = plt.subplots(figsize=(24, 2))\n",
        "\n",
        "# Define x and y axes\n",
        "ax.plot(n_list, \n",
        "        n_train_avg,\n",
        "        marker = 'o')\n",
        "\n",
        "# Set plot title and axes labels\n",
        "ax.set(title = \"max-depth and Train accuracy\",\n",
        "       xlabel = \"max-depth values\",\n",
        "       ylabel = \"Train accuracy\")\n",
        "\n",
        "plt.show()"
      ],
      "execution_count": 56,
      "outputs": [
        {
          "output_type": "display_data",
          "data": {
            "image/png": "[encoded data removed]",
            "text/plain": [
              "<Figure size 1728x144 with 1 Axes>"
            ]
          },
          "metadata": {
            "tags": [],
            "needs_background": "light"
          }
        }
      ]
    },
    {
      "cell_type": "code",
      "metadata": {
        "id": "oRdyw4YjiRn2",
        "outputId": "e99878fd-701e-4ac1-caee-75964d0c088a",
        "colab": {
          "base_uri": "https://localhost:8080/",
          "height": 172
        }
      },
      "source": [
        "# Import pyplot\n",
        "import matplotlib.pyplot as plt\n",
        "\n",
        "\n",
        "# Define plot space\n",
        "fig, ax = plt.subplots(figsize=(24, 2))\n",
        "\n",
        "# Define x and y axes\n",
        "ax.plot(n_list, \n",
        "        n_val_avg,\n",
        "        marker = 'o')\n",
        "\n",
        "# Set plot title and axes labels\n",
        "ax.set(title = \"max-depth and Train accuracy\",\n",
        "       xlabel = \"max-depth values\",\n",
        "       ylabel = \"Train accuracy\")\n",
        "\n",
        "plt.show()"
      ],
      "execution_count": 57,
      "outputs": [
        {
          "output_type": "display_data",
          "data": {
            "image/png": "[encoded data removed]",
            "text/plain": [
              "<Figure size 1728x144 with 1 Axes>"
            ]
          },
          "metadata": {
            "tags": [],
            "needs_background": "light"
          }
        }
      ]
    },
    {
      "cell_type": "code",
      "metadata": {
        "id": "HM-1X6lRj08s"
      },
      "source": [
        ""
      ],
      "execution_count": null,
      "outputs": []
    }
  ]
}