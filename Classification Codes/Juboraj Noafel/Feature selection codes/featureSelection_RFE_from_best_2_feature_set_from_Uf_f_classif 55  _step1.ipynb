{
  "nbformat": 4,
  "nbformat_minor": 0,
  "metadata": {
    "colab": {
      "name": "featureSelection_RFE from best 2 feature set from Uf_f_classif .ipynb",
      "provenance": [],
      "collapsed_sections": [],
      "toc_visible": true
    },
    "kernelspec": {
      "name": "python3",
      "display_name": "Python 3"
    }
  },
  "cells": [
    {
      "cell_type": "code",
      "metadata": {
        "id": "cfEyyeE4heLd",
        "colab_type": "code",
        "colab": {}
      },
      "source": [
        "import numpy as np"
      ],
      "execution_count": 53,
      "outputs": []
    },
    {
      "cell_type": "code",
      "metadata": {
        "colab_type": "code",
        "id": "t9Ca03V1SsON",
        "colab": {}
      },
      "source": [
        "# Python program to sort a list of \n",
        "# tuples by the second Item using sort()  \n",
        "  \n",
        "# Function to sort hte list by second item of tuple \n",
        "def Sort_Tuple(tup):  \n",
        "  \n",
        "    # reverse = None (Sorts in Ascending order)  \n",
        "    # key is set to sort using second element of  \n",
        "    # sublist lambda has been used  \n",
        "    tup.sort(reverse=True, key = lambda x: x[0])  \n",
        "    return tup  "
      ],
      "execution_count": 54,
      "outputs": []
    },
    {
      "cell_type": "code",
      "metadata": {
        "id": "qgtL3tfohUBb",
        "colab_type": "code",
        "colab": {}
      },
      "source": [
        "#kmer1+kmer2+kmer3+pcpseDNC + enac + pseknc\n",
        "train_neg = [\n",
        "  \"/content/drive/My Drive/Pattern project training/pattern/data/converted/A.thaliana5289_neg/concated result/concated kmer1/A.thaliana5289_neg_kmr1.npy\",\n",
        "  \"/content/drive/My Drive/Pattern project training/pattern/data/converted/A.thaliana5289_neg/concated result/concted kmer2/A.thaliana5289_neg_kmer2.npy\",\n",
        "  \"/content/drive/My Drive/Pattern project training/pattern/data/converted/A.thaliana5289_neg/concated result/concated kmer3/A.thaliana5289_neg_kmer_3.npy\",\n",
        "  \"/content/drive/My Drive/Pattern project training/pattern/data/converted/A.thaliana5289_neg/concated result/PCPseDNC/A.thaliana5289_neg_PCPseDNC.npy\",\n",
        "  \"/content/drive/My Drive/Pattern project training/pattern/data/converted/A.thaliana5289_neg/concated result/concated enac/A.thaliana5289_neg_ENAC.npy\",\n",
        "  \"/content/drive/My Drive/Pattern project training/pattern/data/converted/A.thaliana5289_neg/concated result/pseknc/A.thaliana5289_neg_pseknc.npy\"\n",
        "\n",
        "]\n",
        "train_pos = [\n",
        "  \"/content/drive/My Drive/Pattern project training/pattern/data/converted/A.thaliana5289_pos/combined/Kmer1/A.thaliana5289_pos_kmer_1.npy\",\n",
        "  \"/content/drive/My Drive/Pattern project training/pattern/data/converted/A.thaliana5289_pos/combined/Kmer2/A.thaliana5289_pos_kmer2.npy\",\n",
        "  \"/content/drive/My Drive/Pattern project training/pattern/data/converted/A.thaliana5289_pos/combined/Kmer3/A.thaliana5289_pos_kmer3.npy\",\n",
        "  \"/content/drive/My Drive/Pattern project training/pattern/data/converted/A.thaliana5289_pos/combined/PCPseDNC/A.thaliana5289_pos_PCPseDNC.npy\",\n",
        "  \"/content/drive/My Drive/Pattern project training/pattern/data/converted/A.thaliana5289_pos/combined/ENAC/A.thaliana5289_pos_ENAC.npy\",\n",
        "  \"/content/drive/My Drive/Pattern project training/pattern/data/converted/A.thaliana5289_pos/combined/PSeKNC/A.thaliana5289_pos_PseKNC.npy\"\n",
        "]\n",
        "\n",
        "\n",
        "test_neg = [\n",
        "    \"/content/drive/My Drive/Pattern project training/pattern/data/converted/A.thaliana1000indep_neg/kmer1/A.thaliana1000indep_neg_kmer_1.npy\",\n",
        "    \"/content/drive/My Drive/Pattern project training/pattern/data/converted/A.thaliana1000indep_neg/kmer2/A.thaliana1000indep_neg_kmer2.npy\",\n",
        "    \"/content/drive/My Drive/Pattern project training/pattern/data/converted/A.thaliana1000indep_neg/kmer3/A.thaliana1000indep_neg_kmer_3.npy\",\n",
        "    \"/content/drive/My Drive/Pattern project training/pattern/data/converted/A.thaliana1000indep_neg/PCPseDNC/A.thaliana1000indep_neg_PCPseDNC.npy\",\n",
        "    \"/content/drive/My Drive/Pattern project training/pattern/data/converted/A.thaliana1000indep_neg/enac/A.thaliana1000indep_neg_enac.npy\",\n",
        "    \"/content/drive/My Drive/Pattern project training/pattern/data/converted/A.thaliana1000indep_neg/pseknc/A.thaliana1000indep_neg_pseknc.npy\"    \n",
        "]\n",
        "\n",
        "test_pos = [\n",
        "     \"/content/drive/My Drive/Pattern project training/pattern/data/converted/A.thaliana1000indep_pos/Kmer1/A.thaliana1000indep_pos_kmer_1.npy\",\n",
        "     \"/content/drive/My Drive/Pattern project training/pattern/data/converted/A.thaliana1000indep_pos/kmer2/A.thaliana1000indep_pos_kmer_2.npy\",\n",
        "     \"/content/drive/My Drive/Pattern project training/pattern/data/converted/A.thaliana1000indep_pos/kmer3/A.thaliana1000indep_pos_kmer_3.npy\",\n",
        "     \"/content/drive/My Drive/Pattern project training/pattern/data/converted/A.thaliana1000indep_pos/pcpsednc/A.thaliana1000indep_pos_PCPseDNC.npy\",\n",
        "     \"/content/drive/My Drive/Pattern project training/pattern/data/converted/A.thaliana1000indep_pos/enac/A.thaliana1000indep_pos_enac.npy\",\n",
        "     \"/content/drive/My Drive/Pattern project training/pattern/data/converted/A.thaliana1000indep_pos/pseknc/A.thaliana1000indep_pos_pseknc.npy\"    \n",
        "]"
      ],
      "execution_count": 55,
      "outputs": []
    },
    {
      "cell_type": "code",
      "metadata": {
        "id": "XXERRUdT_jG3",
        "colab_type": "code",
        "colab": {}
      },
      "source": [
        "#train pos load npy\n",
        "x_train_pos1 = np.load(train_pos[0])\n",
        "x_train_pos2 = np.load(train_pos[1])\n",
        "x_train_pos3 = np.load(train_pos[2])\n",
        "x_train_pos4 = np.load(train_pos[3])\n",
        "x_train_pos5 = np.load(train_pos[4])\n",
        "x_train_pos6 = np.load(train_pos[5])\n",
        "\n",
        "#train neg load npy\n",
        "x_train_neg1 = np.load(train_neg[0])\n",
        "x_train_neg2 = np.load(train_neg[1])\n",
        "x_train_neg3 = np.load(train_neg[2])\n",
        "x_train_neg4 = np.load(train_neg[3])\n",
        "x_train_neg5 = np.load(train_neg[4])\n",
        "x_train_neg6 = np.load(train_neg[5])\n",
        "\n",
        "\n",
        "#test pos load npy\n",
        "x_test_pos1 = np.load(test_pos[0])\n",
        "x_test_pos2 = np.load(test_pos[1])\n",
        "x_test_pos3 = np.load(test_pos[2])\n",
        "x_test_pos4 = np.load(test_pos[3])\n",
        "x_test_pos5 = np.load(test_pos[4])\n",
        "x_test_pos6 = np.load(test_pos[5])\n",
        "\n",
        "#test neg load npy\n",
        "x_test_neg1 = np.load(test_neg[0])\n",
        "x_test_neg2 = np.load(test_neg[1])\n",
        "x_test_neg3 = np.load(test_neg[2])\n",
        "x_test_neg4 = np.load(test_neg[3])\n",
        "x_test_neg5 = np.load(test_neg[4])\n",
        "x_test_neg6 = np.load(test_neg[5])\n",
        "\n",
        "\n",
        "x_train_pos = np.concatenate((x_train_pos2,x_train_pos5),axis=1) \n",
        "x_train_neg = np.concatenate((x_train_neg2,x_train_neg5),axis=1) \n",
        "x_test_pos = np.concatenate((x_test_pos2,x_test_pos5),axis=1) \n",
        "x_test_neg = np.concatenate((x_test_neg2,x_test_neg5),axis=1) \n",
        "\n",
        "\n",
        "y_train_pos = np.tile(1, 5289) \n",
        "y_train_neg = np.tile(0, 5289) \n",
        "y_test_pos = np.tile(1, 1000) \n",
        "y_test_neg = np.tile(0, 1000) "
      ],
      "execution_count": 56,
      "outputs": []
    },
    {
      "cell_type": "code",
      "metadata": {
        "id": "LgX9fPFxEMsu",
        "colab_type": "code",
        "colab": {
          "base_uri": "https://localhost:8080/",
          "height": 34
        },
        "outputId": "44219740-8d4f-4187-ef72-c76169b84420"
      },
      "source": [
        "x_test_neg.shape"
      ],
      "execution_count": 57,
      "outputs": [
        {
          "output_type": "execute_result",
          "data": {
            "text/plain": [
              "(1000, 164)"
            ]
          },
          "metadata": {
            "tags": []
          },
          "execution_count": 57
        }
      ]
    },
    {
      "cell_type": "code",
      "metadata": {
        "id": "8nj4hVtWFNNq",
        "colab_type": "code",
        "colab": {
          "base_uri": "https://localhost:8080/",
          "height": 158
        },
        "outputId": "54d2a4ee-41a2-418c-e082-60556ba5283c"
      },
      "source": [
        "print(x_train_pos.shape)\n",
        "print(x_train_neg.shape)\n",
        "print(x_test_pos.shape)\n",
        "print(x_test_neg.shape)\n",
        "\n",
        "print(y_train_pos.shape)\n",
        "print(y_train_neg.shape)\n",
        "print(y_test_pos.shape)\n",
        "print(y_test_neg.shape)"
      ],
      "execution_count": 58,
      "outputs": [
        {
          "output_type": "stream",
          "text": [
            "(5289, 164)\n",
            "(5289, 164)\n",
            "(1000, 164)\n",
            "(1000, 164)\n",
            "(5289,)\n",
            "(5289,)\n",
            "(1000,)\n",
            "(1000,)\n"
          ],
          "name": "stdout"
        }
      ]
    },
    {
      "cell_type": "code",
      "metadata": {
        "id": "dVTjZko6F19S",
        "colab_type": "code",
        "colab": {}
      },
      "source": [
        "seed = 40\n",
        "np.random.seed(seed)"
      ],
      "execution_count": 59,
      "outputs": []
    },
    {
      "cell_type": "code",
      "metadata": {
        "id": "Zfwq8bPMF626",
        "colab_type": "code",
        "colab": {}
      },
      "source": [
        "x_training = np.concatenate((x_train_pos, x_train_neg), axis= 0)\n",
        "y_training = np.concatenate((y_train_pos, y_train_neg))"
      ],
      "execution_count": 60,
      "outputs": []
    },
    {
      "cell_type": "code",
      "metadata": {
        "id": "fXtjZzZsGAaa",
        "colab_type": "code",
        "colab": {}
      },
      "source": [
        "x_test = np.concatenate((x_test_pos, x_test_neg), axis = 0)\n",
        "y_test = np.concatenate((y_test_pos, y_test_neg))"
      ],
      "execution_count": 61,
      "outputs": []
    },
    {
      "cell_type": "code",
      "metadata": {
        "id": "a_R55xfrGgvp",
        "colab_type": "code",
        "colab": {}
      },
      "source": [
        "from sklearn.feature_selection import RFE\n",
        "from sklearn.ensemble import RandomForestClassifier\n",
        "\n",
        "estimator = RandomForestClassifier(random_state = seed)\n",
        "#1/3 = 55      1/5 = 33        1/7 = 24\n",
        "val = 55\n",
        "selector = RFE(estimator, val, step=1)\n",
        "selector = selector.fit(x_training, y_training)\n",
        "mask = selector.get_support() #list of booleans for selected features\n",
        "\n",
        "i = 0\n",
        "new_list = []\n",
        "while(i< x_train_pos.shape[1]):\n",
        "  if(mask[i]==1):\n",
        "    new_list.append(i)\n",
        "  i=i+1"
      ],
      "execution_count": 62,
      "outputs": []
    },
    {
      "cell_type": "code",
      "metadata": {
        "id": "y3dzYb1_OGES",
        "colab_type": "code",
        "colab": {
          "base_uri": "https://localhost:8080/",
          "height": 54
        },
        "outputId": "9f7b2c6d-9c64-42ca-9257-07fc76e7db65"
      },
      "source": [
        "print(new_list)"
      ],
      "execution_count": 63,
      "outputs": [
        {
          "output_type": "stream",
          "text": [
            "[0, 2, 3, 4, 5, 6, 7, 8, 9, 10, 11, 12, 13, 14, 15, 21, 22, 23, 25, 29, 32, 34, 38, 39, 42, 45, 49, 54, 66, 70, 74, 81, 85, 89, 93, 105, 106, 109, 110, 113, 118, 130, 131, 133, 135, 138, 141, 146, 149, 151, 153, 154, 157, 162, 163]\n"
          ],
          "name": "stdout"
        }
      ]
    },
    {
      "cell_type": "code",
      "metadata": {
        "id": "wSfI_QpCOhSJ",
        "colab_type": "code",
        "colab": {}
      },
      "source": [
        "f1 = f2 = 0\n",
        "for x in new_list:\n",
        "  if (x < 16):\n",
        "    f1=f1+1\n",
        "  else:\n",
        "    f2 = f2+1"
      ],
      "execution_count": 64,
      "outputs": []
    },
    {
      "cell_type": "code",
      "metadata": {
        "id": "b06HIxJ-Qtxr",
        "colab_type": "code",
        "colab": {}
      },
      "source": [
        "list_new = [(f1,\"kmer2\"),(f2,\"enac\")]"
      ],
      "execution_count": 65,
      "outputs": []
    },
    {
      "cell_type": "code",
      "metadata": {
        "id": "O_eJ9iV_Q6yG",
        "colab_type": "code",
        "colab": {
          "base_uri": "https://localhost:8080/",
          "height": 34
        },
        "outputId": "56a135d2-f7df-46f1-b934-e0ad37660005"
      },
      "source": [
        "print(Sort_Tuple(list_new))"
      ],
      "execution_count": 66,
      "outputs": [
        {
          "output_type": "stream",
          "text": [
            "[(40, 'enac'), (15, 'kmer2')]\n"
          ],
          "name": "stdout"
        }
      ]
    },
    {
      "cell_type": "code",
      "metadata": {
        "id": "dE4XWJo4Tb7f",
        "colab_type": "code",
        "colab": {}
      },
      "source": [
        ""
      ],
      "execution_count": null,
      "outputs": []
    }
  ]
}