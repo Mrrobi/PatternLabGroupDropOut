{
  "nbformat": 4,
  "nbformat_minor": 0,
  "metadata": {
    "colab": {
      "name": "Iterative_c_SVC_crossValidation_enac.ipynb",
      "provenance": [],
      "collapsed_sections": []
    },
    "kernelspec": {
      "name": "python3",
      "display_name": "Python 3"
    }
  },
  "cells": [
    {
      "cell_type": "code",
      "metadata": {
        "id": "xcg-c9ezGOHr",
        "colab_type": "code",
        "colab": {}
      },
      "source": [
        "from sklearn.model_selection import train_test_split\n",
        "import numpy as np"
      ],
      "execution_count": 1,
      "outputs": []
    },
    {
      "cell_type": "code",
      "metadata": {
        "id": "wROFsPwdNRI5",
        "colab_type": "code",
        "colab": {}
      },
      "source": [
        "from sklearn.svm import SVC"
      ],
      "execution_count": 2,
      "outputs": []
    },
    {
      "cell_type": "code",
      "metadata": {
        "id": "SkYWCRv0Oyiv",
        "colab_type": "code",
        "colab": {}
      },
      "source": [
        "from sklearn.metrics import accuracy_score"
      ],
      "execution_count": 3,
      "outputs": []
    },
    {
      "cell_type": "code",
      "metadata": {
        "id": "VCZnwzteUht2",
        "colab_type": "code",
        "colab": {}
      },
      "source": [
        "from sklearn.model_selection import KFold"
      ],
      "execution_count": 4,
      "outputs": []
    },
    {
      "cell_type": "code",
      "metadata": {
        "id": "va5Hjzg8DKsG",
        "colab_type": "code",
        "colab": {
          "base_uri": "https://localhost:8080/",
          "height": 34
        },
        "outputId": "cc5301f5-f1f7-4167-826e-7de05dec964b"
      },
      "source": [
        "from google.colab import drive\n",
        "drive.mount('/content/drive')"
      ],
      "execution_count": 6,
      "outputs": [
        {
          "output_type": "stream",
          "text": [
            "Drive already mounted at /content/drive; to attempt to forcibly remount, call drive.mount(\"/content/drive\", force_remount=True).\n"
          ],
          "name": "stdout"
        }
      ]
    },
    {
      "cell_type": "code",
      "metadata": {
        "id": "yLUt4RggDDLu",
        "colab_type": "code",
        "colab": {}
      },
      "source": [
        "#kmer1\n",
        "fs1Train = [\"/content/drive/My Drive/Pattern project training/pattern/data/converted/A.thaliana5289_pos/combined/Kmer1/A.thaliana5289indep_pos_kmer_1.npy\",\n",
        "                   \"/content/drive/My Drive/Pattern project training/pattern/data/converted/A.thaliana5289_neg/concated result/concated kmer1/A.thaliana5289_neg_kmr1.npy\"]\n",
        "fs1Test = [\"/content/drive/My Drive/Pattern project training/pattern/npy/A.thaliana1000indep_pos_kmer_1.npy\", \n",
        "                  \"/content/drive/My Drive/Pattern project training/pattern/npy/A.thaliana1000indep_neg_kmer_1.npy\"]\n",
        "\n",
        "\n",
        "#enac\n",
        "fs2Train = [\"/content/drive/My Drive/Pattern project training/pattern/data/converted/A.thaliana5289_pos/combined/ENAC/A.thaliana5289indep_pos_ENAC.npy\",\n",
        "                   \"/content/drive/My Drive/Pattern project training/pattern/data/converted/A.thaliana5289_neg/concated result/concated enac/A.thaliana5289_neg_ENAC.npy\"]\n",
        "fs2Test = [\"/content/drive/My Drive/Pattern project training/pattern/npy/A.thaliana1000indep_pos_ENAC.npy\", \n",
        "                  \"/content/drive/My Drive/Pattern project training/pattern/npy/A.thaliana1000indep_neg_enac.npy\"]"
      ],
      "execution_count": 7,
      "outputs": []
    },
    {
      "cell_type": "code",
      "metadata": {
        "id": "Bkibhn2DD9hU",
        "colab_type": "code",
        "colab": {}
      },
      "source": [
        "kmer1_pos_5289 = fs1Train[0]\n",
        "kmer1_neg_5289 = fs1Train[1]\n",
        "kmer1_pos_1000 = fs1Test[0]\n",
        "kmer1_neg_1000 = fs1Test[1]\n",
        "\n",
        "\n",
        "enac_pos_5289 = fs2Train[0]\n",
        "enac_neg_5289 = fs2Train[1]\n",
        "enac_pos_1000 = fs2Test[0]\n",
        "enac_neg_1000 = fs2Test[1]\n",
        "\n",
        "\n",
        "\n",
        "x_train_pos = np.load(enac_pos_5289) \n",
        "x_train_neg = np.load(enac_neg_5289) \n",
        "x_test_pos = np.load(enac_pos_1000)  \n",
        "x_test_neg = np.load(enac_neg_1000)  \n",
        "\n",
        "y_train_pos = np.tile(1, 5289) \n",
        "y_train_neg = np.tile(0, 5289) \n",
        "y_test_pos = np.tile(1, 1000) \n",
        "y_test_neg = np.tile(0, 1000) "
      ],
      "execution_count": 8,
      "outputs": []
    },
    {
      "cell_type": "code",
      "metadata": {
        "id": "H84h5ZubMHuZ",
        "colab_type": "code",
        "colab": {
          "base_uri": "https://localhost:8080/",
          "height": 153
        },
        "outputId": "f5624db8-4092-4495-924c-1aacaaed65e6"
      },
      "source": [
        "print(x_train_pos.shape)\n",
        "print(x_train_neg.shape)\n",
        "print(x_test_pos.shape)\n",
        "print(x_test_neg.shape)\n",
        "\n",
        "print(y_train_pos.shape)\n",
        "print(y_train_neg.shape)\n",
        "print(y_test_pos.shape)\n",
        "print(y_test_neg.shape)"
      ],
      "execution_count": 9,
      "outputs": [
        {
          "output_type": "stream",
          "text": [
            "(5289, 148)\n",
            "(5289, 148)\n",
            "(1000, 148)\n",
            "(1000, 148)\n",
            "(5289,)\n",
            "(5289,)\n",
            "(1000,)\n",
            "(1000,)\n"
          ],
          "name": "stdout"
        }
      ]
    },
    {
      "cell_type": "code",
      "metadata": {
        "id": "4woF7AbhG2D5",
        "colab_type": "code",
        "colab": {}
      },
      "source": [
        "seed = 40\n",
        "np.random.seed(seed)"
      ],
      "execution_count": 10,
      "outputs": []
    },
    {
      "cell_type": "code",
      "metadata": {
        "id": "Rxp25B0pIt5S",
        "colab_type": "code",
        "colab": {}
      },
      "source": [
        "x_training = np.concatenate((x_train_pos, x_train_neg), axis= 0)\n",
        "y_training = np.concatenate((y_train_pos, y_train_neg))"
      ],
      "execution_count": 11,
      "outputs": []
    },
    {
      "cell_type": "code",
      "metadata": {
        "id": "5SlGQaZ0QtwH",
        "colab_type": "code",
        "colab": {}
      },
      "source": [
        "x_test = np.concatenate((x_test_pos, x_test_neg))\n",
        "y_test = np.concatenate((y_test_pos, y_test_neg))"
      ],
      "execution_count": 12,
      "outputs": []
    },
    {
      "cell_type": "code",
      "metadata": {
        "id": "AFWq8oQ9Q8pr",
        "colab_type": "code",
        "colab": {
          "base_uri": "https://localhost:8080/",
          "height": 51
        },
        "outputId": "78ceb114-23db-4afa-9650-78fa5e254d12"
      },
      "source": [
        "print(x_test.shape)\n",
        "print(y_test.shape)"
      ],
      "execution_count": 13,
      "outputs": [
        {
          "output_type": "stream",
          "text": [
            "(2000, 148)\n",
            "(2000,)\n"
          ],
          "name": "stdout"
        }
      ]
    },
    {
      "cell_type": "code",
      "metadata": {
        "id": "r2lmmmO7JotB",
        "colab_type": "code",
        "colab": {
          "base_uri": "https://localhost:8080/",
          "height": 51
        },
        "outputId": "e0b7dcea-d690-443c-a0ac-c35c112ad06e"
      },
      "source": [
        "print(x_training.shape)\n",
        "print(y_training.shape)"
      ],
      "execution_count": 14,
      "outputs": [
        {
          "output_type": "stream",
          "text": [
            "(10578, 148)\n",
            "(10578,)\n"
          ],
          "name": "stdout"
        }
      ]
    },
    {
      "cell_type": "code",
      "metadata": {
        "id": "s7kBxZXMX5q-",
        "colab_type": "code",
        "colab": {
          "base_uri": "https://localhost:8080/",
          "height": 71
        },
        "outputId": "b207db8f-ab0d-422e-b4be-b53c1e925838"
      },
      "source": [
        "kf = KFold(n_splits=5, random_state=seed)"
      ],
      "execution_count": 15,
      "outputs": [
        {
          "output_type": "stream",
          "text": [
            "/usr/local/lib/python3.6/dist-packages/sklearn/model_selection/_split.py:296: FutureWarning: Setting a random_state has no effect since shuffle is False. This will raise an error in 0.24. You should leave random_state to its default (None), or set shuffle=True.\n",
            "  FutureWarning\n"
          ],
          "name": "stderr"
        }
      ]
    },
    {
      "cell_type": "code",
      "metadata": {
        "id": "veZ7aQjkV_62",
        "colab_type": "code",
        "colab": {
          "base_uri": "https://localhost:8080/",
          "height": 1000
        },
        "outputId": "da1990de-b566-47ad-b8d6-88f7e35ad2a6"
      },
      "source": [
        "j=10\n",
        "c_list=[]\n",
        "c_test_avg =[]\n",
        "c_train_avg = []\n",
        "c_val_avg = [] \n",
        "while j <= 100:\n",
        "  c = j\n",
        "  sumTrain = sumVal = sumTest =  0\n",
        "  print(f\"SVC: enac  |   c = {c}\")\n",
        "  clf = SVC(C=c,  random_state = seed)\n",
        "\n",
        "  val_accuracy_list = []\n",
        "  train_accuracy_list = []\n",
        "  test_accuracy_list = []\n",
        "  c = 1\n",
        "  for train_index, val_index in kf.split(x_training):\n",
        "      print(\"Fold : \",c)\n",
        "      X_train, X_val = x_training[train_index], x_training[val_index]\n",
        "      y_train, y_val = y_training[train_index], y_training[val_index]\n",
        "      \n",
        "      clf.fit(X_train, y_train)\n",
        "\n",
        "      y_val_pred = clf.predict(X_val)\n",
        "      val_accuracy = accuracy_score(y_val, y_val_pred)\n",
        "      val_accuracy_list.append(val_accuracy)\n",
        "\n",
        "      y_train_pred = clf.predict(X_train)\n",
        "      train_accuracy = accuracy_score(y_train, y_train_pred)\n",
        "      train_accuracy_list.append(train_accuracy)\n",
        "\n",
        "      y_test_pred = clf.predict(x_test)\n",
        "      test_accuracy = accuracy_score(y_test, y_test_pred)\n",
        "      test_accuracy_list.append(test_accuracy)\n",
        "\n",
        "      c += 1 \n",
        "\n",
        "  print(\"done\")\n",
        "  for i in range(0, len(train_accuracy_list)):\n",
        "      print(\"train_accuracy : \", train_accuracy_list[i], \"\\tVal accuracy : \", val_accuracy_list[i], \"\\tTest accuracy : \", test_accuracy_list[i])\n",
        "      sumTrain = sumTrain + train_accuracy_list[i]\n",
        "      sumVal = sumVal + val_accuracy_list[i]\n",
        "      sumTest = sumTest + test_accuracy_list[i]\n",
        "  sumTrain = sumTrain/5.0\n",
        "  sumVal = sumVal/5.0\n",
        "  sumTest = sumTest/5.0\n",
        "  print(\"------------------------------------------------------------------------------------------------\")\n",
        "  print(f\"Train accuracy(avg): {sumTrain} | Val accuracy(avg): {sumVal}  | Test accuracy(avg): {sumTest}\")\n",
        "  print(\"================================================================================================\")\n",
        "  c_list.append(j)\n",
        "  c_train_avg.append(sumTrain)\n",
        "  c_val_avg.append(sumVal)\n",
        "  c_test_avg.append(sumTest)\n",
        "  j = j+10"
      ],
      "execution_count": 16,
      "outputs": [
        {
          "output_type": "stream",
          "text": [
            "SVC: enac  |   c = 10\n",
            "Fold :  1\n",
            "Fold :  2\n",
            "Fold :  3\n",
            "Fold :  4\n",
            "Fold :  5\n",
            "done\n",
            "train_accuracy :  1.0 \tVal accuracy :  0.31143667296786387 \tTest accuracy :  0.6015\n",
            "train_accuracy :  1.0 \tVal accuracy :  0.4068998109640832 \tTest accuracy :  0.5755\n",
            "train_accuracy :  1.0 \tVal accuracy :  0.7977315689981096 \tTest accuracy :  0.6115\n",
            "train_accuracy :  1.0 \tVal accuracy :  0.8950354609929078 \tTest accuracy :  0.6275\n",
            "train_accuracy :  1.0 \tVal accuracy :  0.4950354609929078 \tTest accuracy :  0.5305\n",
            "------------------------------------------------------------------------------------------------\n",
            "Train accuracy(avg): 1.0 | Val accuracy(avg): 0.5812277949831745  | Test accuracy(avg): 0.5892999999999999\n",
            "================================================================================================\n",
            "SVC: enac  |   c = 20\n",
            "Fold :  1\n",
            "Fold :  2\n",
            "Fold :  3\n",
            "Fold :  4\n",
            "Fold :  5\n",
            "done\n",
            "train_accuracy :  1.0 \tVal accuracy :  0.31049149338374293 \tTest accuracy :  0.6005\n",
            "train_accuracy :  1.0 \tVal accuracy :  0.4102079395085066 \tTest accuracy :  0.5755\n",
            "train_accuracy :  1.0 \tVal accuracy :  0.7977315689981096 \tTest accuracy :  0.6115\n",
            "train_accuracy :  1.0 \tVal accuracy :  0.8950354609929078 \tTest accuracy :  0.6275\n",
            "train_accuracy :  1.0 \tVal accuracy :  0.4950354609929078 \tTest accuracy :  0.5305\n",
            "------------------------------------------------------------------------------------------------\n",
            "Train accuracy(avg): 1.0 | Val accuracy(avg): 0.581700384775235  | Test accuracy(avg): 0.5891\n",
            "================================================================================================\n",
            "SVC: enac  |   c = 30\n",
            "Fold :  1\n",
            "Fold :  2\n",
            "Fold :  3\n",
            "Fold :  4\n",
            "Fold :  5\n",
            "done\n",
            "train_accuracy :  1.0 \tVal accuracy :  0.31049149338374293 \tTest accuracy :  0.6005\n",
            "train_accuracy :  1.0 \tVal accuracy :  0.4102079395085066 \tTest accuracy :  0.5755\n",
            "train_accuracy :  1.0 \tVal accuracy :  0.7977315689981096 \tTest accuracy :  0.6115\n",
            "train_accuracy :  1.0 \tVal accuracy :  0.8950354609929078 \tTest accuracy :  0.6275\n",
            "train_accuracy :  1.0 \tVal accuracy :  0.4950354609929078 \tTest accuracy :  0.5305\n",
            "------------------------------------------------------------------------------------------------\n",
            "Train accuracy(avg): 1.0 | Val accuracy(avg): 0.581700384775235  | Test accuracy(avg): 0.5891\n",
            "================================================================================================\n",
            "SVC: enac  |   c = 40\n",
            "Fold :  1\n",
            "Fold :  2\n",
            "Fold :  3\n",
            "Fold :  4\n",
            "Fold :  5\n",
            "done\n",
            "train_accuracy :  1.0 \tVal accuracy :  0.31049149338374293 \tTest accuracy :  0.6005\n",
            "train_accuracy :  1.0 \tVal accuracy :  0.4102079395085066 \tTest accuracy :  0.5755\n",
            "train_accuracy :  1.0 \tVal accuracy :  0.7977315689981096 \tTest accuracy :  0.6115\n",
            "train_accuracy :  1.0 \tVal accuracy :  0.8950354609929078 \tTest accuracy :  0.6275\n",
            "train_accuracy :  1.0 \tVal accuracy :  0.4950354609929078 \tTest accuracy :  0.5305\n",
            "------------------------------------------------------------------------------------------------\n",
            "Train accuracy(avg): 1.0 | Val accuracy(avg): 0.581700384775235  | Test accuracy(avg): 0.5891\n",
            "================================================================================================\n",
            "SVC: enac  |   c = 50\n",
            "Fold :  1\n",
            "Fold :  2\n",
            "Fold :  3\n",
            "Fold :  4\n",
            "Fold :  5\n",
            "done\n",
            "train_accuracy :  1.0 \tVal accuracy :  0.31049149338374293 \tTest accuracy :  0.6005\n",
            "train_accuracy :  1.0 \tVal accuracy :  0.4102079395085066 \tTest accuracy :  0.5755\n",
            "train_accuracy :  1.0 \tVal accuracy :  0.7977315689981096 \tTest accuracy :  0.6115\n",
            "train_accuracy :  1.0 \tVal accuracy :  0.8950354609929078 \tTest accuracy :  0.6275\n",
            "train_accuracy :  1.0 \tVal accuracy :  0.4950354609929078 \tTest accuracy :  0.5305\n",
            "------------------------------------------------------------------------------------------------\n",
            "Train accuracy(avg): 1.0 | Val accuracy(avg): 0.581700384775235  | Test accuracy(avg): 0.5891\n",
            "================================================================================================\n",
            "SVC: enac  |   c = 60\n",
            "Fold :  1\n",
            "Fold :  2\n",
            "Fold :  3\n",
            "Fold :  4\n",
            "Fold :  5\n",
            "done\n",
            "train_accuracy :  1.0 \tVal accuracy :  0.31049149338374293 \tTest accuracy :  0.6005\n",
            "train_accuracy :  1.0 \tVal accuracy :  0.4102079395085066 \tTest accuracy :  0.5755\n",
            "train_accuracy :  1.0 \tVal accuracy :  0.7977315689981096 \tTest accuracy :  0.6115\n",
            "train_accuracy :  1.0 \tVal accuracy :  0.8950354609929078 \tTest accuracy :  0.6275\n",
            "train_accuracy :  1.0 \tVal accuracy :  0.4950354609929078 \tTest accuracy :  0.5305\n",
            "------------------------------------------------------------------------------------------------\n",
            "Train accuracy(avg): 1.0 | Val accuracy(avg): 0.581700384775235  | Test accuracy(avg): 0.5891\n",
            "================================================================================================\n",
            "SVC: enac  |   c = 70\n",
            "Fold :  1\n",
            "Fold :  2\n",
            "Fold :  3\n",
            "Fold :  4\n",
            "Fold :  5\n",
            "done\n",
            "train_accuracy :  1.0 \tVal accuracy :  0.31049149338374293 \tTest accuracy :  0.6005\n",
            "train_accuracy :  1.0 \tVal accuracy :  0.4102079395085066 \tTest accuracy :  0.5755\n",
            "train_accuracy :  1.0 \tVal accuracy :  0.7977315689981096 \tTest accuracy :  0.6115\n",
            "train_accuracy :  1.0 \tVal accuracy :  0.8950354609929078 \tTest accuracy :  0.6275\n",
            "train_accuracy :  1.0 \tVal accuracy :  0.4950354609929078 \tTest accuracy :  0.5305\n",
            "------------------------------------------------------------------------------------------------\n",
            "Train accuracy(avg): 1.0 | Val accuracy(avg): 0.581700384775235  | Test accuracy(avg): 0.5891\n",
            "================================================================================================\n",
            "SVC: enac  |   c = 80\n",
            "Fold :  1\n",
            "Fold :  2\n",
            "Fold :  3\n",
            "Fold :  4\n",
            "Fold :  5\n",
            "done\n",
            "train_accuracy :  1.0 \tVal accuracy :  0.31049149338374293 \tTest accuracy :  0.6005\n",
            "train_accuracy :  1.0 \tVal accuracy :  0.4102079395085066 \tTest accuracy :  0.5755\n",
            "train_accuracy :  1.0 \tVal accuracy :  0.7977315689981096 \tTest accuracy :  0.6115\n",
            "train_accuracy :  1.0 \tVal accuracy :  0.8950354609929078 \tTest accuracy :  0.6275\n",
            "train_accuracy :  1.0 \tVal accuracy :  0.4950354609929078 \tTest accuracy :  0.5305\n",
            "------------------------------------------------------------------------------------------------\n",
            "Train accuracy(avg): 1.0 | Val accuracy(avg): 0.581700384775235  | Test accuracy(avg): 0.5891\n",
            "================================================================================================\n",
            "SVC: enac  |   c = 90\n",
            "Fold :  1\n",
            "Fold :  2\n",
            "Fold :  3\n",
            "Fold :  4\n",
            "Fold :  5\n",
            "done\n",
            "train_accuracy :  1.0 \tVal accuracy :  0.31049149338374293 \tTest accuracy :  0.6005\n",
            "train_accuracy :  1.0 \tVal accuracy :  0.4102079395085066 \tTest accuracy :  0.5755\n",
            "train_accuracy :  1.0 \tVal accuracy :  0.7977315689981096 \tTest accuracy :  0.6115\n",
            "train_accuracy :  1.0 \tVal accuracy :  0.8950354609929078 \tTest accuracy :  0.6275\n",
            "train_accuracy :  1.0 \tVal accuracy :  0.4950354609929078 \tTest accuracy :  0.5305\n",
            "------------------------------------------------------------------------------------------------\n",
            "Train accuracy(avg): 1.0 | Val accuracy(avg): 0.581700384775235  | Test accuracy(avg): 0.5891\n",
            "================================================================================================\n",
            "SVC: enac  |   c = 100\n",
            "Fold :  1\n",
            "Fold :  2\n",
            "Fold :  3\n",
            "Fold :  4\n",
            "Fold :  5\n",
            "done\n",
            "train_accuracy :  1.0 \tVal accuracy :  0.31049149338374293 \tTest accuracy :  0.6005\n",
            "train_accuracy :  1.0 \tVal accuracy :  0.4102079395085066 \tTest accuracy :  0.5755\n",
            "train_accuracy :  1.0 \tVal accuracy :  0.7977315689981096 \tTest accuracy :  0.6115\n",
            "train_accuracy :  1.0 \tVal accuracy :  0.8950354609929078 \tTest accuracy :  0.6275\n",
            "train_accuracy :  1.0 \tVal accuracy :  0.4950354609929078 \tTest accuracy :  0.5305\n",
            "------------------------------------------------------------------------------------------------\n",
            "Train accuracy(avg): 1.0 | Val accuracy(avg): 0.581700384775235  | Test accuracy(avg): 0.5891\n",
            "================================================================================================\n"
          ],
          "name": "stdout"
        }
      ]
    },
    {
      "cell_type": "code",
      "metadata": {
        "id": "ZHFEhZGlq4Q8",
        "colab_type": "code",
        "colab": {
          "base_uri": "https://localhost:8080/",
          "height": 391
        },
        "outputId": "195bf807-956a-468d-be7a-993d4085637e"
      },
      "source": [
        "i=0  \n",
        "print(\" c      train                   val                    test\")\n",
        "print(\"===================================================================\")\n",
        "for x in c_list:\n",
        "  print(f\"{x}  -  {c_train_avg[i]} - {c_val_avg[i]} - {c_test_avg[i]}\")\n",
        "  print(\"--------------------------------------------------------------------\")\n",
        "  i=i+1"
      ],
      "execution_count": 17,
      "outputs": [
        {
          "output_type": "stream",
          "text": [
            " c      train                   val                    test\n",
            "===================================================================\n",
            "10  -  1.0 - 0.5812277949831745 - 0.5892999999999999\n",
            "--------------------------------------------------------------------\n",
            "20  -  1.0 - 0.581700384775235 - 0.5891\n",
            "--------------------------------------------------------------------\n",
            "30  -  1.0 - 0.581700384775235 - 0.5891\n",
            "--------------------------------------------------------------------\n",
            "40  -  1.0 - 0.581700384775235 - 0.5891\n",
            "--------------------------------------------------------------------\n",
            "50  -  1.0 - 0.581700384775235 - 0.5891\n",
            "--------------------------------------------------------------------\n",
            "60  -  1.0 - 0.581700384775235 - 0.5891\n",
            "--------------------------------------------------------------------\n",
            "70  -  1.0 - 0.581700384775235 - 0.5891\n",
            "--------------------------------------------------------------------\n",
            "80  -  1.0 - 0.581700384775235 - 0.5891\n",
            "--------------------------------------------------------------------\n",
            "90  -  1.0 - 0.581700384775235 - 0.5891\n",
            "--------------------------------------------------------------------\n",
            "100  -  1.0 - 0.581700384775235 - 0.5891\n",
            "--------------------------------------------------------------------\n"
          ],
          "name": "stdout"
        }
      ]
    },
    {
      "cell_type": "code",
      "metadata": {
        "id": "M-8SwsofHdqv",
        "colab_type": "code",
        "colab": {}
      },
      "source": [
        ""
      ],
      "execution_count": null,
      "outputs": []
    }
  ]
}