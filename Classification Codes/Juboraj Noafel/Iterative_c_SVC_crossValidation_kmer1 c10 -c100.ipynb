{
 "cells": [
  {
   "cell_type": "code",
   "execution_count": 1,
   "metadata": {
    "colab": {},
    "colab_type": "code",
    "id": "xcg-c9ezGOHr"
   },
   "outputs": [],
   "source": [
    "from sklearn.model_selection import train_test_split\n",
    "import numpy as np"
   ]
  },
  {
   "cell_type": "code",
   "execution_count": 2,
   "metadata": {
    "colab": {},
    "colab_type": "code",
    "id": "wROFsPwdNRI5"
   },
   "outputs": [],
   "source": [
    "from sklearn.svm import SVC"
   ]
  },
  {
   "cell_type": "code",
   "execution_count": 3,
   "metadata": {
    "colab": {},
    "colab_type": "code",
    "id": "SkYWCRv0Oyiv"
   },
   "outputs": [],
   "source": [
    "from sklearn.metrics import accuracy_score"
   ]
  },
  {
   "cell_type": "code",
   "execution_count": 4,
   "metadata": {
    "colab": {},
    "colab_type": "code",
    "id": "VCZnwzteUht2"
   },
   "outputs": [],
   "source": [
    "from sklearn.model_selection import KFold"
   ]
  },
  {
   "cell_type": "code",
   "execution_count": 8,
   "metadata": {
    "colab": {},
    "colab_type": "code",
    "id": "yLUt4RggDDLu"
   },
   "outputs": [],
   "source": [
    "#kmer1\n",
    "fs1Train = [\"/content/drive/My Drive/Pattern project training/pattern/data/converted/A.thaliana5289_pos/combined/Kmer1/A.thaliana5289indep_pos_kmer_1.npy\",\n",
    "                   \"/content/drive/My Drive/Pattern project training/pattern/data/converted/A.thaliana5289_neg/concated result/concated kmer1/A.thaliana5289_neg_kmr1.npy\"]\n",
    "fs1Test = [\"/content/drive/My Drive/Pattern project training/pattern/npy/A.thaliana1000indep_pos_kmer_1.npy\", \n",
    "                  \"/content/drive/My Drive/Pattern project training/pattern/npy/A.thaliana1000indep_neg_kmer_1.npy\"]\n",
    "\n",
    "\n",
    "#enac\n",
    "fs2Train = [\"/content/drive/My Drive/Pattern project training/pattern/data/converted/A.thaliana5289_pos/combined/ENAC/A.thaliana5289indep_pos_ENAC.npy\",\n",
    "                   \"/content/drive/My Drive/Pattern project training/pattern/data/converted/A.thaliana5289_neg/concated result/concated enac/A.thaliana5289_neg_ENAC.npy\"]\n",
    "fs2Test = [\"/content/drive/My Drive/Pattern project training/pattern/npy/A.thaliana1000indep_pos_ENAC.npy\", \n",
    "                  \"/content/drive/My Drive/Pattern project training/pattern/npy/A.thaliana1000indep_neg_enac.npy\"]"
   ]
  },
  {
   "cell_type": "code",
   "execution_count": 9,
   "metadata": {
    "colab": {},
    "colab_type": "code",
    "id": "Bkibhn2DD9hU"
   },
   "outputs": [],
   "source": [
    "kmer1_pos_5289 = fs1Train[0]\n",
    "kmer1_neg_5289 = fs1Train[1]\n",
    "kmer1_pos_1000 = fs1Test[0]\n",
    "kmer1_neg_1000 = fs1Test[1]\n",
    "\n",
    "\n",
    "enac_pos_5289 = fs2Train[0]\n",
    "enac_neg_5289 = fs2Train[1]\n",
    "enac_pos_1000 = fs2Test[0]\n",
    "enac_neg_1000 = fs2Test[1]\n",
    "\n",
    "\n",
    "\n",
    "x_train_pos = np.load(kmer1_pos_5289) \n",
    "x_train_neg = np.load(kmer1_neg_5289) \n",
    "x_test_pos = np.load(kmer1_pos_1000)  \n",
    "x_test_neg = np.load(kmer1_neg_1000)  \n",
    "\n",
    "y_train_pos = np.tile(1, 5289) \n",
    "y_train_neg = np.tile(0, 5289) \n",
    "y_test_pos = np.tile(1, 1000) \n",
    "y_test_neg = np.tile(0, 1000) "
   ]
  },
  {
   "cell_type": "code",
   "execution_count": 10,
   "metadata": {
    "colab": {
     "base_uri": "https://localhost:8080/",
     "height": 153
    },
    "colab_type": "code",
    "id": "H84h5ZubMHuZ",
    "outputId": "4a327c19-6f6c-429a-c179-502e0603de43"
   },
   "outputs": [
    {
     "name": "stdout",
     "output_type": "stream",
     "text": [
      "(5289, 4)\n",
      "(5289, 4)\n",
      "(1000, 4)\n",
      "(1000, 4)\n",
      "(5289,)\n",
      "(5289,)\n",
      "(1000,)\n",
      "(1000,)\n"
     ]
    }
   ],
   "source": [
    "print(x_train_pos.shape)\n",
    "print(x_train_neg.shape)\n",
    "print(x_test_pos.shape)\n",
    "print(x_test_neg.shape)\n",
    "\n",
    "print(y_train_pos.shape)\n",
    "print(y_train_neg.shape)\n",
    "print(y_test_pos.shape)\n",
    "print(y_test_neg.shape)"
   ]
  },
  {
   "cell_type": "code",
   "execution_count": 11,
   "metadata": {
    "colab": {},
    "colab_type": "code",
    "id": "4woF7AbhG2D5"
   },
   "outputs": [],
   "source": [
    "seed = 40\n",
    "np.random.seed(seed)"
   ]
  },
  {
   "cell_type": "code",
   "execution_count": 12,
   "metadata": {
    "colab": {},
    "colab_type": "code",
    "id": "Rxp25B0pIt5S"
   },
   "outputs": [],
   "source": [
    "x_training = np.concatenate((x_train_pos, x_train_neg), axis= 0)\n",
    "y_training = np.concatenate((y_train_pos, y_train_neg))"
   ]
  },
  {
   "cell_type": "code",
   "execution_count": 13,
   "metadata": {
    "colab": {},
    "colab_type": "code",
    "id": "5SlGQaZ0QtwH"
   },
   "outputs": [],
   "source": [
    "x_test = np.concatenate((x_test_pos, x_test_neg))\n",
    "y_test = np.concatenate((y_test_pos, y_test_neg))"
   ]
  },
  {
   "cell_type": "code",
   "execution_count": 14,
   "metadata": {
    "colab": {
     "base_uri": "https://localhost:8080/",
     "height": 51
    },
    "colab_type": "code",
    "id": "AFWq8oQ9Q8pr",
    "outputId": "6b6aec8e-ecae-45e5-8201-110d3825f138"
   },
   "outputs": [
    {
     "name": "stdout",
     "output_type": "stream",
     "text": [
      "(2000, 4)\n",
      "(2000,)\n"
     ]
    }
   ],
   "source": [
    "print(x_test.shape)\n",
    "print(y_test.shape)"
   ]
  },
  {
   "cell_type": "code",
   "execution_count": 15,
   "metadata": {
    "colab": {
     "base_uri": "https://localhost:8080/",
     "height": 51
    },
    "colab_type": "code",
    "id": "r2lmmmO7JotB",
    "outputId": "20566155-8b42-4214-cd9c-f078ab5b6f82"
   },
   "outputs": [
    {
     "name": "stdout",
     "output_type": "stream",
     "text": [
      "(10578, 4)\n",
      "(10578,)\n"
     ]
    }
   ],
   "source": [
    "print(x_training.shape)\n",
    "print(y_training.shape)"
   ]
  },
  {
   "cell_type": "code",
   "execution_count": 16,
   "metadata": {
    "colab": {
     "base_uri": "https://localhost:8080/",
     "height": 71
    },
    "colab_type": "code",
    "id": "s7kBxZXMX5q-",
    "outputId": "30974742-3840-4844-beb7-a0d7a8e2b498"
   },
   "outputs": [
    {
     "name": "stderr",
     "output_type": "stream",
     "text": [
      "/usr/local/lib/python3.6/dist-packages/sklearn/model_selection/_split.py:296: FutureWarning: Setting a random_state has no effect since shuffle is False. This will raise an error in 0.24. You should leave random_state to its default (None), or set shuffle=True.\n",
      "  FutureWarning\n"
     ]
    }
   ],
   "source": [
    "kf = KFold(n_splits=5, random_state=seed)"
   ]
  },
  {
   "cell_type": "code",
   "execution_count": 17,
   "metadata": {
    "colab": {
     "base_uri": "https://localhost:8080/",
     "height": 1000
    },
    "colab_type": "code",
    "id": "veZ7aQjkV_62",
    "outputId": "91677086-bff0-4c32-a89d-6337efab921a"
   },
   "outputs": [
    {
     "name": "stdout",
     "output_type": "stream",
     "text": [
      "SVC: kmer1  |   c = 10\n",
      "Fold :  1\n",
      "Fold :  2\n",
      "Fold :  3\n",
      "Fold :  4\n",
      "Fold :  5\n",
      "done\n",
      "train_accuracy :  0.8272276057669582 \tVal accuracy :  0.4900756143667297 \tTest accuracy :  0.4935\n",
      "train_accuracy :  0.8983691798629165 \tVal accuracy :  0.3861058601134216 \tTest accuracy :  0.4935\n",
      "train_accuracy :  0.795320255258804 \tVal accuracy :  0.8137996219281664 \tTest accuracy :  0.461\n",
      "train_accuracy :  0.8527708850289496 \tVal accuracy :  0.4458628841607565 \tTest accuracy :  0.244\n",
      "train_accuracy :  0.8554885974240813 \tVal accuracy :  0.6401891252955083 \tTest accuracy :  0.3905\n",
      "------------------------------------------------------------------------------------------------\n",
      "Train accuracy(avg): 0.845835304668342 | Val accuracy(avg): 0.5552066211729165  | Test accuracy(avg): 0.4165\n",
      "================================================================================================\n",
      "SVC: kmer1  |   c = 20\n",
      "Fold :  1\n",
      "Fold :  2\n",
      "Fold :  3\n",
      "Fold :  4\n",
      "Fold :  5\n",
      "done\n",
      "train_accuracy :  0.8580713779248405 \tVal accuracy :  0.5359168241965974 \tTest accuracy :  0.4945\n",
      "train_accuracy :  0.9227133065469156 \tVal accuracy :  0.4659735349716446 \tTest accuracy :  0.492\n",
      "train_accuracy :  0.835854407941385 \tVal accuracy :  0.8775992438563327 \tTest accuracy :  0.4655\n",
      "train_accuracy :  0.8619874748907007 \tVal accuracy :  0.4978723404255319 \tTest accuracy :  0.313\n",
      "train_accuracy :  0.8774666194021032 \tVal accuracy :  0.6756501182033097 \tTest accuracy :  0.402\n",
      "------------------------------------------------------------------------------------------------\n",
      "Train accuracy(avg): 0.8712186373411891 | Val accuracy(avg): 0.6106024123306832  | Test accuracy(avg): 0.43339999999999995\n",
      "================================================================================================\n",
      "SVC: kmer1  |   c = 30\n",
      "Fold :  1\n",
      "Fold :  2\n",
      "Fold :  3\n",
      "Fold :  4\n",
      "Fold :  5\n",
      "done\n",
      "train_accuracy :  0.8709524935003545 \tVal accuracy :  0.5656899810964083 \tTest accuracy :  0.496\n",
      "train_accuracy :  0.9288584259040416 \tVal accuracy :  0.4952741020793951 \tTest accuracy :  0.4915\n",
      "train_accuracy :  0.8520444339399669 \tVal accuracy :  0.8960302457466919 \tTest accuracy :  0.4775\n",
      "train_accuracy :  0.869195320808224 \tVal accuracy :  0.5319148936170213 \tTest accuracy :  0.3335\n",
      "train_accuracy :  0.8845563039111426 \tVal accuracy :  0.6964539007092199 \tTest accuracy :  0.413\n",
      "------------------------------------------------------------------------------------------------\n",
      "Train accuracy(avg): 0.8811213956127458 | Val accuracy(avg): 0.6370726246497472  | Test accuracy(avg): 0.4423\n",
      "================================================================================================\n",
      "SVC: kmer1  |   c = 40\n",
      "Fold :  1\n",
      "Fold :  2\n",
      "Fold :  3\n",
      "Fold :  4\n",
      "Fold :  5\n",
      "done\n",
      "train_accuracy :  0.8753249822736942 \tVal accuracy :  0.5756143667296786 \tTest accuracy :  0.502\n",
      "train_accuracy :  0.9333490900496336 \tVal accuracy :  0.5094517958412098 \tTest accuracy :  0.4915\n",
      "train_accuracy :  0.8568896242023163 \tVal accuracy :  0.9040642722117203 \tTest accuracy :  0.482\n",
      "train_accuracy :  0.8767576509511993 \tVal accuracy :  0.56548463356974 \tTest accuracy :  0.35\n",
      "train_accuracy :  0.8892827602505022 \tVal accuracy :  0.7040189125295508 \tTest accuracy :  0.4185\n",
      "------------------------------------------------------------------------------------------------\n",
      "Train accuracy(avg): 0.8863208215454691 | Val accuracy(avg): 0.65172679617638  | Test accuracy(avg): 0.4488\n",
      "================================================================================================\n",
      "SVC: kmer1  |   c = 50\n",
      "Fold :  1\n",
      "Fold :  2\n",
      "Fold :  3\n",
      "Fold :  4\n",
      "Fold :  5\n",
      "done\n",
      "train_accuracy :  0.8785157173245096 \tVal accuracy :  0.5869565217391305 \tTest accuracy :  0.51\n",
      "train_accuracy :  0.9341763176554007 \tVal accuracy :  0.5165406427221172 \tTest accuracy :  0.491\n",
      "train_accuracy :  0.8592531316473647 \tVal accuracy :  0.9111531190926276 \tTest accuracy :  0.4885\n",
      "train_accuracy :  0.880066170388751 \tVal accuracy :  0.5777777777777777 \tTest accuracy :  0.353\n",
      "train_accuracy :  0.8918823112371499 \tVal accuracy :  0.7134751773049646 \tTest accuracy :  0.421\n",
      "------------------------------------------------------------------------------------------------\n",
      "Train accuracy(avg): 0.8887787296506351 | Val accuracy(avg): 0.6611806477273234  | Test accuracy(avg): 0.45269999999999994\n",
      "================================================================================================\n",
      "SVC: kmer1  |   c = 60\n",
      "Fold :  1\n",
      "Fold :  2\n",
      "Fold :  3\n",
      "Fold :  4\n",
      "Fold :  5\n",
      "done\n",
      "train_accuracy :  0.8804065232805484 \tVal accuracy :  0.584593572778828 \tTest accuracy :  0.513\n",
      "train_accuracy :  0.9358307728669345 \tVal accuracy :  0.5189035916824196 \tTest accuracy :  0.4905\n",
      "train_accuracy :  0.8625620420704325 \tVal accuracy :  0.915406427221172 \tTest accuracy :  0.4945\n",
      "train_accuracy :  0.8816022686990429 \tVal accuracy :  0.5943262411347517 \tTest accuracy :  0.3605\n",
      "train_accuracy :  0.8931820867304738 \tVal accuracy :  0.715839243498818 \tTest accuracy :  0.4255\n",
      "------------------------------------------------------------------------------------------------\n",
      "Train accuracy(avg): 0.8907167387294865 | Val accuracy(avg): 0.6658138152631979  | Test accuracy(avg): 0.4568\n",
      "================================================================================================\n",
      "SVC: kmer1  |   c = 70\n",
      "Fold :  1\n",
      "Fold :  2\n",
      "Fold :  3\n",
      "Fold :  4\n",
      "Fold :  5\n",
      "done\n",
      "train_accuracy :  0.8826518553533443 \tVal accuracy :  0.5789224952741021 \tTest accuracy :  0.5135\n",
      "train_accuracy :  0.9368943512172063 \tVal accuracy :  0.5207939508506616 \tTest accuracy :  0.4895\n",
      "train_accuracy :  0.8642164972819665 \tVal accuracy :  0.915406427221172 \tTest accuracy :  0.4975\n",
      "train_accuracy :  0.8834928512347867 \tVal accuracy :  0.6018912529550827 \tTest accuracy :  0.3625\n",
      "train_accuracy :  0.8943637008153137 \tVal accuracy :  0.7200945626477542 \tTest accuracy :  0.429\n",
      "------------------------------------------------------------------------------------------------\n",
      "Train accuracy(avg): 0.8923238511805236 | Val accuracy(avg): 0.6674217377897546  | Test accuracy(avg): 0.4584\n",
      "================================================================================================\n",
      "SVC: kmer1  |   c = 80\n",
      "Fold :  1\n",
      "Fold :  2\n",
      "Fold :  3\n",
      "Fold :  4\n",
      "Fold :  5\n",
      "done\n",
      "train_accuracy :  0.8839517844481211 \tVal accuracy :  0.5756143667296786 \tTest accuracy :  0.5175\n",
      "train_accuracy :  0.9379579295674781 \tVal accuracy :  0.527882797731569 \tTest accuracy :  0.4895\n",
      "train_accuracy :  0.8655164263767431 \tVal accuracy :  0.9177693761814745 \tTest accuracy :  0.5045\n",
      "train_accuracy :  0.8849107881365946 \tVal accuracy :  0.616548463356974 \tTest accuracy :  0.3655\n",
      "train_accuracy :  0.8950726692662176 \tVal accuracy :  0.7219858156028369 \tTest accuracy :  0.4355\n",
      "------------------------------------------------------------------------------------------------\n",
      "Train accuracy(avg): 0.8934819195590309 | Val accuracy(avg): 0.6719601639205066  | Test accuracy(avg): 0.4625\n",
      "================================================================================================\n",
      "SVC: kmer1  |   c = 90\n",
      "Fold :  1\n",
      "Fold :  2\n",
      "Fold :  3\n",
      "Fold :  4\n",
      "Fold :  5\n",
      "done\n",
      "train_accuracy :  0.8852517135428977 \tVal accuracy :  0.5784499054820416 \tTest accuracy :  0.5195\n",
      "train_accuracy :  0.9383124556842354 \tVal accuracy :  0.52882797731569 \tTest accuracy :  0.489\n",
      "train_accuracy :  0.865752777121248 \tVal accuracy :  0.917296786389414 \tTest accuracy :  0.5095\n",
      "train_accuracy :  0.8866832092638545 \tVal accuracy :  0.6222222222222222 \tTest accuracy :  0.367\n",
      "train_accuracy :  0.8961361219425735 \tVal accuracy :  0.7224586288416076 \tTest accuracy :  0.4385\n",
      "------------------------------------------------------------------------------------------------\n",
      "Train accuracy(avg): 0.8944272555109617 | Val accuracy(avg): 0.6738511040501951  | Test accuracy(avg): 0.46469999999999995\n",
      "================================================================================================\n",
      "SVC: kmer1  |   c = 100\n",
      "Fold :  1\n",
      "Fold :  2\n",
      "Fold :  3\n",
      "Fold :  4\n",
      "Fold :  5\n",
      "done\n",
      "train_accuracy :  0.8859607657764121 \tVal accuracy :  0.5746691871455577 \tTest accuracy :  0.5245\n",
      "train_accuracy :  0.93902150791775 \tVal accuracy :  0.529773156899811 \tTest accuracy :  0.489\n",
      "train_accuracy :  0.8665800047270149 \tVal accuracy :  0.9158790170132325 \tTest accuracy :  0.5115\n",
      "train_accuracy :  0.8878648233486943 \tVal accuracy :  0.625531914893617 \tTest accuracy :  0.37\n",
      "train_accuracy :  0.8970814132104454 \tVal accuracy :  0.724822695035461 \tTest accuracy :  0.4405\n",
      "------------------------------------------------------------------------------------------------\n",
      "Train accuracy(avg): 0.8953017029960634 | Val accuracy(avg): 0.6741351941975358  | Test accuracy(avg): 0.4671\n",
      "================================================================================================\n"
     ]
    }
   ],
   "source": [
    "j=10\n",
    "c_list=[]\n",
    "c_test_avg =[]\n",
    "c_train_avg = []\n",
    "c_val_avg = [] \n",
    "while j <= 100:\n",
    "  c = j\n",
    "  sumTrain = sumVal = sumTest =  0\n",
    "  print(f\"SVC: kmer1  |   c = {c}\")\n",
    "  clf = SVC(C=c,  random_state = seed)\n",
    "\n",
    "  val_accuracy_list = []\n",
    "  train_accuracy_list = []\n",
    "  test_accuracy_list = []\n",
    "  c = 1\n",
    "  for train_index, val_index in kf.split(x_training):\n",
    "      print(\"Fold : \",c)\n",
    "      X_train, X_val = x_training[train_index], x_training[val_index]\n",
    "      y_train, y_val = y_training[train_index], y_training[val_index]\n",
    "      \n",
    "      clf.fit(X_train, y_train)\n",
    "\n",
    "      y_val_pred = clf.predict(X_val)\n",
    "      val_accuracy = accuracy_score(y_val, y_val_pred)\n",
    "      val_accuracy_list.append(val_accuracy)\n",
    "\n",
    "      y_train_pred = clf.predict(X_train)\n",
    "      train_accuracy = accuracy_score(y_train, y_train_pred)\n",
    "      train_accuracy_list.append(train_accuracy)\n",
    "\n",
    "      y_test_pred = clf.predict(x_test)\n",
    "      test_accuracy = accuracy_score(y_test, y_test_pred)\n",
    "      test_accuracy_list.append(test_accuracy)\n",
    "\n",
    "      c += 1 \n",
    "\n",
    "  print(\"done\")\n",
    "  for i in range(0, len(train_accuracy_list)):\n",
    "      print(\"train_accuracy : \", train_accuracy_list[i], \"\\tVal accuracy : \", val_accuracy_list[i], \"\\tTest accuracy : \", test_accuracy_list[i])\n",
    "      sumTrain = sumTrain + train_accuracy_list[i]\n",
    "      sumVal = sumVal + val_accuracy_list[i]\n",
    "      sumTest = sumTest + test_accuracy_list[i]\n",
    "  sumTrain = sumTrain/5.0\n",
    "  sumVal = sumVal/5.0\n",
    "  sumTest = sumTest/5.0\n",
    "  print(\"------------------------------------------------------------------------------------------------\")\n",
    "  print(f\"Train accuracy(avg): {sumTrain} | Val accuracy(avg): {sumVal}  | Test accuracy(avg): {sumTest}\")\n",
    "  print(\"================================================================================================\")\n",
    "  c_list.append(j)\n",
    "  c_train_avg.append(sumTrain)\n",
    "  c_val_avg.append(sumVal)\n",
    "  c_test_avg.append(sumTest)\n",
    "  j = j+10"
   ]
  },
  {
   "cell_type": "code",
   "execution_count": 22,
   "metadata": {
    "colab": {
     "base_uri": "https://localhost:8080/",
     "height": 391
    },
    "colab_type": "code",
    "id": "ZHFEhZGlq4Q8",
    "outputId": "bf31c629-1fbd-41a1-aea4-291a9fc55022"
   },
   "outputs": [
    {
     "name": "stdout",
     "output_type": "stream",
     "text": [
      " c      train                   val                    test\n",
      "===================================================================\n",
      "10  -  0.845835304668342 - 0.5552066211729165 - 0.4165\n",
      "--------------------------------------------------------------------\n",
      "20  -  0.8712186373411891 - 0.6106024123306832 - 0.43339999999999995\n",
      "--------------------------------------------------------------------\n",
      "30  -  0.8811213956127458 - 0.6370726246497472 - 0.4423\n",
      "--------------------------------------------------------------------\n",
      "40  -  0.8863208215454691 - 0.65172679617638 - 0.4488\n",
      "--------------------------------------------------------------------\n",
      "50  -  0.8887787296506351 - 0.6611806477273234 - 0.45269999999999994\n",
      "--------------------------------------------------------------------\n",
      "60  -  0.8907167387294865 - 0.6658138152631979 - 0.4568\n",
      "--------------------------------------------------------------------\n",
      "70  -  0.8923238511805236 - 0.6674217377897546 - 0.4584\n",
      "--------------------------------------------------------------------\n",
      "80  -  0.8934819195590309 - 0.6719601639205066 - 0.4625\n",
      "--------------------------------------------------------------------\n",
      "90  -  0.8944272555109617 - 0.6738511040501951 - 0.46469999999999995\n",
      "--------------------------------------------------------------------\n",
      "100  -  0.8953017029960634 - 0.6741351941975358 - 0.4671\n",
      "--------------------------------------------------------------------\n"
     ]
    }
   ],
   "source": [
    "i=0  \n",
    "print(\" c      train                   val                    test\")\n",
    "print(\"===================================================================\")\n",
    "for x in c_list:\n",
    "  print(f\"{x}  -  {c_train_avg[i]} - {c_val_avg[i]} - {c_test_avg[i]}\")\n",
    "  print(\"--------------------------------------------------------------------\")\n",
    "  i=i+1"
   ]
  },
  {
   "cell_type": "code",
   "execution_count": null,
   "metadata": {
    "colab": {},
    "colab_type": "code",
    "id": "M-8SwsofHdqv"
   },
   "outputs": [],
   "source": []
  }
 ],
 "metadata": {
  "colab": {
   "collapsed_sections": [],
   "name": "Iterative_c_SVC_crossValidation_kmer1.ipynb",
   "provenance": []
  },
  "kernelspec": {
   "display_name": "Python 3",
   "language": "python",
   "name": "python3"
  },
  "language_info": {
   "codemirror_mode": {
    "name": "ipython",
    "version": 3
   },
   "file_extension": ".py",
   "mimetype": "text/x-python",
   "name": "python",
   "nbconvert_exporter": "python",
   "pygments_lexer": "ipython3",
   "version": "3.8.3"
  }
 },
 "nbformat": 4,
 "nbformat_minor": 1
}
