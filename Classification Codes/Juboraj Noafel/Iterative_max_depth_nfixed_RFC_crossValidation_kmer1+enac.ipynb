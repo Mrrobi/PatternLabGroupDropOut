{
  "nbformat": 4,
  "nbformat_minor": 0,
  "metadata": {
    "colab": {
      "name": "Iterative_max_depth_nfixed_RFC_crossValidation_kmer1+enac.ipynb",
      "provenance": [],
      "collapsed_sections": []
    },
    "kernelspec": {
      "name": "python3",
      "display_name": "Python 3"
    }
  },
  "cells": [
    {
      "cell_type": "code",
      "metadata": {
        "id": "xcg-c9ezGOHr",
        "colab_type": "code",
        "colab": {}
      },
      "source": [
        "from sklearn.model_selection import train_test_split\n",
        "import numpy as np"
      ],
      "execution_count": 21,
      "outputs": []
    },
    {
      "cell_type": "code",
      "metadata": {
        "id": "mNgMT0uORFWb",
        "colab_type": "code",
        "colab": {}
      },
      "source": [
        "from sklearn.ensemble import RandomForestClassifier"
      ],
      "execution_count": 22,
      "outputs": []
    },
    {
      "cell_type": "code",
      "metadata": {
        "id": "wROFsPwdNRI5",
        "colab_type": "code",
        "colab": {}
      },
      "source": [
        "from sklearn.svm import SVC"
      ],
      "execution_count": 23,
      "outputs": []
    },
    {
      "cell_type": "code",
      "metadata": {
        "id": "SkYWCRv0Oyiv",
        "colab_type": "code",
        "colab": {}
      },
      "source": [
        "from sklearn.metrics import accuracy_score"
      ],
      "execution_count": 24,
      "outputs": []
    },
    {
      "cell_type": "code",
      "metadata": {
        "id": "VCZnwzteUht2",
        "colab_type": "code",
        "colab": {}
      },
      "source": [
        "from sklearn.model_selection import KFold"
      ],
      "execution_count": 25,
      "outputs": []
    },
    {
      "cell_type": "code",
      "metadata": {
        "id": "va5Hjzg8DKsG",
        "colab_type": "code",
        "colab": {
          "base_uri": "https://localhost:8080/",
          "height": 35
        },
        "outputId": "19e8556f-e3b6-4114-c939-900295a01123"
      },
      "source": [
        "from google.colab import drive\n",
        "drive.mount('/content/drive')"
      ],
      "execution_count": 26,
      "outputs": [
        {
          "output_type": "stream",
          "text": [
            "Drive already mounted at /content/drive; to attempt to forcibly remount, call drive.mount(\"/content/drive\", force_remount=True).\n"
          ],
          "name": "stdout"
        }
      ]
    },
    {
      "cell_type": "code",
      "metadata": {
        "id": "yLUt4RggDDLu",
        "colab_type": "code",
        "colab": {}
      },
      "source": [
        "#kmer1\n",
        "fs1Train = [\"/content/drive/My Drive/Pattern project training/pattern/data/converted/A.thaliana5289_pos/combined/Kmer1/A.thaliana5289indep_pos_kmer_1.npy\",\n",
        "                   \"/content/drive/My Drive/Pattern project training/pattern/data/converted/A.thaliana5289_neg/concated result/concated kmer1/A.thaliana5289_neg_kmr1.npy\"]\n",
        "fs1Test = [\"/content/drive/My Drive/Pattern project training/pattern/npy/A.thaliana1000indep_pos_kmer_1.npy\", \n",
        "                  \"/content/drive/My Drive/Pattern project training/pattern/npy/A.thaliana1000indep_neg_kmer_1.npy\"]\n",
        "\n",
        "\n",
        "#enac\n",
        "fs2Train = [\"/content/drive/My Drive/Pattern project training/pattern/data/converted/A.thaliana5289_pos/combined/ENAC/A.thaliana5289indep_pos_ENAC.npy\",\n",
        "                   \"/content/drive/My Drive/Pattern project training/pattern/data/converted/A.thaliana5289_neg/concated result/concated enac/A.thaliana5289_neg_ENAC.npy\"]\n",
        "fs2Test = [\"/content/drive/My Drive/Pattern project training/pattern/npy/A.thaliana1000indep_pos_ENAC.npy\", \n",
        "                  \"/content/drive/My Drive/Pattern project training/pattern/npy/A.thaliana1000indep_neg_enac.npy\"]"
      ],
      "execution_count": 27,
      "outputs": []
    },
    {
      "cell_type": "code",
      "metadata": {
        "id": "Bkibhn2DD9hU",
        "colab_type": "code",
        "colab": {}
      },
      "source": [
        "kmer1_pos_5289 = fs1Train[0]\n",
        "kmer1_neg_5289 = fs1Train[1]\n",
        "kmer1_pos_1000 = fs1Test[0]\n",
        "kmer1_neg_1000 = fs1Test[1]\n",
        "\n",
        "\n",
        "enac_pos_5289 = fs2Train[0]\n",
        "enac_neg_5289 = fs2Train[1]\n",
        "enac_pos_1000 = fs2Test[0]\n",
        "enac_neg_1000 = fs2Test[1]\n",
        "\n",
        "\n",
        "\n",
        "\n",
        "x_train_pos = np.concatenate((np.load(kmer1_pos_5289),np.load(enac_pos_5289)),axis=1) \n",
        "x_train_neg = np.concatenate((np.load(kmer1_neg_5289),np.load(enac_neg_5289)),axis=1) \n",
        "x_test_pos = np.concatenate((np.load(kmer1_pos_1000),np.load(enac_pos_1000)),axis=1)  \n",
        "x_test_neg = np.concatenate((np.load(kmer1_neg_1000),np.load(enac_neg_1000)),axis=1)  \n",
        "\n",
        "y_train_pos = np.tile(1, 5289) \n",
        "y_train_neg = np.tile(0, 5289) \n",
        "y_test_pos = np.tile(1, 1000) \n",
        "y_test_neg = np.tile(0, 1000) "
      ],
      "execution_count": 28,
      "outputs": []
    },
    {
      "cell_type": "code",
      "metadata": {
        "id": "H84h5ZubMHuZ",
        "colab_type": "code",
        "colab": {
          "base_uri": "https://localhost:8080/",
          "height": 163
        },
        "outputId": "df291ec6-c481-4f21-e636-4f01a1c4df3b"
      },
      "source": [
        "print(x_train_pos.shape)\n",
        "print(x_train_neg.shape)\n",
        "print(x_test_pos.shape)\n",
        "print(x_test_neg.shape)\n",
        "\n",
        "print(y_train_pos.shape)\n",
        "print(y_train_neg.shape)\n",
        "print(y_test_pos.shape)\n",
        "print(y_test_neg.shape)"
      ],
      "execution_count": 29,
      "outputs": [
        {
          "output_type": "stream",
          "text": [
            "(5289, 152)\n",
            "(5289, 152)\n",
            "(1000, 152)\n",
            "(1000, 152)\n",
            "(5289,)\n",
            "(5289,)\n",
            "(1000,)\n",
            "(1000,)\n"
          ],
          "name": "stdout"
        }
      ]
    },
    {
      "cell_type": "code",
      "metadata": {
        "id": "4woF7AbhG2D5",
        "colab_type": "code",
        "colab": {}
      },
      "source": [
        "seed = 40\n",
        "np.random.seed(seed)"
      ],
      "execution_count": 30,
      "outputs": []
    },
    {
      "cell_type": "code",
      "metadata": {
        "id": "Rxp25B0pIt5S",
        "colab_type": "code",
        "colab": {}
      },
      "source": [
        "x_training = np.concatenate((x_train_pos, x_train_neg), axis= 0)\n",
        "y_training = np.concatenate((y_train_pos, y_train_neg))"
      ],
      "execution_count": 31,
      "outputs": []
    },
    {
      "cell_type": "code",
      "metadata": {
        "id": "5SlGQaZ0QtwH",
        "colab_type": "code",
        "colab": {}
      },
      "source": [
        "x_test = np.concatenate((x_test_pos, x_test_neg))\n",
        "y_test = np.concatenate((y_test_pos, y_test_neg))"
      ],
      "execution_count": 32,
      "outputs": []
    },
    {
      "cell_type": "code",
      "metadata": {
        "id": "AFWq8oQ9Q8pr",
        "colab_type": "code",
        "colab": {
          "base_uri": "https://localhost:8080/",
          "height": 54
        },
        "outputId": "101c3525-c306-42d4-9b0d-8e13b783eb22"
      },
      "source": [
        "print(x_test.shape)\n",
        "print(y_test.shape)"
      ],
      "execution_count": 33,
      "outputs": [
        {
          "output_type": "stream",
          "text": [
            "(2000, 152)\n",
            "(2000,)\n"
          ],
          "name": "stdout"
        }
      ]
    },
    {
      "cell_type": "code",
      "metadata": {
        "id": "r2lmmmO7JotB",
        "colab_type": "code",
        "colab": {
          "base_uri": "https://localhost:8080/",
          "height": 54
        },
        "outputId": "31fc37b4-651e-464e-ecb9-19edeff3821a"
      },
      "source": [
        "print(x_training.shape)\n",
        "print(y_training.shape)"
      ],
      "execution_count": 34,
      "outputs": [
        {
          "output_type": "stream",
          "text": [
            "(10578, 152)\n",
            "(10578,)\n"
          ],
          "name": "stdout"
        }
      ]
    },
    {
      "cell_type": "code",
      "metadata": {
        "id": "s7kBxZXMX5q-",
        "colab_type": "code",
        "colab": {
          "base_uri": "https://localhost:8080/",
          "height": 74
        },
        "outputId": "4ed136f4-7360-4b99-dd4b-240bda0c9faf"
      },
      "source": [
        "kf = KFold(n_splits=5, random_state=seed)"
      ],
      "execution_count": 35,
      "outputs": [
        {
          "output_type": "stream",
          "text": [
            "/usr/local/lib/python3.6/dist-packages/sklearn/model_selection/_split.py:296: FutureWarning: Setting a random_state has no effect since shuffle is False. This will raise an error in 0.24. You should leave random_state to its default (None), or set shuffle=True.\n",
            "  FutureWarning\n"
          ],
          "name": "stderr"
        }
      ]
    },
    {
      "cell_type": "code",
      "metadata": {
        "id": "veZ7aQjkV_62",
        "colab_type": "code",
        "colab": {
          "base_uri": "https://localhost:8080/",
          "height": 1000
        },
        "outputId": "05b3041e-dd1a-4875-fc3d-d0b037bdf8f4"
      },
      "source": [
        "j=2\n",
        "n_list=[]\n",
        "n_test_avg =[]\n",
        "n_train_avg = []\n",
        "n_val_avg = [] \n",
        "while j <= 100:\n",
        "  n = j\n",
        "  sumTrain = sumVal = sumTest =  0\n",
        "  print(f\"RFC: kmer1+enac  |   n =100 , max-depth =  {n}\")\n",
        "  clf = RandomForestClassifier(n_estimators = 100,max_depth= n, random_state=seed)\n",
        "\n",
        "  val_accuracy_list = []\n",
        "  train_accuracy_list = []\n",
        "  test_accuracy_list = []\n",
        "  n = 1\n",
        "  for train_index, val_index in kf.split(x_training):\n",
        "      print(\"Fold : \",n)\n",
        "      X_train, X_val = x_training[train_index], x_training[val_index]\n",
        "      y_train, y_val = y_training[train_index], y_training[val_index]\n",
        "      \n",
        "      clf.fit(X_train, y_train)\n",
        "\n",
        "      y_val_pred = clf.predict(X_val)\n",
        "      val_accuracy = accuracy_score(y_val, y_val_pred)\n",
        "      val_accuracy_list.append(val_accuracy)\n",
        "\n",
        "      y_train_pred = clf.predict(X_train)\n",
        "      train_accuracy = accuracy_score(y_train, y_train_pred)\n",
        "      train_accuracy_list.append(train_accuracy)\n",
        "\n",
        "      y_test_pred = clf.predict(x_test)\n",
        "      test_accuracy = accuracy_score(y_test, y_test_pred)\n",
        "      test_accuracy_list.append(test_accuracy)\n",
        "\n",
        "      n += 1 \n",
        "\n",
        "  print(\"done\")\n",
        "  for i in range(0, len(train_accuracy_list)):\n",
        "      print(\"train_accuracy : \", train_accuracy_list[i], \"\\tVal accuracy : \", val_accuracy_list[i], \"\\tTest accuracy : \", test_accuracy_list[i])\n",
        "      sumTrain = sumTrain + train_accuracy_list[i]\n",
        "      sumVal = sumVal + val_accuracy_list[i]\n",
        "      sumTest = sumTest + test_accuracy_list[i]\n",
        "  sumTrain = sumTrain/5.0\n",
        "  sumVal = sumVal/5.0\n",
        "  sumTest = sumTest/5.0\n",
        "  print(\"------------------------------------------------------------------------------------------------\")\n",
        "  print(f\"Train accuracy(avg): {sumTrain} | Val accuracy(avg): {sumVal}  | Test accuracy(avg): {sumTest}\")\n",
        "  print(\"================================================================================================\")\n",
        "  n_list.append(j)\n",
        "  n_train_avg.append(sumTrain)\n",
        "  n_val_avg.append(sumVal)\n",
        "  n_test_avg.append(sumTest)\n",
        "  j = j+4"
      ],
      "execution_count": 36,
      "outputs": [
        {
          "output_type": "stream",
          "text": [
            "RFC: kmer1+enac  |   n =100 , max-depth =  2\n",
            "Fold :  1\n",
            "Fold :  2\n",
            "Fold :  3\n",
            "Fold :  4\n",
            "Fold :  5\n",
            "done\n",
            "train_accuracy :  0.7300874497754668 \tVal accuracy :  0.11483931947069943 \tTest accuracy :  0.5505\n",
            "train_accuracy :  0.7218151737177972 \tVal accuracy :  0.1275992438563327 \tTest accuracy :  0.5705\n",
            "train_accuracy :  0.8774521389742378 \tVal accuracy :  0.5954631379962193 \tTest accuracy :  0.767\n",
            "train_accuracy :  0.6966796644215999 \tVal accuracy :  0.12245862884160756 \tTest accuracy :  0.5275\n",
            "train_accuracy :  0.7426444523218717 \tVal accuracy :  0.05673758865248227 \tTest accuracy :  0.5095\n",
            "------------------------------------------------------------------------------------------------\n",
            "Train accuracy(avg): 0.7537357758421948 | Val accuracy(avg): 0.20341958376346825  | Test accuracy(avg): 0.585\n",
            "================================================================================================\n",
            "RFC: kmer1+enac  |   n =100 , max-depth =  6\n",
            "Fold :  1\n",
            "Fold :  2\n",
            "Fold :  3\n",
            "Fold :  4\n",
            "Fold :  5\n",
            "done\n",
            "train_accuracy :  0.9350035452611676 \tVal accuracy :  0.30860113421550095 \tTest accuracy :  0.598\n",
            "train_accuracy :  0.9151500827227605 \tVal accuracy :  0.3553875236294896 \tTest accuracy :  0.6425\n",
            "train_accuracy :  0.9566296383833609 \tVal accuracy :  0.6880907372400756 \tTest accuracy :  0.7975\n",
            "train_accuracy :  0.9327661585726101 \tVal accuracy :  0.735224586288416 \tTest accuracy :  0.69\n",
            "train_accuracy :  0.9470636889991728 \tVal accuracy :  0.40283687943262414 \tTest accuracy :  0.5795\n",
            "------------------------------------------------------------------------------------------------\n",
            "Train accuracy(avg): 0.9373226227878144 | Val accuracy(avg): 0.4980281721612213  | Test accuracy(avg): 0.6615\n",
            "================================================================================================\n",
            "RFC: kmer1+enac  |   n =100 , max-depth =  10\n",
            "Fold :  1\n",
            "Fold :  2\n",
            "Fold :  3\n",
            "Fold :  4\n",
            "Fold :  5\n",
            "done\n",
            "train_accuracy :  0.9968092649491845 \tVal accuracy :  0.36342155009451793 \tTest accuracy :  0.611\n",
            "train_accuracy :  0.9955093358544079 \tVal accuracy :  0.5212665406427222 \tTest accuracy :  0.656\n",
            "train_accuracy :  0.9955093358544079 \tVal accuracy :  0.7159735349716446 \tTest accuracy :  0.7925\n",
            "train_accuracy :  0.9931466383079286 \tVal accuracy :  0.8453900709219858 \tTest accuracy :  0.713\n",
            "train_accuracy :  0.9959825121115443 \tVal accuracy :  0.45768321513002364 \tTest accuracy :  0.5735\n",
            "------------------------------------------------------------------------------------------------\n",
            "Train accuracy(avg): 0.9953914174154945 | Val accuracy(avg): 0.5807469823521789  | Test accuracy(avg): 0.6692\n",
            "================================================================================================\n",
            "RFC: kmer1+enac  |   n =100 , max-depth =  14\n",
            "Fold :  1\n",
            "Fold :  2\n",
            "Fold :  3\n",
            "Fold :  4\n",
            "Fold :  5\n",
            "done\n",
            "train_accuracy :  1.0 \tVal accuracy :  0.33601134215500944 \tTest accuracy :  0.6175\n",
            "train_accuracy :  1.0 \tVal accuracy :  0.5321361058601134 \tTest accuracy :  0.6875\n",
            "train_accuracy :  1.0 \tVal accuracy :  0.7206994328922496 \tTest accuracy :  0.784\n",
            "train_accuracy :  1.0 \tVal accuracy :  0.8591016548463357 \tTest accuracy :  0.695\n",
            "train_accuracy :  1.0 \tVal accuracy :  0.4619385342789598 \tTest accuracy :  0.578\n",
            "------------------------------------------------------------------------------------------------\n",
            "Train accuracy(avg): 1.0 | Val accuracy(avg): 0.5819774140065336  | Test accuracy(avg): 0.6724\n",
            "================================================================================================\n",
            "RFC: kmer1+enac  |   n =100 , max-depth =  18\n",
            "Fold :  1\n",
            "Fold :  2\n",
            "Fold :  3\n",
            "Fold :  4\n",
            "Fold :  5\n",
            "done\n",
            "train_accuracy :  1.0 \tVal accuracy :  0.3435727788279773 \tTest accuracy :  0.615\n",
            "train_accuracy :  1.0 \tVal accuracy :  0.5500945179584121 \tTest accuracy :  0.6695\n",
            "train_accuracy :  1.0 \tVal accuracy :  0.7197542533081286 \tTest accuracy :  0.7935\n",
            "train_accuracy :  1.0 \tVal accuracy :  0.8775413711583925 \tTest accuracy :  0.7275\n",
            "train_accuracy :  1.0 \tVal accuracy :  0.4591016548463357 \tTest accuracy :  0.572\n",
            "------------------------------------------------------------------------------------------------\n",
            "Train accuracy(avg): 1.0 | Val accuracy(avg): 0.5900129152198492  | Test accuracy(avg): 0.6755\n",
            "================================================================================================\n",
            "RFC: kmer1+enac  |   n =100 , max-depth =  22\n",
            "Fold :  1\n",
            "Fold :  2\n",
            "Fold :  3\n",
            "Fold :  4\n",
            "Fold :  5\n",
            "done\n",
            "train_accuracy :  1.0 \tVal accuracy :  0.33175803402646503 \tTest accuracy :  0.598\n",
            "train_accuracy :  1.0 \tVal accuracy :  0.5448960302457467 \tTest accuracy :  0.671\n",
            "train_accuracy :  1.0 \tVal accuracy :  0.719281663516068 \tTest accuracy :  0.7955\n",
            "train_accuracy :  1.0 \tVal accuracy :  0.8723404255319149 \tTest accuracy :  0.72\n",
            "train_accuracy :  1.0 \tVal accuracy :  0.4666666666666667 \tTest accuracy :  0.57\n",
            "------------------------------------------------------------------------------------------------\n",
            "Train accuracy(avg): 1.0 | Val accuracy(avg): 0.5869885639973723  | Test accuracy(avg): 0.6709\n",
            "================================================================================================\n",
            "RFC: kmer1+enac  |   n =100 , max-depth =  26\n",
            "Fold :  1\n",
            "Fold :  2\n",
            "Fold :  3\n",
            "Fold :  4\n",
            "Fold :  5\n",
            "done\n",
            "train_accuracy :  1.0 \tVal accuracy :  0.33506616257088845 \tTest accuracy :  0.6005\n",
            "train_accuracy :  1.0 \tVal accuracy :  0.5444234404536862 \tTest accuracy :  0.6745\n",
            "train_accuracy :  1.0 \tVal accuracy :  0.7216446124763705 \tTest accuracy :  0.799\n",
            "train_accuracy :  1.0 \tVal accuracy :  0.8732860520094563 \tTest accuracy :  0.7225\n",
            "train_accuracy :  1.0 \tVal accuracy :  0.46335697399527187 \tTest accuracy :  0.571\n",
            "------------------------------------------------------------------------------------------------\n",
            "Train accuracy(avg): 1.0 | Val accuracy(avg): 0.5875554483011347  | Test accuracy(avg): 0.6735\n",
            "================================================================================================\n",
            "RFC: kmer1+enac  |   n =100 , max-depth =  30\n",
            "Fold :  1\n",
            "Fold :  2\n",
            "Fold :  3\n",
            "Fold :  4\n",
            "Fold :  5\n",
            "done\n",
            "train_accuracy :  1.0 \tVal accuracy :  0.33506616257088845 \tTest accuracy :  0.6005\n",
            "train_accuracy :  1.0 \tVal accuracy :  0.5444234404536862 \tTest accuracy :  0.6745\n",
            "train_accuracy :  1.0 \tVal accuracy :  0.72117202268431 \tTest accuracy :  0.7995\n",
            "train_accuracy :  1.0 \tVal accuracy :  0.8732860520094563 \tTest accuracy :  0.7225\n",
            "train_accuracy :  1.0 \tVal accuracy :  0.46335697399527187 \tTest accuracy :  0.571\n",
            "------------------------------------------------------------------------------------------------\n",
            "Train accuracy(avg): 1.0 | Val accuracy(avg): 0.5874609303427226  | Test accuracy(avg): 0.6736000000000001\n",
            "================================================================================================\n",
            "RFC: kmer1+enac  |   n =100 , max-depth =  34\n",
            "Fold :  1\n",
            "Fold :  2\n",
            "Fold :  3\n",
            "Fold :  4\n",
            "Fold :  5\n",
            "done\n",
            "train_accuracy :  1.0 \tVal accuracy :  0.33506616257088845 \tTest accuracy :  0.6005\n",
            "train_accuracy :  1.0 \tVal accuracy :  0.5444234404536862 \tTest accuracy :  0.6745\n",
            "train_accuracy :  1.0 \tVal accuracy :  0.72117202268431 \tTest accuracy :  0.7995\n",
            "train_accuracy :  1.0 \tVal accuracy :  0.8732860520094563 \tTest accuracy :  0.7225\n",
            "train_accuracy :  1.0 \tVal accuracy :  0.46335697399527187 \tTest accuracy :  0.571\n",
            "------------------------------------------------------------------------------------------------\n",
            "Train accuracy(avg): 1.0 | Val accuracy(avg): 0.5874609303427226  | Test accuracy(avg): 0.6736000000000001\n",
            "================================================================================================\n",
            "RFC: kmer1+enac  |   n =100 , max-depth =  38\n",
            "Fold :  1\n",
            "Fold :  2\n",
            "Fold :  3\n",
            "Fold :  4\n",
            "Fold :  5\n",
            "done\n",
            "train_accuracy :  1.0 \tVal accuracy :  0.33506616257088845 \tTest accuracy :  0.6005\n",
            "train_accuracy :  1.0 \tVal accuracy :  0.5444234404536862 \tTest accuracy :  0.6745\n",
            "train_accuracy :  1.0 \tVal accuracy :  0.72117202268431 \tTest accuracy :  0.7995\n",
            "train_accuracy :  1.0 \tVal accuracy :  0.8732860520094563 \tTest accuracy :  0.7225\n",
            "train_accuracy :  1.0 \tVal accuracy :  0.46335697399527187 \tTest accuracy :  0.571\n",
            "------------------------------------------------------------------------------------------------\n",
            "Train accuracy(avg): 1.0 | Val accuracy(avg): 0.5874609303427226  | Test accuracy(avg): 0.6736000000000001\n",
            "================================================================================================\n",
            "RFC: kmer1+enac  |   n =100 , max-depth =  42\n",
            "Fold :  1\n",
            "Fold :  2\n",
            "Fold :  3\n",
            "Fold :  4\n",
            "Fold :  5\n",
            "done\n",
            "train_accuracy :  1.0 \tVal accuracy :  0.33506616257088845 \tTest accuracy :  0.6005\n",
            "train_accuracy :  1.0 \tVal accuracy :  0.5444234404536862 \tTest accuracy :  0.6745\n",
            "train_accuracy :  1.0 \tVal accuracy :  0.72117202268431 \tTest accuracy :  0.7995\n",
            "train_accuracy :  1.0 \tVal accuracy :  0.8732860520094563 \tTest accuracy :  0.7225\n",
            "train_accuracy :  1.0 \tVal accuracy :  0.46335697399527187 \tTest accuracy :  0.571\n",
            "------------------------------------------------------------------------------------------------\n",
            "Train accuracy(avg): 1.0 | Val accuracy(avg): 0.5874609303427226  | Test accuracy(avg): 0.6736000000000001\n",
            "================================================================================================\n",
            "RFC: kmer1+enac  |   n =100 , max-depth =  46\n",
            "Fold :  1\n",
            "Fold :  2\n",
            "Fold :  3\n",
            "Fold :  4\n",
            "Fold :  5\n",
            "done\n",
            "train_accuracy :  1.0 \tVal accuracy :  0.33506616257088845 \tTest accuracy :  0.6005\n",
            "train_accuracy :  1.0 \tVal accuracy :  0.5444234404536862 \tTest accuracy :  0.6745\n",
            "train_accuracy :  1.0 \tVal accuracy :  0.72117202268431 \tTest accuracy :  0.7995\n",
            "train_accuracy :  1.0 \tVal accuracy :  0.8732860520094563 \tTest accuracy :  0.7225\n",
            "train_accuracy :  1.0 \tVal accuracy :  0.46335697399527187 \tTest accuracy :  0.571\n",
            "------------------------------------------------------------------------------------------------\n",
            "Train accuracy(avg): 1.0 | Val accuracy(avg): 0.5874609303427226  | Test accuracy(avg): 0.6736000000000001\n",
            "================================================================================================\n",
            "RFC: kmer1+enac  |   n =100 , max-depth =  50\n",
            "Fold :  1\n",
            "Fold :  2\n",
            "Fold :  3\n",
            "Fold :  4\n",
            "Fold :  5\n",
            "done\n",
            "train_accuracy :  1.0 \tVal accuracy :  0.33506616257088845 \tTest accuracy :  0.6005\n",
            "train_accuracy :  1.0 \tVal accuracy :  0.5444234404536862 \tTest accuracy :  0.6745\n",
            "train_accuracy :  1.0 \tVal accuracy :  0.72117202268431 \tTest accuracy :  0.7995\n",
            "train_accuracy :  1.0 \tVal accuracy :  0.8732860520094563 \tTest accuracy :  0.7225\n",
            "train_accuracy :  1.0 \tVal accuracy :  0.46335697399527187 \tTest accuracy :  0.571\n",
            "------------------------------------------------------------------------------------------------\n",
            "Train accuracy(avg): 1.0 | Val accuracy(avg): 0.5874609303427226  | Test accuracy(avg): 0.6736000000000001\n",
            "================================================================================================\n",
            "RFC: kmer1+enac  |   n =100 , max-depth =  54\n",
            "Fold :  1\n",
            "Fold :  2\n",
            "Fold :  3\n",
            "Fold :  4\n",
            "Fold :  5\n",
            "done\n",
            "train_accuracy :  1.0 \tVal accuracy :  0.33506616257088845 \tTest accuracy :  0.6005\n",
            "train_accuracy :  1.0 \tVal accuracy :  0.5444234404536862 \tTest accuracy :  0.6745\n",
            "train_accuracy :  1.0 \tVal accuracy :  0.72117202268431 \tTest accuracy :  0.7995\n",
            "train_accuracy :  1.0 \tVal accuracy :  0.8732860520094563 \tTest accuracy :  0.7225\n",
            "train_accuracy :  1.0 \tVal accuracy :  0.46335697399527187 \tTest accuracy :  0.571\n",
            "------------------------------------------------------------------------------------------------\n",
            "Train accuracy(avg): 1.0 | Val accuracy(avg): 0.5874609303427226  | Test accuracy(avg): 0.6736000000000001\n",
            "================================================================================================\n",
            "RFC: kmer1+enac  |   n =100 , max-depth =  58\n",
            "Fold :  1\n",
            "Fold :  2\n",
            "Fold :  3\n",
            "Fold :  4\n",
            "Fold :  5\n",
            "done\n",
            "train_accuracy :  1.0 \tVal accuracy :  0.33506616257088845 \tTest accuracy :  0.6005\n",
            "train_accuracy :  1.0 \tVal accuracy :  0.5444234404536862 \tTest accuracy :  0.6745\n",
            "train_accuracy :  1.0 \tVal accuracy :  0.72117202268431 \tTest accuracy :  0.7995\n",
            "train_accuracy :  1.0 \tVal accuracy :  0.8732860520094563 \tTest accuracy :  0.7225\n",
            "train_accuracy :  1.0 \tVal accuracy :  0.46335697399527187 \tTest accuracy :  0.571\n",
            "------------------------------------------------------------------------------------------------\n",
            "Train accuracy(avg): 1.0 | Val accuracy(avg): 0.5874609303427226  | Test accuracy(avg): 0.6736000000000001\n",
            "================================================================================================\n",
            "RFC: kmer1+enac  |   n =100 , max-depth =  62\n",
            "Fold :  1\n",
            "Fold :  2\n",
            "Fold :  3\n",
            "Fold :  4\n",
            "Fold :  5\n",
            "done\n",
            "train_accuracy :  1.0 \tVal accuracy :  0.33506616257088845 \tTest accuracy :  0.6005\n",
            "train_accuracy :  1.0 \tVal accuracy :  0.5444234404536862 \tTest accuracy :  0.6745\n",
            "train_accuracy :  1.0 \tVal accuracy :  0.72117202268431 \tTest accuracy :  0.7995\n",
            "train_accuracy :  1.0 \tVal accuracy :  0.8732860520094563 \tTest accuracy :  0.7225\n",
            "train_accuracy :  1.0 \tVal accuracy :  0.46335697399527187 \tTest accuracy :  0.571\n",
            "------------------------------------------------------------------------------------------------\n",
            "Train accuracy(avg): 1.0 | Val accuracy(avg): 0.5874609303427226  | Test accuracy(avg): 0.6736000000000001\n",
            "================================================================================================\n",
            "RFC: kmer1+enac  |   n =100 , max-depth =  66\n",
            "Fold :  1\n",
            "Fold :  2\n",
            "Fold :  3\n",
            "Fold :  4\n",
            "Fold :  5\n",
            "done\n",
            "train_accuracy :  1.0 \tVal accuracy :  0.33506616257088845 \tTest accuracy :  0.6005\n",
            "train_accuracy :  1.0 \tVal accuracy :  0.5444234404536862 \tTest accuracy :  0.6745\n",
            "train_accuracy :  1.0 \tVal accuracy :  0.72117202268431 \tTest accuracy :  0.7995\n",
            "train_accuracy :  1.0 \tVal accuracy :  0.8732860520094563 \tTest accuracy :  0.7225\n",
            "train_accuracy :  1.0 \tVal accuracy :  0.46335697399527187 \tTest accuracy :  0.571\n",
            "------------------------------------------------------------------------------------------------\n",
            "Train accuracy(avg): 1.0 | Val accuracy(avg): 0.5874609303427226  | Test accuracy(avg): 0.6736000000000001\n",
            "================================================================================================\n",
            "RFC: kmer1+enac  |   n =100 , max-depth =  70\n",
            "Fold :  1\n",
            "Fold :  2\n",
            "Fold :  3\n",
            "Fold :  4\n",
            "Fold :  5\n",
            "done\n",
            "train_accuracy :  1.0 \tVal accuracy :  0.33506616257088845 \tTest accuracy :  0.6005\n",
            "train_accuracy :  1.0 \tVal accuracy :  0.5444234404536862 \tTest accuracy :  0.6745\n",
            "train_accuracy :  1.0 \tVal accuracy :  0.72117202268431 \tTest accuracy :  0.7995\n",
            "train_accuracy :  1.0 \tVal accuracy :  0.8732860520094563 \tTest accuracy :  0.7225\n",
            "train_accuracy :  1.0 \tVal accuracy :  0.46335697399527187 \tTest accuracy :  0.571\n",
            "------------------------------------------------------------------------------------------------\n",
            "Train accuracy(avg): 1.0 | Val accuracy(avg): 0.5874609303427226  | Test accuracy(avg): 0.6736000000000001\n",
            "================================================================================================\n",
            "RFC: kmer1+enac  |   n =100 , max-depth =  74\n",
            "Fold :  1\n",
            "Fold :  2\n",
            "Fold :  3\n",
            "Fold :  4\n",
            "Fold :  5\n",
            "done\n",
            "train_accuracy :  1.0 \tVal accuracy :  0.33506616257088845 \tTest accuracy :  0.6005\n",
            "train_accuracy :  1.0 \tVal accuracy :  0.5444234404536862 \tTest accuracy :  0.6745\n",
            "train_accuracy :  1.0 \tVal accuracy :  0.72117202268431 \tTest accuracy :  0.7995\n",
            "train_accuracy :  1.0 \tVal accuracy :  0.8732860520094563 \tTest accuracy :  0.7225\n",
            "train_accuracy :  1.0 \tVal accuracy :  0.46335697399527187 \tTest accuracy :  0.571\n",
            "------------------------------------------------------------------------------------------------\n",
            "Train accuracy(avg): 1.0 | Val accuracy(avg): 0.5874609303427226  | Test accuracy(avg): 0.6736000000000001\n",
            "================================================================================================\n",
            "RFC: kmer1+enac  |   n =100 , max-depth =  78\n",
            "Fold :  1\n",
            "Fold :  2\n",
            "Fold :  3\n",
            "Fold :  4\n",
            "Fold :  5\n",
            "done\n",
            "train_accuracy :  1.0 \tVal accuracy :  0.33506616257088845 \tTest accuracy :  0.6005\n",
            "train_accuracy :  1.0 \tVal accuracy :  0.5444234404536862 \tTest accuracy :  0.6745\n",
            "train_accuracy :  1.0 \tVal accuracy :  0.72117202268431 \tTest accuracy :  0.7995\n",
            "train_accuracy :  1.0 \tVal accuracy :  0.8732860520094563 \tTest accuracy :  0.7225\n",
            "train_accuracy :  1.0 \tVal accuracy :  0.46335697399527187 \tTest accuracy :  0.571\n",
            "------------------------------------------------------------------------------------------------\n",
            "Train accuracy(avg): 1.0 | Val accuracy(avg): 0.5874609303427226  | Test accuracy(avg): 0.6736000000000001\n",
            "================================================================================================\n",
            "RFC: kmer1+enac  |   n =100 , max-depth =  82\n",
            "Fold :  1\n",
            "Fold :  2\n",
            "Fold :  3\n",
            "Fold :  4\n",
            "Fold :  5\n",
            "done\n",
            "train_accuracy :  1.0 \tVal accuracy :  0.33506616257088845 \tTest accuracy :  0.6005\n",
            "train_accuracy :  1.0 \tVal accuracy :  0.5444234404536862 \tTest accuracy :  0.6745\n",
            "train_accuracy :  1.0 \tVal accuracy :  0.72117202268431 \tTest accuracy :  0.7995\n",
            "train_accuracy :  1.0 \tVal accuracy :  0.8732860520094563 \tTest accuracy :  0.7225\n",
            "train_accuracy :  1.0 \tVal accuracy :  0.46335697399527187 \tTest accuracy :  0.571\n",
            "------------------------------------------------------------------------------------------------\n",
            "Train accuracy(avg): 1.0 | Val accuracy(avg): 0.5874609303427226  | Test accuracy(avg): 0.6736000000000001\n",
            "================================================================================================\n",
            "RFC: kmer1+enac  |   n =100 , max-depth =  86\n",
            "Fold :  1\n",
            "Fold :  2\n",
            "Fold :  3\n",
            "Fold :  4\n",
            "Fold :  5\n",
            "done\n",
            "train_accuracy :  1.0 \tVal accuracy :  0.33506616257088845 \tTest accuracy :  0.6005\n",
            "train_accuracy :  1.0 \tVal accuracy :  0.5444234404536862 \tTest accuracy :  0.6745\n",
            "train_accuracy :  1.0 \tVal accuracy :  0.72117202268431 \tTest accuracy :  0.7995\n",
            "train_accuracy :  1.0 \tVal accuracy :  0.8732860520094563 \tTest accuracy :  0.7225\n",
            "train_accuracy :  1.0 \tVal accuracy :  0.46335697399527187 \tTest accuracy :  0.571\n",
            "------------------------------------------------------------------------------------------------\n",
            "Train accuracy(avg): 1.0 | Val accuracy(avg): 0.5874609303427226  | Test accuracy(avg): 0.6736000000000001\n",
            "================================================================================================\n",
            "RFC: kmer1+enac  |   n =100 , max-depth =  90\n",
            "Fold :  1\n",
            "Fold :  2\n",
            "Fold :  3\n",
            "Fold :  4\n",
            "Fold :  5\n",
            "done\n",
            "train_accuracy :  1.0 \tVal accuracy :  0.33506616257088845 \tTest accuracy :  0.6005\n",
            "train_accuracy :  1.0 \tVal accuracy :  0.5444234404536862 \tTest accuracy :  0.6745\n",
            "train_accuracy :  1.0 \tVal accuracy :  0.72117202268431 \tTest accuracy :  0.7995\n",
            "train_accuracy :  1.0 \tVal accuracy :  0.8732860520094563 \tTest accuracy :  0.7225\n",
            "train_accuracy :  1.0 \tVal accuracy :  0.46335697399527187 \tTest accuracy :  0.571\n",
            "------------------------------------------------------------------------------------------------\n",
            "Train accuracy(avg): 1.0 | Val accuracy(avg): 0.5874609303427226  | Test accuracy(avg): 0.6736000000000001\n",
            "================================================================================================\n",
            "RFC: kmer1+enac  |   n =100 , max-depth =  94\n",
            "Fold :  1\n",
            "Fold :  2\n",
            "Fold :  3\n",
            "Fold :  4\n",
            "Fold :  5\n",
            "done\n",
            "train_accuracy :  1.0 \tVal accuracy :  0.33506616257088845 \tTest accuracy :  0.6005\n",
            "train_accuracy :  1.0 \tVal accuracy :  0.5444234404536862 \tTest accuracy :  0.6745\n",
            "train_accuracy :  1.0 \tVal accuracy :  0.72117202268431 \tTest accuracy :  0.7995\n",
            "train_accuracy :  1.0 \tVal accuracy :  0.8732860520094563 \tTest accuracy :  0.7225\n",
            "train_accuracy :  1.0 \tVal accuracy :  0.46335697399527187 \tTest accuracy :  0.571\n",
            "------------------------------------------------------------------------------------------------\n",
            "Train accuracy(avg): 1.0 | Val accuracy(avg): 0.5874609303427226  | Test accuracy(avg): 0.6736000000000001\n",
            "================================================================================================\n",
            "RFC: kmer1+enac  |   n =100 , max-depth =  98\n",
            "Fold :  1\n",
            "Fold :  2\n",
            "Fold :  3\n",
            "Fold :  4\n",
            "Fold :  5\n",
            "done\n",
            "train_accuracy :  1.0 \tVal accuracy :  0.33506616257088845 \tTest accuracy :  0.6005\n",
            "train_accuracy :  1.0 \tVal accuracy :  0.5444234404536862 \tTest accuracy :  0.6745\n",
            "train_accuracy :  1.0 \tVal accuracy :  0.72117202268431 \tTest accuracy :  0.7995\n",
            "train_accuracy :  1.0 \tVal accuracy :  0.8732860520094563 \tTest accuracy :  0.7225\n",
            "train_accuracy :  1.0 \tVal accuracy :  0.46335697399527187 \tTest accuracy :  0.571\n",
            "------------------------------------------------------------------------------------------------\n",
            "Train accuracy(avg): 1.0 | Val accuracy(avg): 0.5874609303427226  | Test accuracy(avg): 0.6736000000000001\n",
            "================================================================================================\n"
          ],
          "name": "stdout"
        }
      ]
    },
    {
      "cell_type": "code",
      "metadata": {
        "id": "ZHFEhZGlq4Q8",
        "colab_type": "code",
        "colab": {
          "base_uri": "https://localhost:8080/",
          "height": 963
        },
        "outputId": "d6f2ded2-f9d6-48c4-8162-30c1b87be0f0"
      },
      "source": [
        "i=0  \n",
        "print(\" max_dpth  train            val                  test\")\n",
        "print(\"===================================================================\")\n",
        "for x in n_list:\n",
        "  print(f\"{x}  -  {n_train_avg[i]} - {n_val_avg[i]} - {n_test_avg[i]}\")\n",
        "  print(\"--------------------------------------------------------------------\")\n",
        "  i=i+1"
      ],
      "execution_count": 42,
      "outputs": [
        {
          "output_type": "stream",
          "text": [
            " max_dpth  train            val                  test\n",
            "===================================================================\n",
            "2  -  0.7537357758421948 - 0.20341958376346825 - 0.585\n",
            "--------------------------------------------------------------------\n",
            "6  -  0.9373226227878144 - 0.4980281721612213 - 0.6615\n",
            "--------------------------------------------------------------------\n",
            "10  -  0.9953914174154945 - 0.5807469823521789 - 0.6692\n",
            "--------------------------------------------------------------------\n",
            "14  -  1.0 - 0.5819774140065336 - 0.6724\n",
            "--------------------------------------------------------------------\n",
            "18  -  1.0 - 0.5900129152198492 - 0.6755\n",
            "--------------------------------------------------------------------\n",
            "22  -  1.0 - 0.5869885639973723 - 0.6709\n",
            "--------------------------------------------------------------------\n",
            "26  -  1.0 - 0.5875554483011347 - 0.6735\n",
            "--------------------------------------------------------------------\n",
            "30  -  1.0 - 0.5874609303427226 - 0.6736000000000001\n",
            "--------------------------------------------------------------------\n",
            "34  -  1.0 - 0.5874609303427226 - 0.6736000000000001\n",
            "--------------------------------------------------------------------\n",
            "38  -  1.0 - 0.5874609303427226 - 0.6736000000000001\n",
            "--------------------------------------------------------------------\n",
            "42  -  1.0 - 0.5874609303427226 - 0.6736000000000001\n",
            "--------------------------------------------------------------------\n",
            "46  -  1.0 - 0.5874609303427226 - 0.6736000000000001\n",
            "--------------------------------------------------------------------\n",
            "50  -  1.0 - 0.5874609303427226 - 0.6736000000000001\n",
            "--------------------------------------------------------------------\n",
            "54  -  1.0 - 0.5874609303427226 - 0.6736000000000001\n",
            "--------------------------------------------------------------------\n",
            "58  -  1.0 - 0.5874609303427226 - 0.6736000000000001\n",
            "--------------------------------------------------------------------\n",
            "62  -  1.0 - 0.5874609303427226 - 0.6736000000000001\n",
            "--------------------------------------------------------------------\n",
            "66  -  1.0 - 0.5874609303427226 - 0.6736000000000001\n",
            "--------------------------------------------------------------------\n",
            "70  -  1.0 - 0.5874609303427226 - 0.6736000000000001\n",
            "--------------------------------------------------------------------\n",
            "74  -  1.0 - 0.5874609303427226 - 0.6736000000000001\n",
            "--------------------------------------------------------------------\n",
            "78  -  1.0 - 0.5874609303427226 - 0.6736000000000001\n",
            "--------------------------------------------------------------------\n",
            "82  -  1.0 - 0.5874609303427226 - 0.6736000000000001\n",
            "--------------------------------------------------------------------\n",
            "86  -  1.0 - 0.5874609303427226 - 0.6736000000000001\n",
            "--------------------------------------------------------------------\n",
            "90  -  1.0 - 0.5874609303427226 - 0.6736000000000001\n",
            "--------------------------------------------------------------------\n",
            "94  -  1.0 - 0.5874609303427226 - 0.6736000000000001\n",
            "--------------------------------------------------------------------\n",
            "98  -  1.0 - 0.5874609303427226 - 0.6736000000000001\n",
            "--------------------------------------------------------------------\n"
          ],
          "name": "stdout"
        }
      ]
    },
    {
      "cell_type": "code",
      "metadata": {
        "id": "M-8SwsofHdqv",
        "colab_type": "code",
        "colab": {
          "base_uri": "https://localhost:8080/",
          "height": 141
        },
        "outputId": "5f19de3b-15b7-48a0-de64-bc6cc8a96220"
      },
      "source": [
        "# Import pyplot\n",
        "import matplotlib.pyplot as plt\n",
        "\n",
        "\n",
        "# Define plot space\n",
        "fig, ax = plt.subplots(figsize=(24, 2))\n",
        "\n",
        "# Define x and y axes\n",
        "ax.plot(n_list, \n",
        "        n_train_avg,\n",
        "        marker = 'o')\n",
        "\n",
        "# Set plot title and axes labels\n",
        "ax.set(title = \"n and Train accuracy\",\n",
        "       xlabel = \"n values\",\n",
        "       ylabel = \"Train accuracy\")\n",
        "\n",
        "plt.show()"
      ],
      "execution_count": 38,
      "outputs": [
        {
          "output_type": "display_data",
          "data": {
            "image/png": "[encoded data removed]",
            "text/plain": [
              "<Figure size 1728x144 with 1 Axes>"
            ]
          },
          "metadata": {
            "tags": [],
            "needs_background": "light"
          }
        }
      ]
    },
    {
      "cell_type": "code",
      "metadata": {
        "id": "oRdyw4YjiRn2",
        "colab_type": "code",
        "colab": {
          "base_uri": "https://localhost:8080/",
          "height": 141
        },
        "outputId": "0c2ebf07-8a4c-429e-924a-d94aa7cfa5cf"
      },
      "source": [
        "# Import pyplot\n",
        "import matplotlib.pyplot as plt\n",
        "\n",
        "\n",
        "# Define plot space\n",
        "fig, ax = plt.subplots(figsize=(24, 2))\n",
        "\n",
        "# Define x and y axes\n",
        "ax.plot(n_list, \n",
        "        n_val_avg,\n",
        "        marker = 'o')\n",
        "\n",
        "# Set plot title and axes labels\n",
        "ax.set(title = \"n and Val accuracy\",\n",
        "       xlabel = \"n values\",\n",
        "       ylabel = \"Val accuracy\")\n",
        "\n",
        "plt.show()"
      ],
      "execution_count": 39,
      "outputs": [
        {
          "output_type": "display_data",
          "data": {
            "image/png": "[encoded data removed]",
            "text/plain": [
              "<Figure size 1728x144 with 1 Axes>"
            ]
          },
          "metadata": {
            "tags": [],
            "needs_background": "light"
          }
        }
      ]
    },
    {
      "cell_type": "code",
      "metadata": {
        "id": "KHxJLrI2jYhU",
        "colab_type": "code",
        "colab": {
          "base_uri": "https://localhost:8080/",
          "height": 141
        },
        "outputId": "9f35e530-6204-4a47-c389-8b5f501fe80e"
      },
      "source": [
        "# Import pyplot\n",
        "import matplotlib.pyplot as plt\n",
        "\n",
        "\n",
        "# Define plot space\n",
        "fig, ax = plt.subplots(figsize=(24, 2))\n",
        "\n",
        "# Define x and y axes\n",
        "ax.plot(n_list, \n",
        "        n_test_avg,\n",
        "        marker = 'o')\n",
        "\n",
        "# Set plot title and axes labels\n",
        "ax.set(title = \"n and Test accuracy\",\n",
        "       xlabel = \"n values\",\n",
        "       ylabel = \"Test accuracy\")\n",
        "\n",
        "plt.show()"
      ],
      "execution_count": 40,
      "outputs": [
        {
          "output_type": "display_data",
          "data": {
            "image/png": "[encoded data removed]",
            "text/plain": [
              "<Figure size 1728x144 with 1 Axes>"
            ]
          },
          "metadata": {
            "tags": [],
            "needs_background": "light"
          }
        }
      ]
    },
    {
      "cell_type": "code",
      "metadata": {
        "id": "HM-1X6lRj08s",
        "colab_type": "code",
        "colab": {}
      },
      "source": [
        ""
      ],
      "execution_count": null,
      "outputs": []
    }
  ]
}