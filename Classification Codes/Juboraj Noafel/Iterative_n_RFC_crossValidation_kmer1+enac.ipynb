{
  "nbformat": 4,
  "nbformat_minor": 0,
  "metadata": {
    "colab": {
      "name": "Iterative_n_RFC_crossValidation_kmer1+enac.ipynb",
      "provenance": [],
      "collapsed_sections": []
    },
    "kernelspec": {
      "name": "python3",
      "display_name": "Python 3"
    }
  },
  "cells": [
    {
      "cell_type": "code",
      "metadata": {
        "id": "xcg-c9ezGOHr",
        "colab_type": "code",
        "colab": {}
      },
      "source": [
        "from sklearn.model_selection import train_test_split\n",
        "import numpy as np"
      ],
      "execution_count": 1,
      "outputs": []
    },
    {
      "cell_type": "code",
      "metadata": {
        "id": "mNgMT0uORFWb",
        "colab_type": "code",
        "colab": {}
      },
      "source": [
        "from sklearn.ensemble import RandomForestClassifier"
      ],
      "execution_count": 2,
      "outputs": []
    },
    {
      "cell_type": "code",
      "metadata": {
        "id": "wROFsPwdNRI5",
        "colab_type": "code",
        "colab": {}
      },
      "source": [
        "from sklearn.svm import SVC"
      ],
      "execution_count": 3,
      "outputs": []
    },
    {
      "cell_type": "code",
      "metadata": {
        "id": "SkYWCRv0Oyiv",
        "colab_type": "code",
        "colab": {}
      },
      "source": [
        "from sklearn.metrics import accuracy_score"
      ],
      "execution_count": 4,
      "outputs": []
    },
    {
      "cell_type": "code",
      "metadata": {
        "id": "VCZnwzteUht2",
        "colab_type": "code",
        "colab": {}
      },
      "source": [
        "from sklearn.model_selection import KFold"
      ],
      "execution_count": 5,
      "outputs": []
    },
    {
      "cell_type": "code",
      "metadata": {
        "id": "va5Hjzg8DKsG",
        "colab_type": "code",
        "colab": {
          "base_uri": "https://localhost:8080/",
          "height": 35
        },
        "outputId": "19edb406-663e-49a6-9192-e96a145c31a6"
      },
      "source": [
        "from google.colab import drive\n",
        "drive.mount('/content/drive')"
      ],
      "execution_count": 6,
      "outputs": [
        {
          "output_type": "stream",
          "text": [
            "Mounted at /content/drive\n"
          ],
          "name": "stdout"
        }
      ]
    },
    {
      "cell_type": "code",
      "metadata": {
        "id": "yLUt4RggDDLu",
        "colab_type": "code",
        "colab": {}
      },
      "source": [
        "#kmer1\n",
        "fs1Train = [\"/content/drive/My Drive/Pattern project training/pattern/data/converted/A.thaliana5289_pos/combined/Kmer1/A.thaliana5289indep_pos_kmer_1.npy\",\n",
        "                   \"/content/drive/My Drive/Pattern project training/pattern/data/converted/A.thaliana5289_neg/concated result/concated kmer1/A.thaliana5289_neg_kmr1.npy\"]\n",
        "fs1Test = [\"/content/drive/My Drive/Pattern project training/pattern/npy/A.thaliana1000indep_pos_kmer_1.npy\", \n",
        "                  \"/content/drive/My Drive/Pattern project training/pattern/npy/A.thaliana1000indep_neg_kmer_1.npy\"]\n",
        "\n",
        "\n",
        "#enac\n",
        "fs2Train = [\"/content/drive/My Drive/Pattern project training/pattern/data/converted/A.thaliana5289_pos/combined/ENAC/A.thaliana5289indep_pos_ENAC.npy\",\n",
        "                   \"/content/drive/My Drive/Pattern project training/pattern/data/converted/A.thaliana5289_neg/concated result/concated enac/A.thaliana5289_neg_ENAC.npy\"]\n",
        "fs2Test = [\"/content/drive/My Drive/Pattern project training/pattern/npy/A.thaliana1000indep_pos_ENAC.npy\", \n",
        "                  \"/content/drive/My Drive/Pattern project training/pattern/npy/A.thaliana1000indep_neg_enac.npy\"]"
      ],
      "execution_count": 7,
      "outputs": []
    },
    {
      "cell_type": "code",
      "metadata": {
        "id": "Bkibhn2DD9hU",
        "colab_type": "code",
        "colab": {}
      },
      "source": [
        "kmer1_pos_5289 = fs1Train[0]\n",
        "kmer1_neg_5289 = fs1Train[1]\n",
        "kmer1_pos_1000 = fs1Test[0]\n",
        "kmer1_neg_1000 = fs1Test[1]\n",
        "\n",
        "\n",
        "enac_pos_5289 = fs2Train[0]\n",
        "enac_neg_5289 = fs2Train[1]\n",
        "enac_pos_1000 = fs2Test[0]\n",
        "enac_neg_1000 = fs2Test[1]\n",
        "\n",
        "\n",
        "\n",
        "\n",
        "x_train_pos = np.concatenate((np.load(kmer1_pos_5289),np.load(enac_pos_5289)),axis=1) \n",
        "x_train_neg = np.concatenate((np.load(kmer1_neg_5289),np.load(enac_neg_5289)),axis=1) \n",
        "x_test_pos = np.concatenate((np.load(kmer1_pos_1000),np.load(enac_pos_1000)),axis=1)  \n",
        "x_test_neg = np.concatenate((np.load(kmer1_neg_1000),np.load(enac_neg_1000)),axis=1)  \n",
        "\n",
        "y_train_pos = np.tile(1, 5289) \n",
        "y_train_neg = np.tile(0, 5289) \n",
        "y_test_pos = np.tile(1, 1000) \n",
        "y_test_neg = np.tile(0, 1000) "
      ],
      "execution_count": 8,
      "outputs": []
    },
    {
      "cell_type": "code",
      "metadata": {
        "id": "H84h5ZubMHuZ",
        "colab_type": "code",
        "colab": {
          "base_uri": "https://localhost:8080/",
          "height": 163
        },
        "outputId": "b449f359-98e9-4408-d8c8-9b6ddee04406"
      },
      "source": [
        "print(x_train_pos.shape)\n",
        "print(x_train_neg.shape)\n",
        "print(x_test_pos.shape)\n",
        "print(x_test_neg.shape)\n",
        "\n",
        "print(y_train_pos.shape)\n",
        "print(y_train_neg.shape)\n",
        "print(y_test_pos.shape)\n",
        "print(y_test_neg.shape)"
      ],
      "execution_count": 9,
      "outputs": [
        {
          "output_type": "stream",
          "text": [
            "(5289, 152)\n",
            "(5289, 152)\n",
            "(1000, 152)\n",
            "(1000, 152)\n",
            "(5289,)\n",
            "(5289,)\n",
            "(1000,)\n",
            "(1000,)\n"
          ],
          "name": "stdout"
        }
      ]
    },
    {
      "cell_type": "code",
      "metadata": {
        "id": "4woF7AbhG2D5",
        "colab_type": "code",
        "colab": {}
      },
      "source": [
        "seed = 40\n",
        "np.random.seed(seed)"
      ],
      "execution_count": 10,
      "outputs": []
    },
    {
      "cell_type": "code",
      "metadata": {
        "id": "Rxp25B0pIt5S",
        "colab_type": "code",
        "colab": {}
      },
      "source": [
        "x_training = np.concatenate((x_train_pos, x_train_neg), axis= 0)\n",
        "y_training = np.concatenate((y_train_pos, y_train_neg))"
      ],
      "execution_count": 11,
      "outputs": []
    },
    {
      "cell_type": "code",
      "metadata": {
        "id": "5SlGQaZ0QtwH",
        "colab_type": "code",
        "colab": {}
      },
      "source": [
        "x_test = np.concatenate((x_test_pos, x_test_neg))\n",
        "y_test = np.concatenate((y_test_pos, y_test_neg))"
      ],
      "execution_count": 12,
      "outputs": []
    },
    {
      "cell_type": "code",
      "metadata": {
        "id": "AFWq8oQ9Q8pr",
        "colab_type": "code",
        "colab": {
          "base_uri": "https://localhost:8080/",
          "height": 54
        },
        "outputId": "edc849e8-babc-43b4-c299-d2c196aac7aa"
      },
      "source": [
        "print(x_test.shape)\n",
        "print(y_test.shape)"
      ],
      "execution_count": 13,
      "outputs": [
        {
          "output_type": "stream",
          "text": [
            "(2000, 152)\n",
            "(2000,)\n"
          ],
          "name": "stdout"
        }
      ]
    },
    {
      "cell_type": "code",
      "metadata": {
        "id": "r2lmmmO7JotB",
        "colab_type": "code",
        "colab": {
          "base_uri": "https://localhost:8080/",
          "height": 54
        },
        "outputId": "f44e591d-7be3-421c-bb32-f7e9bf20d1b8"
      },
      "source": [
        "print(x_training.shape)\n",
        "print(y_training.shape)"
      ],
      "execution_count": 14,
      "outputs": [
        {
          "output_type": "stream",
          "text": [
            "(10578, 152)\n",
            "(10578,)\n"
          ],
          "name": "stdout"
        }
      ]
    },
    {
      "cell_type": "code",
      "metadata": {
        "id": "s7kBxZXMX5q-",
        "colab_type": "code",
        "colab": {
          "base_uri": "https://localhost:8080/",
          "height": 74
        },
        "outputId": "fc5460e3-8336-4425-a259-81df329dae88"
      },
      "source": [
        "kf = KFold(n_splits=5, random_state=seed)"
      ],
      "execution_count": 15,
      "outputs": [
        {
          "output_type": "stream",
          "text": [
            "/usr/local/lib/python3.6/dist-packages/sklearn/model_selection/_split.py:296: FutureWarning: Setting a random_state has no effect since shuffle is False. This will raise an error in 0.24. You should leave random_state to its default (None), or set shuffle=True.\n",
            "  FutureWarning\n"
          ],
          "name": "stderr"
        }
      ]
    },
    {
      "cell_type": "code",
      "metadata": {
        "id": "veZ7aQjkV_62",
        "colab_type": "code",
        "colab": {
          "base_uri": "https://localhost:8080/",
          "height": 1000
        },
        "outputId": "58cb7a15-31ce-47b6-f134-6b94d1f1301a"
      },
      "source": [
        "j=100\n",
        "n_list=[]\n",
        "n_test_avg =[]\n",
        "n_train_avg = []\n",
        "n_val_avg = [] \n",
        "while j <= 1000:\n",
        "  n = j\n",
        "  sumTrain = sumVal = sumTest =  0\n",
        "  print(f\"RFC: kmer1+enac  |   n = {n}\")\n",
        "  clf = RandomForestClassifier(n_estimators = n, random_state=seed)\n",
        "\n",
        "  val_accuracy_list = []\n",
        "  train_accuracy_list = []\n",
        "  test_accuracy_list = []\n",
        "  n = 1\n",
        "  for train_index, val_index in kf.split(x_training):\n",
        "      print(\"Fold : \",n)\n",
        "      X_train, X_val = x_training[train_index], x_training[val_index]\n",
        "      y_train, y_val = y_training[train_index], y_training[val_index]\n",
        "      \n",
        "      clf.fit(X_train, y_train)\n",
        "\n",
        "      y_val_pred = clf.predict(X_val)\n",
        "      val_accuracy = accuracy_score(y_val, y_val_pred)\n",
        "      val_accuracy_list.append(val_accuracy)\n",
        "\n",
        "      y_train_pred = clf.predict(X_train)\n",
        "      train_accuracy = accuracy_score(y_train, y_train_pred)\n",
        "      train_accuracy_list.append(train_accuracy)\n",
        "\n",
        "      y_test_pred = clf.predict(x_test)\n",
        "      test_accuracy = accuracy_score(y_test, y_test_pred)\n",
        "      test_accuracy_list.append(test_accuracy)\n",
        "\n",
        "      n += 1 \n",
        "\n",
        "  print(\"done\")\n",
        "  for i in range(0, len(train_accuracy_list)):\n",
        "      print(\"train_accuracy : \", train_accuracy_list[i], \"\\tVal accuracy : \", val_accuracy_list[i], \"\\tTest accuracy : \", test_accuracy_list[i])\n",
        "      sumTrain = sumTrain + train_accuracy_list[i]\n",
        "      sumVal = sumVal + val_accuracy_list[i]\n",
        "      sumTest = sumTest + test_accuracy_list[i]\n",
        "  sumTrain = sumTrain/5.0\n",
        "  sumVal = sumVal/5.0\n",
        "  sumTest = sumTest/5.0\n",
        "  print(\"------------------------------------------------------------------------------------------------\")\n",
        "  print(f\"Train accuracy(avg): {sumTrain} | Val accuracy(avg): {sumVal}  | Test accuracy(avg): {sumTest}\")\n",
        "  print(\"================================================================================================\")\n",
        "  n_list.append(j)\n",
        "  n_train_avg.append(sumTrain)\n",
        "  n_val_avg.append(sumVal)\n",
        "  n_test_avg.append(sumTest)\n",
        "  j = j+50"
      ],
      "execution_count": 16,
      "outputs": [
        {
          "output_type": "stream",
          "text": [
            "RFC: kmer1+enac  |   n = 100\n",
            "Fold :  1\n",
            "Fold :  2\n",
            "Fold :  3\n",
            "Fold :  4\n",
            "Fold :  5\n",
            "done\n",
            "train_accuracy :  1.0 \tVal accuracy :  0.33506616257088845 \tTest accuracy :  0.6005\n",
            "train_accuracy :  1.0 \tVal accuracy :  0.5444234404536862 \tTest accuracy :  0.6745\n",
            "train_accuracy :  1.0 \tVal accuracy :  0.72117202268431 \tTest accuracy :  0.7995\n",
            "train_accuracy :  1.0 \tVal accuracy :  0.8732860520094563 \tTest accuracy :  0.7225\n",
            "train_accuracy :  1.0 \tVal accuracy :  0.46335697399527187 \tTest accuracy :  0.571\n",
            "------------------------------------------------------------------------------------------------\n",
            "Train accuracy(avg): 1.0 | Val accuracy(avg): 0.5874609303427226  | Test accuracy(avg): 0.6736000000000001\n",
            "================================================================================================\n",
            "RFC: kmer1+enac  |   n = 150\n",
            "Fold :  1\n",
            "Fold :  2\n",
            "Fold :  3\n",
            "Fold :  4\n",
            "Fold :  5\n",
            "done\n",
            "train_accuracy :  1.0 \tVal accuracy :  0.35255198487712663 \tTest accuracy :  0.608\n",
            "train_accuracy :  1.0 \tVal accuracy :  0.525992438563327 \tTest accuracy :  0.6635\n",
            "train_accuracy :  1.0 \tVal accuracy :  0.7254253308128544 \tTest accuracy :  0.804\n",
            "train_accuracy :  1.0 \tVal accuracy :  0.873758865248227 \tTest accuracy :  0.718\n",
            "train_accuracy :  1.0 \tVal accuracy :  0.4666666666666667 \tTest accuracy :  0.5695\n",
            "------------------------------------------------------------------------------------------------\n",
            "Train accuracy(avg): 1.0 | Val accuracy(avg): 0.5888790572336403  | Test accuracy(avg): 0.6726\n",
            "================================================================================================\n",
            "RFC: kmer1+enac  |   n = 200\n",
            "Fold :  1\n",
            "Fold :  2\n",
            "Fold :  3\n",
            "Fold :  4\n",
            "Fold :  5\n",
            "done\n",
            "train_accuracy :  1.0 \tVal accuracy :  0.35255198487712663 \tTest accuracy :  0.6085\n",
            "train_accuracy :  1.0 \tVal accuracy :  0.554820415879017 \tTest accuracy :  0.663\n",
            "train_accuracy :  1.0 \tVal accuracy :  0.724007561436673 \tTest accuracy :  0.8005\n",
            "train_accuracy :  1.0 \tVal accuracy :  0.8794326241134752 \tTest accuracy :  0.723\n",
            "train_accuracy :  1.0 \tVal accuracy :  0.46808510638297873 \tTest accuracy :  0.567\n",
            "------------------------------------------------------------------------------------------------\n",
            "Train accuracy(avg): 1.0 | Val accuracy(avg): 0.5957795385378541  | Test accuracy(avg): 0.6724\n",
            "================================================================================================\n",
            "RFC: kmer1+enac  |   n = 250\n",
            "Fold :  1\n",
            "Fold :  2\n",
            "Fold :  3\n",
            "Fold :  4\n",
            "Fold :  5\n",
            "done\n",
            "train_accuracy :  1.0 \tVal accuracy :  0.3492438563327032 \tTest accuracy :  0.5995\n",
            "train_accuracy :  1.0 \tVal accuracy :  0.5708884688090737 \tTest accuracy :  0.6685\n",
            "train_accuracy :  1.0 \tVal accuracy :  0.7225897920604915 \tTest accuracy :  0.7975\n",
            "train_accuracy :  1.0 \tVal accuracy :  0.8841607565011821 \tTest accuracy :  0.7285\n",
            "train_accuracy :  1.0 \tVal accuracy :  0.4690307328605201 \tTest accuracy :  0.562\n",
            "------------------------------------------------------------------------------------------------\n",
            "Train accuracy(avg): 1.0 | Val accuracy(avg): 0.599182721312794  | Test accuracy(avg): 0.6712\n",
            "================================================================================================\n",
            "RFC: kmer1+enac  |   n = 300\n",
            "Fold :  1\n",
            "Fold :  2\n",
            "Fold :  3\n",
            "Fold :  4\n",
            "Fold :  5\n",
            "done\n",
            "train_accuracy :  1.0 \tVal accuracy :  0.35255198487712663 \tTest accuracy :  0.607\n",
            "train_accuracy :  1.0 \tVal accuracy :  0.5671077504725898 \tTest accuracy :  0.6695\n",
            "train_accuracy :  1.0 \tVal accuracy :  0.7206994328922496 \tTest accuracy :  0.7935\n",
            "train_accuracy :  1.0 \tVal accuracy :  0.88274231678487 \tTest accuracy :  0.7235\n",
            "train_accuracy :  1.0 \tVal accuracy :  0.46430260047281324 \tTest accuracy :  0.5625\n",
            "------------------------------------------------------------------------------------------------\n",
            "Train accuracy(avg): 1.0 | Val accuracy(avg): 0.5974808170999298  | Test accuracy(avg): 0.6712\n",
            "================================================================================================\n",
            "RFC: kmer1+enac  |   n = 350\n",
            "Fold :  1\n",
            "Fold :  2\n",
            "Fold :  3\n",
            "Fold :  4\n",
            "Fold :  5\n",
            "done\n",
            "train_accuracy :  1.0 \tVal accuracy :  0.3492438563327032 \tTest accuracy :  0.604\n",
            "train_accuracy :  1.0 \tVal accuracy :  0.5666351606805293 \tTest accuracy :  0.668\n",
            "train_accuracy :  1.0 \tVal accuracy :  0.7131379962192816 \tTest accuracy :  0.792\n",
            "train_accuracy :  1.0 \tVal accuracy :  0.8832151300236407 \tTest accuracy :  0.7225\n",
            "train_accuracy :  1.0 \tVal accuracy :  0.46430260047281324 \tTest accuracy :  0.5615\n",
            "------------------------------------------------------------------------------------------------\n",
            "Train accuracy(avg): 1.0 | Val accuracy(avg): 0.5953069487457936  | Test accuracy(avg): 0.6696000000000001\n",
            "================================================================================================\n",
            "RFC: kmer1+enac  |   n = 400\n",
            "Fold :  1\n",
            "Fold :  2\n",
            "Fold :  3\n",
            "Fold :  4\n",
            "Fold :  5\n",
            "done\n",
            "train_accuracy :  1.0 \tVal accuracy :  0.3553875236294896 \tTest accuracy :  0.613\n",
            "train_accuracy :  1.0 \tVal accuracy :  0.5675803402646503 \tTest accuracy :  0.6675\n",
            "train_accuracy :  1.0 \tVal accuracy :  0.718336483931947 \tTest accuracy :  0.787\n",
            "train_accuracy :  1.0 \tVal accuracy :  0.8836879432624114 \tTest accuracy :  0.72\n",
            "train_accuracy :  1.0 \tVal accuracy :  0.46052009456264775 \tTest accuracy :  0.562\n",
            "------------------------------------------------------------------------------------------------\n",
            "Train accuracy(avg): 1.0 | Val accuracy(avg): 0.5971024771302292  | Test accuracy(avg): 0.6698999999999999\n",
            "================================================================================================\n",
            "RFC: kmer1+enac  |   n = 450\n",
            "Fold :  1\n",
            "Fold :  2\n",
            "Fold :  3\n",
            "Fold :  4\n",
            "Fold :  5\n",
            "done\n",
            "train_accuracy :  1.0 \tVal accuracy :  0.35822306238185253 \tTest accuracy :  0.609\n",
            "train_accuracy :  1.0 \tVal accuracy :  0.5704158790170132 \tTest accuracy :  0.669\n",
            "train_accuracy :  1.0 \tVal accuracy :  0.7206994328922496 \tTest accuracy :  0.787\n",
            "train_accuracy :  1.0 \tVal accuracy :  0.88274231678487 \tTest accuracy :  0.7185\n",
            "train_accuracy :  1.0 \tVal accuracy :  0.4581560283687943 \tTest accuracy :  0.563\n",
            "------------------------------------------------------------------------------------------------\n",
            "Train accuracy(avg): 1.0 | Val accuracy(avg): 0.598047343888956  | Test accuracy(avg): 0.6693\n",
            "================================================================================================\n",
            "RFC: kmer1+enac  |   n = 500\n",
            "Fold :  1\n",
            "Fold :  2\n",
            "Fold :  3\n",
            "Fold :  4\n",
            "Fold :  5\n",
            "done\n",
            "train_accuracy :  1.0 \tVal accuracy :  0.3648393194706994 \tTest accuracy :  0.6125\n",
            "train_accuracy :  1.0 \tVal accuracy :  0.5675803402646503 \tTest accuracy :  0.672\n",
            "train_accuracy :  1.0 \tVal accuracy :  0.7159735349716446 \tTest accuracy :  0.7925\n",
            "train_accuracy :  1.0 \tVal accuracy :  0.8799054373522459 \tTest accuracy :  0.7215\n",
            "train_accuracy :  1.0 \tVal accuracy :  0.46099290780141844 \tTest accuracy :  0.5625\n",
            "------------------------------------------------------------------------------------------------\n",
            "Train accuracy(avg): 1.0 | Val accuracy(avg): 0.5978583079721318  | Test accuracy(avg): 0.6721999999999999\n",
            "================================================================================================\n",
            "RFC: kmer1+enac  |   n = 550\n",
            "Fold :  1\n",
            "Fold :  2\n",
            "Fold :  3\n",
            "Fold :  4\n",
            "Fold :  5\n",
            "done\n",
            "train_accuracy :  1.0 \tVal accuracy :  0.3591682419659735 \tTest accuracy :  0.6125\n",
            "train_accuracy :  1.0 \tVal accuracy :  0.5656899810964083 \tTest accuracy :  0.668\n",
            "train_accuracy :  1.0 \tVal accuracy :  0.7225897920604915 \tTest accuracy :  0.792\n",
            "train_accuracy :  1.0 \tVal accuracy :  0.8794326241134752 \tTest accuracy :  0.7185\n",
            "train_accuracy :  1.0 \tVal accuracy :  0.4581560283687943 \tTest accuracy :  0.559\n",
            "------------------------------------------------------------------------------------------------\n",
            "Train accuracy(avg): 1.0 | Val accuracy(avg): 0.5970073335210285  | Test accuracy(avg): 0.67\n",
            "================================================================================================\n",
            "RFC: kmer1+enac  |   n = 600\n",
            "Fold :  1\n",
            "Fold :  2\n",
            "Fold :  3\n",
            "Fold :  4\n",
            "Fold :  5\n",
            "done\n",
            "train_accuracy :  1.0 \tVal accuracy :  0.362476370510397 \tTest accuracy :  0.609\n",
            "train_accuracy :  1.0 \tVal accuracy :  0.5704158790170132 \tTest accuracy :  0.671\n",
            "train_accuracy :  1.0 \tVal accuracy :  0.7206994328922496 \tTest accuracy :  0.789\n",
            "train_accuracy :  1.0 \tVal accuracy :  0.8789598108747045 \tTest accuracy :  0.716\n",
            "train_accuracy :  1.0 \tVal accuracy :  0.45437352245862883 \tTest accuracy :  0.5585\n",
            "------------------------------------------------------------------------------------------------\n",
            "Train accuracy(avg): 1.0 | Val accuracy(avg): 0.5973850031505986  | Test accuracy(avg): 0.6687000000000001\n",
            "================================================================================================\n",
            "RFC: kmer1+enac  |   n = 650\n",
            "Fold :  1\n",
            "Fold :  2\n",
            "Fold :  3\n",
            "Fold :  4\n",
            "Fold :  5\n",
            "done\n",
            "train_accuracy :  1.0 \tVal accuracy :  0.3667296786389414 \tTest accuracy :  0.6075\n",
            "train_accuracy :  1.0 \tVal accuracy :  0.5751417769376181 \tTest accuracy :  0.6675\n",
            "train_accuracy :  1.0 \tVal accuracy :  0.7225897920604915 \tTest accuracy :  0.791\n",
            "train_accuracy :  1.0 \tVal accuracy :  0.8808510638297873 \tTest accuracy :  0.72\n",
            "train_accuracy :  1.0 \tVal accuracy :  0.4562647754137116 \tTest accuracy :  0.5605\n",
            "------------------------------------------------------------------------------------------------\n",
            "Train accuracy(avg): 1.0 | Val accuracy(avg): 0.6003154173761099  | Test accuracy(avg): 0.6693\n",
            "================================================================================================\n",
            "RFC: kmer1+enac  |   n = 700\n",
            "Fold :  1\n",
            "Fold :  2\n",
            "Fold :  3\n",
            "Fold :  4\n",
            "Fold :  5\n",
            "done\n",
            "train_accuracy :  1.0 \tVal accuracy :  0.3667296786389414 \tTest accuracy :  0.6105\n",
            "train_accuracy :  1.0 \tVal accuracy :  0.5737240075614367 \tTest accuracy :  0.668\n",
            "train_accuracy :  1.0 \tVal accuracy :  0.7225897920604915 \tTest accuracy :  0.7925\n",
            "train_accuracy :  1.0 \tVal accuracy :  0.8817966903073287 \tTest accuracy :  0.7185\n",
            "train_accuracy :  1.0 \tVal accuracy :  0.4553191489361702 \tTest accuracy :  0.557\n",
            "------------------------------------------------------------------------------------------------\n",
            "Train accuracy(avg): 1.0 | Val accuracy(avg): 0.6000318635008737  | Test accuracy(avg): 0.6693\n",
            "================================================================================================\n",
            "RFC: kmer1+enac  |   n = 750\n",
            "Fold :  1\n",
            "Fold :  2\n",
            "Fold :  3\n",
            "Fold :  4\n",
            "Fold :  5\n",
            "done\n",
            "train_accuracy :  1.0 \tVal accuracy :  0.3643667296786389 \tTest accuracy :  0.603\n",
            "train_accuracy :  1.0 \tVal accuracy :  0.5718336483931947 \tTest accuracy :  0.6675\n",
            "train_accuracy :  1.0 \tVal accuracy :  0.724952741020794 \tTest accuracy :  0.7885\n",
            "train_accuracy :  1.0 \tVal accuracy :  0.8799054373522459 \tTest accuracy :  0.717\n",
            "train_accuracy :  1.0 \tVal accuracy :  0.4581560283687943 \tTest accuracy :  0.5575\n",
            "------------------------------------------------------------------------------------------------\n",
            "Train accuracy(avg): 1.0 | Val accuracy(avg): 0.5998429169627336  | Test accuracy(avg): 0.6667000000000001\n",
            "================================================================================================\n",
            "RFC: kmer1+enac  |   n = 800\n",
            "Fold :  1\n",
            "Fold :  2\n",
            "Fold :  3\n",
            "Fold :  4\n",
            "Fold :  5\n",
            "done\n",
            "train_accuracy :  1.0 \tVal accuracy :  0.3700378071833648 \tTest accuracy :  0.6095\n",
            "train_accuracy :  1.0 \tVal accuracy :  0.5689981096408318 \tTest accuracy :  0.6695\n",
            "train_accuracy :  1.0 \tVal accuracy :  0.722117202268431 \tTest accuracy :  0.7855\n",
            "train_accuracy :  1.0 \tVal accuracy :  0.8841607565011821 \tTest accuracy :  0.7145\n",
            "train_accuracy :  1.0 \tVal accuracy :  0.4562647754137116 \tTest accuracy :  0.562\n",
            "------------------------------------------------------------------------------------------------\n",
            "Train accuracy(avg): 1.0 | Val accuracy(avg): 0.6003157302015042  | Test accuracy(avg): 0.6682\n",
            "================================================================================================\n",
            "RFC: kmer1+enac  |   n = 850\n",
            "Fold :  1\n",
            "Fold :  2\n",
            "Fold :  3\n",
            "Fold :  4\n",
            "Fold :  5\n",
            "done\n",
            "train_accuracy :  1.0 \tVal accuracy :  0.3700378071833648 \tTest accuracy :  0.607\n",
            "train_accuracy :  1.0 \tVal accuracy :  0.5647448015122873 \tTest accuracy :  0.6685\n",
            "train_accuracy :  1.0 \tVal accuracy :  0.7225897920604915 \tTest accuracy :  0.7835\n",
            "train_accuracy :  1.0 \tVal accuracy :  0.8846335697399527 \tTest accuracy :  0.7155\n",
            "train_accuracy :  1.0 \tVal accuracy :  0.45721040189125295 \tTest accuracy :  0.56\n",
            "------------------------------------------------------------------------------------------------\n",
            "Train accuracy(avg): 1.0 | Val accuracy(avg): 0.5998432744774698  | Test accuracy(avg): 0.6669\n",
            "================================================================================================\n",
            "RFC: kmer1+enac  |   n = 900\n",
            "Fold :  1\n",
            "Fold :  2\n",
            "Fold :  3\n",
            "Fold :  4\n",
            "Fold :  5\n",
            "done\n",
            "train_accuracy :  1.0 \tVal accuracy :  0.3681474480151229 \tTest accuracy :  0.605\n",
            "train_accuracy :  1.0 \tVal accuracy :  0.5675803402646503 \tTest accuracy :  0.6705\n",
            "train_accuracy :  1.0 \tVal accuracy :  0.720226843100189 \tTest accuracy :  0.7835\n",
            "train_accuracy :  1.0 \tVal accuracy :  0.8822695035460993 \tTest accuracy :  0.7135\n",
            "train_accuracy :  1.0 \tVal accuracy :  0.4562647754137116 \tTest accuracy :  0.5605\n",
            "------------------------------------------------------------------------------------------------\n",
            "Train accuracy(avg): 1.0 | Val accuracy(avg): 0.5988977820679546  | Test accuracy(avg): 0.6666000000000001\n",
            "================================================================================================\n",
            "RFC: kmer1+enac  |   n = 950\n",
            "Fold :  1\n",
            "Fold :  2\n",
            "Fold :  3\n",
            "Fold :  4\n",
            "Fold :  5\n",
            "done\n",
            "train_accuracy :  1.0 \tVal accuracy :  0.3695652173913043 \tTest accuracy :  0.606\n",
            "train_accuracy :  1.0 \tVal accuracy :  0.5680529300567108 \tTest accuracy :  0.671\n",
            "train_accuracy :  1.0 \tVal accuracy :  0.7206994328922496 \tTest accuracy :  0.7835\n",
            "train_accuracy :  1.0 \tVal accuracy :  0.8836879432624114 \tTest accuracy :  0.7155\n",
            "train_accuracy :  1.0 \tVal accuracy :  0.45390070921985815 \tTest accuracy :  0.559\n",
            "------------------------------------------------------------------------------------------------\n",
            "Train accuracy(avg): 1.0 | Val accuracy(avg): 0.5991812465645069  | Test accuracy(avg): 0.667\n",
            "================================================================================================\n",
            "RFC: kmer1+enac  |   n = 1000\n",
            "Fold :  1\n",
            "Fold :  2\n",
            "Fold :  3\n",
            "Fold :  4\n",
            "Fold :  5\n",
            "done\n",
            "train_accuracy :  1.0 \tVal accuracy :  0.3700378071833648 \tTest accuracy :  0.606\n",
            "train_accuracy :  1.0 \tVal accuracy :  0.5647448015122873 \tTest accuracy :  0.672\n",
            "train_accuracy :  1.0 \tVal accuracy :  0.719281663516068 \tTest accuracy :  0.7855\n",
            "train_accuracy :  1.0 \tVal accuracy :  0.8851063829787233 \tTest accuracy :  0.718\n",
            "train_accuracy :  1.0 \tVal accuracy :  0.4557919621749409 \tTest accuracy :  0.559\n",
            "------------------------------------------------------------------------------------------------\n",
            "Train accuracy(avg): 1.0 | Val accuracy(avg): 0.598992523473077  | Test accuracy(avg): 0.6681\n",
            "================================================================================================\n"
          ],
          "name": "stdout"
        }
      ]
    },
    {
      "cell_type": "code",
      "metadata": {
        "id": "ZHFEhZGlq4Q8",
        "colab_type": "code",
        "colab": {
          "base_uri": "https://localhost:8080/",
          "height": 745
        },
        "outputId": "4c754872-cef6-480a-e7ac-89e39065fae5"
      },
      "source": [
        "i=0  \n",
        "print(\" n      train      val             test\")\n",
        "print(\"===================================================================\")\n",
        "for x in n_list:\n",
        "  print(f\"{x}  -  {n_train_avg[i]} - {n_val_avg[i]} - {n_test_avg[i]}\")\n",
        "  print(\"--------------------------------------------------------------------\")\n",
        "  i=i+1"
      ],
      "execution_count": 17,
      "outputs": [
        {
          "output_type": "stream",
          "text": [
            " n      train      val             test\n",
            "===================================================================\n",
            "100  -  1.0 - 0.5874609303427226 - 0.6736000000000001\n",
            "--------------------------------------------------------------------\n",
            "150  -  1.0 - 0.5888790572336403 - 0.6726\n",
            "--------------------------------------------------------------------\n",
            "200  -  1.0 - 0.5957795385378541 - 0.6724\n",
            "--------------------------------------------------------------------\n",
            "250  -  1.0 - 0.599182721312794 - 0.6712\n",
            "--------------------------------------------------------------------\n",
            "300  -  1.0 - 0.5974808170999298 - 0.6712\n",
            "--------------------------------------------------------------------\n",
            "350  -  1.0 - 0.5953069487457936 - 0.6696000000000001\n",
            "--------------------------------------------------------------------\n",
            "400  -  1.0 - 0.5971024771302292 - 0.6698999999999999\n",
            "--------------------------------------------------------------------\n",
            "450  -  1.0 - 0.598047343888956 - 0.6693\n",
            "--------------------------------------------------------------------\n",
            "500  -  1.0 - 0.5978583079721318 - 0.6721999999999999\n",
            "--------------------------------------------------------------------\n",
            "550  -  1.0 - 0.5970073335210285 - 0.67\n",
            "--------------------------------------------------------------------\n",
            "600  -  1.0 - 0.5973850031505986 - 0.6687000000000001\n",
            "--------------------------------------------------------------------\n",
            "650  -  1.0 - 0.6003154173761099 - 0.6693\n",
            "--------------------------------------------------------------------\n",
            "700  -  1.0 - 0.6000318635008737 - 0.6693\n",
            "--------------------------------------------------------------------\n",
            "750  -  1.0 - 0.5998429169627336 - 0.6667000000000001\n",
            "--------------------------------------------------------------------\n",
            "800  -  1.0 - 0.6003157302015042 - 0.6682\n",
            "--------------------------------------------------------------------\n",
            "850  -  1.0 - 0.5998432744774698 - 0.6669\n",
            "--------------------------------------------------------------------\n",
            "900  -  1.0 - 0.5988977820679546 - 0.6666000000000001\n",
            "--------------------------------------------------------------------\n",
            "950  -  1.0 - 0.5991812465645069 - 0.667\n",
            "--------------------------------------------------------------------\n",
            "1000  -  1.0 - 0.598992523473077 - 0.6681\n",
            "--------------------------------------------------------------------\n"
          ],
          "name": "stdout"
        }
      ]
    },
    {
      "cell_type": "code",
      "metadata": {
        "id": "M-8SwsofHdqv",
        "colab_type": "code",
        "colab": {
          "base_uri": "https://localhost:8080/",
          "height": 140
        },
        "outputId": "441acd80-8acb-4fcf-c01c-8bc733b29016"
      },
      "source": [
        "# Import pyplot\n",
        "import matplotlib.pyplot as plt\n",
        "\n",
        "\n",
        "# Define plot space\n",
        "fig, ax = plt.subplots(figsize=(24, 2))\n",
        "\n",
        "# Define x and y axes\n",
        "ax.plot(n_list, \n",
        "        n_train_avg,\n",
        "        marker = 'o')\n",
        "\n",
        "# Set plot title and axes labels\n",
        "ax.set(title = \"n and Train accuracy\",\n",
        "       xlabel = \"n values\",\n",
        "       ylabel = \"Train accuracy\")\n",
        "\n",
        "plt.show()"
      ],
      "execution_count": 18,
      "outputs": [
        {
          "output_type": "display_data",
          "data": {
            "image/png": "[encoded data removed]",
            "text/plain": [
              "<Figure size 1728x144 with 1 Axes>"
            ]
          },
          "metadata": {
            "tags": [],
            "needs_background": "light"
          }
        }
      ]
    },
    {
      "cell_type": "code",
      "metadata": {
        "id": "oRdyw4YjiRn2",
        "colab_type": "code",
        "colab": {
          "base_uri": "https://localhost:8080/",
          "height": 140
        },
        "outputId": "de23c41f-ef2f-451c-aaea-dc9b2d4529f4"
      },
      "source": [
        "# Import pyplot\n",
        "import matplotlib.pyplot as plt\n",
        "\n",
        "\n",
        "# Define plot space\n",
        "fig, ax = plt.subplots(figsize=(24, 2))\n",
        "\n",
        "# Define x and y axes\n",
        "ax.plot(n_list, \n",
        "        n_val_avg,\n",
        "        marker = 'o')\n",
        "\n",
        "# Set plot title and axes labels\n",
        "ax.set(title = \"n and Val accuracy\",\n",
        "       xlabel = \"n values\",\n",
        "       ylabel = \"Val accuracy\")\n",
        "\n",
        "plt.show()"
      ],
      "execution_count": 19,
      "outputs": [
        {
          "output_type": "display_data",
          "data": {
            "image/png": "[encoded data removed]",
            "text/plain": [
              "<Figure size 1728x144 with 1 Axes>"
            ]
          },
          "metadata": {
            "tags": [],
            "needs_background": "light"
          }
        }
      ]
    },
    {
      "cell_type": "code",
      "metadata": {
        "id": "KHxJLrI2jYhU",
        "colab_type": "code",
        "colab": {
          "base_uri": "https://localhost:8080/",
          "height": 140
        },
        "outputId": "9dcf62ac-72e3-40df-cbc6-6fa2af0f904b"
      },
      "source": [
        "# Import pyplot\n",
        "import matplotlib.pyplot as plt\n",
        "\n",
        "\n",
        "# Define plot space\n",
        "fig, ax = plt.subplots(figsize=(24, 2))\n",
        "\n",
        "# Define x and y axes\n",
        "ax.plot(n_list, \n",
        "        n_test_avg,\n",
        "        marker = 'o')\n",
        "\n",
        "# Set plot title and axes labels\n",
        "ax.set(title = \"n and Test accuracy\",\n",
        "       xlabel = \"n values\",\n",
        "       ylabel = \"Test accuracy\")\n",
        "\n",
        "plt.show()"
      ],
      "execution_count": 20,
      "outputs": [
        {
          "output_type": "display_data",
          "data": {
            "image/png": "[encoded data removed]",
            "text/plain": [
              "<Figure size 1728x144 with 1 Axes>"
            ]
          },
          "metadata": {
            "tags": [],
            "needs_background": "light"
          }
        }
      ]
    },
    {
      "cell_type": "code",
      "metadata": {
        "id": "HM-1X6lRj08s",
        "colab_type": "code",
        "colab": {}
      },
      "source": [
        ""
      ],
      "execution_count": null,
      "outputs": []
    }
  ]
}