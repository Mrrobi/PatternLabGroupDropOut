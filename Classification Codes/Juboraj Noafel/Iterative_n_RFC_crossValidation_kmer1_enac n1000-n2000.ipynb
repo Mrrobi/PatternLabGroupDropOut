{
  "nbformat": 4,
  "nbformat_minor": 0,
  "metadata": {
    "colab": {
      "name": "Iterative_n_RFC_crossValidation_kmer1_enac.ipynb",
      "provenance": [],
      "collapsed_sections": []
    },
    "kernelspec": {
      "name": "python3",
      "display_name": "Python 3"
    }
  },
  "cells": [
    {
      "cell_type": "code",
      "metadata": {
        "id": "xcg-c9ezGOHr",
        "colab_type": "code",
        "colab": {}
      },
      "source": [
        "from sklearn.model_selection import train_test_split\n",
        "import numpy as np"
      ],
      "execution_count": 29,
      "outputs": []
    },
    {
      "cell_type": "code",
      "metadata": {
        "id": "mNgMT0uORFWb",
        "colab_type": "code",
        "colab": {}
      },
      "source": [
        "from sklearn.ensemble import RandomForestClassifier"
      ],
      "execution_count": 30,
      "outputs": []
    },
    {
      "cell_type": "code",
      "metadata": {
        "id": "wROFsPwdNRI5",
        "colab_type": "code",
        "colab": {}
      },
      "source": [
        "from sklearn.svm import SVC"
      ],
      "execution_count": 31,
      "outputs": []
    },
    {
      "cell_type": "code",
      "metadata": {
        "id": "SkYWCRv0Oyiv",
        "colab_type": "code",
        "colab": {}
      },
      "source": [
        "from sklearn.metrics import accuracy_score"
      ],
      "execution_count": 32,
      "outputs": []
    },
    {
      "cell_type": "code",
      "metadata": {
        "id": "VCZnwzteUht2",
        "colab_type": "code",
        "colab": {}
      },
      "source": [
        "from sklearn.model_selection import KFold"
      ],
      "execution_count": 33,
      "outputs": []
    },
    {
      "cell_type": "code",
      "metadata": {
        "id": "va5Hjzg8DKsG",
        "colab_type": "code",
        "colab": {
          "base_uri": "https://localhost:8080/",
          "height": 34
        },
        "outputId": "7201ddb5-3b6e-4665-8f89-4ec6413d4544"
      },
      "source": [
        "from google.colab import drive\n",
        "drive.mount('/content/drive')"
      ],
      "execution_count": 34,
      "outputs": [
        {
          "output_type": "stream",
          "text": [
            "Drive already mounted at /content/drive; to attempt to forcibly remount, call drive.mount(\"/content/drive\", force_remount=True).\n"
          ],
          "name": "stdout"
        }
      ]
    },
    {
      "cell_type": "code",
      "metadata": {
        "id": "yLUt4RggDDLu",
        "colab_type": "code",
        "colab": {}
      },
      "source": [
        "#kmer1\n",
        "fs1Train = [\"/content/drive/My Drive/Pattern project training/pattern/data/converted/A.thaliana5289_pos/combined/Kmer1/A.thaliana5289indep_pos_kmer_1.npy\",\n",
        "                   \"/content/drive/My Drive/Pattern project training/pattern/data/converted/A.thaliana5289_neg/concated result/concated kmer1/A.thaliana5289_neg_kmr1.npy\"]\n",
        "fs1Test = [\"/content/drive/My Drive/Pattern project training/pattern/npy/A.thaliana1000indep_pos_kmer_1.npy\", \n",
        "                  \"/content/drive/My Drive/Pattern project training/pattern/npy/A.thaliana1000indep_neg_kmer_1.npy\"]\n",
        "\n",
        "\n",
        "#enac\n",
        "fs2Train = [\"/content/drive/My Drive/Pattern project training/pattern/data/converted/A.thaliana5289_pos/combined/ENAC/A.thaliana5289indep_pos_ENAC.npy\",\n",
        "                   \"/content/drive/My Drive/Pattern project training/pattern/data/converted/A.thaliana5289_neg/concated result/concated enac/A.thaliana5289_neg_ENAC.npy\"]\n",
        "fs2Test = [\"/content/drive/My Drive/Pattern project training/pattern/npy/A.thaliana1000indep_pos_ENAC.npy\", \n",
        "                  \"/content/drive/My Drive/Pattern project training/pattern/npy/A.thaliana1000indep_neg_enac.npy\"]"
      ],
      "execution_count": 35,
      "outputs": []
    },
    {
      "cell_type": "code",
      "metadata": {
        "id": "Bkibhn2DD9hU",
        "colab_type": "code",
        "colab": {}
      },
      "source": [
        "kmer1_pos_5289 = fs1Train[0]\n",
        "kmer1_neg_5289 = fs1Train[1]\n",
        "kmer1_pos_1000 = fs1Test[0]\n",
        "kmer1_neg_1000 = fs1Test[1]\n",
        "\n",
        "\n",
        "enac_pos_5289 = fs2Train[0]\n",
        "enac_neg_5289 = fs2Train[1]\n",
        "enac_pos_1000 = fs2Test[0]\n",
        "enac_neg_1000 = fs2Test[1]\n",
        "\n",
        "\n",
        "\n",
        "\n",
        "x_train_pos = np.concatenate((np.load(kmer1_pos_5289),np.load(enac_pos_5289)),axis=1) \n",
        "x_train_neg = np.concatenate((np.load(kmer1_neg_5289),np.load(enac_neg_5289)),axis=1) \n",
        "x_test_pos = np.concatenate((np.load(kmer1_pos_1000),np.load(enac_pos_1000)),axis=1)  \n",
        "x_test_neg = np.concatenate((np.load(kmer1_neg_1000),np.load(enac_neg_1000)),axis=1)  \n",
        "\n",
        "y_train_pos = np.tile(1, 5289) \n",
        "y_train_neg = np.tile(0, 5289) \n",
        "y_test_pos = np.tile(1, 1000) \n",
        "y_test_neg = np.tile(0, 1000) "
      ],
      "execution_count": 36,
      "outputs": []
    },
    {
      "cell_type": "code",
      "metadata": {
        "id": "H84h5ZubMHuZ",
        "colab_type": "code",
        "colab": {
          "base_uri": "https://localhost:8080/",
          "height": 153
        },
        "outputId": "9096fbf0-b0d3-4b24-e321-99651e6e2741"
      },
      "source": [
        "print(x_train_pos.shape)\n",
        "print(x_train_neg.shape)\n",
        "print(x_test_pos.shape)\n",
        "print(x_test_neg.shape)\n",
        "\n",
        "print(y_train_pos.shape)\n",
        "print(y_train_neg.shape)\n",
        "print(y_test_pos.shape)\n",
        "print(y_test_neg.shape)"
      ],
      "execution_count": 37,
      "outputs": [
        {
          "output_type": "stream",
          "text": [
            "(5289, 152)\n",
            "(5289, 152)\n",
            "(1000, 152)\n",
            "(1000, 152)\n",
            "(5289,)\n",
            "(5289,)\n",
            "(1000,)\n",
            "(1000,)\n"
          ],
          "name": "stdout"
        }
      ]
    },
    {
      "cell_type": "code",
      "metadata": {
        "id": "4woF7AbhG2D5",
        "colab_type": "code",
        "colab": {}
      },
      "source": [
        "seed = 40\n",
        "np.random.seed(seed)"
      ],
      "execution_count": 38,
      "outputs": []
    },
    {
      "cell_type": "code",
      "metadata": {
        "id": "Rxp25B0pIt5S",
        "colab_type": "code",
        "colab": {}
      },
      "source": [
        "x_training = np.concatenate((x_train_pos, x_train_neg), axis= 0)\n",
        "y_training = np.concatenate((y_train_pos, y_train_neg))"
      ],
      "execution_count": 39,
      "outputs": []
    },
    {
      "cell_type": "code",
      "metadata": {
        "id": "5SlGQaZ0QtwH",
        "colab_type": "code",
        "colab": {}
      },
      "source": [
        "x_test = np.concatenate((x_test_pos, x_test_neg))\n",
        "y_test = np.concatenate((y_test_pos, y_test_neg))"
      ],
      "execution_count": 40,
      "outputs": []
    },
    {
      "cell_type": "code",
      "metadata": {
        "id": "AFWq8oQ9Q8pr",
        "colab_type": "code",
        "colab": {
          "base_uri": "https://localhost:8080/",
          "height": 51
        },
        "outputId": "bc7bda32-ebb8-4a5e-c843-aea923f89794"
      },
      "source": [
        "print(x_test.shape)\n",
        "print(y_test.shape)"
      ],
      "execution_count": 41,
      "outputs": [
        {
          "output_type": "stream",
          "text": [
            "(2000, 152)\n",
            "(2000,)\n"
          ],
          "name": "stdout"
        }
      ]
    },
    {
      "cell_type": "code",
      "metadata": {
        "id": "r2lmmmO7JotB",
        "colab_type": "code",
        "colab": {
          "base_uri": "https://localhost:8080/",
          "height": 51
        },
        "outputId": "12c1643b-197f-43ba-89df-57a4bcc31fc9"
      },
      "source": [
        "print(x_training.shape)\n",
        "print(y_training.shape)"
      ],
      "execution_count": 42,
      "outputs": [
        {
          "output_type": "stream",
          "text": [
            "(10578, 152)\n",
            "(10578,)\n"
          ],
          "name": "stdout"
        }
      ]
    },
    {
      "cell_type": "code",
      "metadata": {
        "id": "s7kBxZXMX5q-",
        "colab_type": "code",
        "colab": {
          "base_uri": "https://localhost:8080/",
          "height": 71
        },
        "outputId": "c52b13e6-8660-4c39-ffa8-0e82c8be4cde"
      },
      "source": [
        "kf = KFold(n_splits=5, random_state=seed)"
      ],
      "execution_count": 43,
      "outputs": [
        {
          "output_type": "stream",
          "text": [
            "/usr/local/lib/python3.6/dist-packages/sklearn/model_selection/_split.py:296: FutureWarning: Setting a random_state has no effect since shuffle is False. This will raise an error in 0.24. You should leave random_state to its default (None), or set shuffle=True.\n",
            "  FutureWarning\n"
          ],
          "name": "stderr"
        }
      ]
    },
    {
      "cell_type": "code",
      "metadata": {
        "id": "veZ7aQjkV_62",
        "colab_type": "code",
        "colab": {
          "base_uri": "https://localhost:8080/",
          "height": 1000
        },
        "outputId": "fb1c05ec-9732-45e3-81ef-e72fdf0d8176"
      },
      "source": [
        "j=1000\n",
        "n_list=[]\n",
        "n_test_avg =[]\n",
        "n_train_avg = []\n",
        "n_val_avg = [] \n",
        "while j <= 2000:\n",
        "  n = j\n",
        "  sumTrain = sumVal = sumTest =  0\n",
        "  print(f\"SVC: kmer1+enac  |   n = {n}\")\n",
        "  clf = RandomForestClassifier(n_estimators = n, random_state=seed)\n",
        "\n",
        "  val_accuracy_list = []\n",
        "  train_accuracy_list = []\n",
        "  test_accuracy_list = []\n",
        "  n = 1\n",
        "  for train_index, val_index in kf.split(x_training):\n",
        "      print(\"Fold : \",n)\n",
        "      X_train, X_val = x_training[train_index], x_training[val_index]\n",
        "      y_train, y_val = y_training[train_index], y_training[val_index]\n",
        "      \n",
        "      clf.fit(X_train, y_train)\n",
        "\n",
        "      y_val_pred = clf.predict(X_val)\n",
        "      val_accuracy = accuracy_score(y_val, y_val_pred)\n",
        "      val_accuracy_list.append(val_accuracy)\n",
        "\n",
        "      y_train_pred = clf.predict(X_train)\n",
        "      train_accuracy = accuracy_score(y_train, y_train_pred)\n",
        "      train_accuracy_list.append(train_accuracy)\n",
        "\n",
        "      y_test_pred = clf.predict(x_test)\n",
        "      test_accuracy = accuracy_score(y_test, y_test_pred)\n",
        "      test_accuracy_list.append(test_accuracy)\n",
        "\n",
        "      n += 1 \n",
        "\n",
        "  print(\"done\")\n",
        "  for i in range(0, len(train_accuracy_list)):\n",
        "      print(\"train_accuracy : \", train_accuracy_list[i], \"\\tVal accuracy : \", val_accuracy_list[i], \"\\tTest accuracy : \", test_accuracy_list[i])\n",
        "      sumTrain = sumTrain + train_accuracy_list[i]\n",
        "      sumVal = sumVal + val_accuracy_list[i]\n",
        "      sumTest = sumTest + test_accuracy_list[i]\n",
        "  sumTrain = sumTrain/5.0\n",
        "  sumVal = sumVal/5.0\n",
        "  sumTest = sumTest/5.0\n",
        "  print(\"------------------------------------------------------------------------------------------------\")\n",
        "  print(f\"Train accuracy(avg): {sumTrain} | Val accuracy(avg): {sumVal}  | Test accuracy(avg): {sumTest}\")\n",
        "  print(\"================================================================================================\")\n",
        "  n_list.append(j)\n",
        "  n_train_avg.append(sumTrain)\n",
        "  n_val_avg.append(sumVal)\n",
        "  n_test_avg.append(sumTest)\n",
        "  j = j+100"
      ],
      "execution_count": 49,
      "outputs": [
        {
          "output_type": "stream",
          "text": [
            "SVC: kmer1+enac  |   n = 1000\n",
            "Fold :  1\n",
            "Fold :  2\n",
            "Fold :  3\n",
            "Fold :  4\n",
            "Fold :  5\n",
            "done\n",
            "train_accuracy :  1.0 \tVal accuracy :  0.3700378071833648 \tTest accuracy :  0.606\n",
            "train_accuracy :  1.0 \tVal accuracy :  0.5647448015122873 \tTest accuracy :  0.672\n",
            "train_accuracy :  1.0 \tVal accuracy :  0.719281663516068 \tTest accuracy :  0.7855\n",
            "train_accuracy :  1.0 \tVal accuracy :  0.8851063829787233 \tTest accuracy :  0.718\n",
            "train_accuracy :  1.0 \tVal accuracy :  0.4557919621749409 \tTest accuracy :  0.559\n",
            "------------------------------------------------------------------------------------------------\n",
            "Train accuracy(avg): 1.0 | Val accuracy(avg): 0.598992523473077  | Test accuracy(avg): 0.6681\n",
            "================================================================================================\n",
            "SVC: kmer1+enac  |   n = 1100\n",
            "Fold :  1\n",
            "Fold :  2\n",
            "Fold :  3\n",
            "Fold :  4\n",
            "Fold :  5\n",
            "done\n",
            "train_accuracy :  1.0 \tVal accuracy :  0.3724007561436673 \tTest accuracy :  0.608\n",
            "train_accuracy :  1.0 \tVal accuracy :  0.5675803402646503 \tTest accuracy :  0.6755\n",
            "train_accuracy :  1.0 \tVal accuracy :  0.7188090737240076 \tTest accuracy :  0.785\n",
            "train_accuracy :  1.0 \tVal accuracy :  0.8846335697399527 \tTest accuracy :  0.717\n",
            "train_accuracy :  1.0 \tVal accuracy :  0.4548463356973995 \tTest accuracy :  0.558\n",
            "------------------------------------------------------------------------------------------------\n",
            "Train accuracy(avg): 1.0 | Val accuracy(avg): 0.5996540151139355  | Test accuracy(avg): 0.6687000000000001\n",
            "================================================================================================\n",
            "SVC: kmer1+enac  |   n = 1200\n",
            "Fold :  1\n",
            "Fold :  2\n",
            "Fold :  3\n",
            "Fold :  4\n",
            "Fold :  5\n",
            "done\n",
            "train_accuracy :  1.0 \tVal accuracy :  0.3733459357277883 \tTest accuracy :  0.61\n",
            "train_accuracy :  1.0 \tVal accuracy :  0.5713610586011342 \tTest accuracy :  0.672\n",
            "train_accuracy :  1.0 \tVal accuracy :  0.7216446124763705 \tTest accuracy :  0.785\n",
            "train_accuracy :  1.0 \tVal accuracy :  0.8846335697399527 \tTest accuracy :  0.7165\n",
            "train_accuracy :  1.0 \tVal accuracy :  0.45390070921985815 \tTest accuracy :  0.5575\n",
            "------------------------------------------------------------------------------------------------\n",
            "Train accuracy(avg): 1.0 | Val accuracy(avg): 0.6009771771530208  | Test accuracy(avg): 0.6682\n",
            "================================================================================================\n",
            "SVC: kmer1+enac  |   n = 1300\n",
            "Fold :  1\n",
            "Fold :  2\n",
            "Fold :  3\n",
            "Fold :  4\n",
            "Fold :  5\n",
            "done\n",
            "train_accuracy :  1.0 \tVal accuracy :  0.3709829867674858 \tTest accuracy :  0.611\n",
            "train_accuracy :  1.0 \tVal accuracy :  0.5741965973534972 \tTest accuracy :  0.6705\n",
            "train_accuracy :  1.0 \tVal accuracy :  0.72117202268431 \tTest accuracy :  0.7845\n",
            "train_accuracy :  1.0 \tVal accuracy :  0.885579196217494 \tTest accuracy :  0.7165\n",
            "train_accuracy :  1.0 \tVal accuracy :  0.4557919621749409 \tTest accuracy :  0.5565\n",
            "------------------------------------------------------------------------------------------------\n",
            "Train accuracy(avg): 1.0 | Val accuracy(avg): 0.6015445530395456  | Test accuracy(avg): 0.6678\n",
            "================================================================================================\n",
            "SVC: kmer1+enac  |   n = 1400\n",
            "Fold :  1\n",
            "Fold :  2\n",
            "Fold :  3\n",
            "Fold :  4\n",
            "Fold :  5\n",
            "done\n",
            "train_accuracy :  1.0 \tVal accuracy :  0.3686200378071834 \tTest accuracy :  0.607\n",
            "train_accuracy :  1.0 \tVal accuracy :  0.5689981096408318 \tTest accuracy :  0.6725\n",
            "train_accuracy :  1.0 \tVal accuracy :  0.7197542533081286 \tTest accuracy :  0.784\n",
            "train_accuracy :  1.0 \tVal accuracy :  0.8851063829787233 \tTest accuracy :  0.7175\n",
            "train_accuracy :  1.0 \tVal accuracy :  0.45437352245862883 \tTest accuracy :  0.558\n",
            "------------------------------------------------------------------------------------------------\n",
            "Train accuracy(avg): 1.0 | Val accuracy(avg): 0.5993704612386992  | Test accuracy(avg): 0.6678000000000001\n",
            "================================================================================================\n",
            "SVC: kmer1+enac  |   n = 1500\n",
            "Fold :  1\n",
            "Fold :  2\n",
            "Fold :  3\n",
            "Fold :  4\n",
            "Fold :  5\n",
            "done\n",
            "train_accuracy :  1.0 \tVal accuracy :  0.3667296786389414 \tTest accuracy :  0.6085\n",
            "train_accuracy :  1.0 \tVal accuracy :  0.5680529300567108 \tTest accuracy :  0.6735\n",
            "train_accuracy :  1.0 \tVal accuracy :  0.7178638941398866 \tTest accuracy :  0.7845\n",
            "train_accuracy :  1.0 \tVal accuracy :  0.8841607565011821 \tTest accuracy :  0.716\n",
            "train_accuracy :  1.0 \tVal accuracy :  0.4553191489361702 \tTest accuracy :  0.558\n",
            "------------------------------------------------------------------------------------------------\n",
            "Train accuracy(avg): 1.0 | Val accuracy(avg): 0.5984252816545783  | Test accuracy(avg): 0.6680999999999999\n",
            "================================================================================================\n",
            "SVC: kmer1+enac  |   n = 1600\n",
            "Fold :  1\n",
            "Fold :  2\n",
            "Fold :  3\n",
            "Fold :  4\n",
            "Fold :  5\n",
            "done\n",
            "train_accuracy :  1.0 \tVal accuracy :  0.3667296786389414 \tTest accuracy :  0.6085\n",
            "train_accuracy :  1.0 \tVal accuracy :  0.5656899810964083 \tTest accuracy :  0.6745\n",
            "train_accuracy :  1.0 \tVal accuracy :  0.718336483931947 \tTest accuracy :  0.7855\n",
            "train_accuracy :  1.0 \tVal accuracy :  0.8846335697399527 \tTest accuracy :  0.717\n",
            "train_accuracy :  1.0 \tVal accuracy :  0.4520094562647754 \tTest accuracy :  0.559\n",
            "------------------------------------------------------------------------------------------------\n",
            "Train accuracy(avg): 1.0 | Val accuracy(avg): 0.597479833934405  | Test accuracy(avg): 0.6689\n",
            "================================================================================================\n",
            "SVC: kmer1+enac  |   n = 1700\n",
            "Fold :  1\n",
            "Fold :  2\n",
            "Fold :  3\n",
            "Fold :  4\n",
            "Fold :  5\n",
            "done\n",
            "train_accuracy :  1.0 \tVal accuracy :  0.3653119092627599 \tTest accuracy :  0.609\n",
            "train_accuracy :  1.0 \tVal accuracy :  0.5689981096408318 \tTest accuracy :  0.676\n",
            "train_accuracy :  1.0 \tVal accuracy :  0.719281663516068 \tTest accuracy :  0.7845\n",
            "train_accuracy :  1.0 \tVal accuracy :  0.8851063829787233 \tTest accuracy :  0.718\n",
            "train_accuracy :  1.0 \tVal accuracy :  0.4482269503546099 \tTest accuracy :  0.5595\n",
            "------------------------------------------------------------------------------------------------\n",
            "Train accuracy(avg): 1.0 | Val accuracy(avg): 0.5973850031505986  | Test accuracy(avg): 0.6694\n",
            "================================================================================================\n",
            "SVC: kmer1+enac  |   n = 1800\n",
            "Fold :  1\n",
            "Fold :  2\n",
            "Fold :  3\n",
            "Fold :  4\n",
            "Fold :  5\n",
            "done\n",
            "train_accuracy :  1.0 \tVal accuracy :  0.3657844990548204 \tTest accuracy :  0.6105\n",
            "train_accuracy :  1.0 \tVal accuracy :  0.5713610586011342 \tTest accuracy :  0.6755\n",
            "train_accuracy :  1.0 \tVal accuracy :  0.720226843100189 \tTest accuracy :  0.785\n",
            "train_accuracy :  1.0 \tVal accuracy :  0.8846335697399527 \tTest accuracy :  0.7175\n",
            "train_accuracy :  1.0 \tVal accuracy :  0.44964539007092197 \tTest accuracy :  0.5585\n",
            "------------------------------------------------------------------------------------------------\n",
            "Train accuracy(avg): 1.0 | Val accuracy(avg): 0.5983302721134037  | Test accuracy(avg): 0.6694\n",
            "================================================================================================\n",
            "SVC: kmer1+enac  |   n = 1900\n",
            "Fold :  1\n",
            "Fold :  2\n",
            "Fold :  3\n",
            "Fold :  4\n",
            "Fold :  5\n",
            "done\n",
            "train_accuracy :  1.0 \tVal accuracy :  0.3643667296786389 \tTest accuracy :  0.609\n",
            "train_accuracy :  1.0 \tVal accuracy :  0.5680529300567108 \tTest accuracy :  0.6735\n",
            "train_accuracy :  1.0 \tVal accuracy :  0.72117202268431 \tTest accuracy :  0.7835\n",
            "train_accuracy :  1.0 \tVal accuracy :  0.8851063829787233 \tTest accuracy :  0.718\n",
            "train_accuracy :  1.0 \tVal accuracy :  0.4491725768321513 \tTest accuracy :  0.5575\n",
            "------------------------------------------------------------------------------------------------\n",
            "Train accuracy(avg): 1.0 | Val accuracy(avg): 0.5975741284461068  | Test accuracy(avg): 0.6683\n",
            "================================================================================================\n",
            "SVC: kmer1+enac  |   n = 2000\n",
            "Fold :  1\n",
            "Fold :  2\n",
            "Fold :  3\n",
            "Fold :  4\n",
            "Fold :  5\n",
            "done\n",
            "train_accuracy :  1.0 \tVal accuracy :  0.3638941398865784 \tTest accuracy :  0.609\n",
            "train_accuracy :  1.0 \tVal accuracy :  0.5694706994328923 \tTest accuracy :  0.673\n",
            "train_accuracy :  1.0 \tVal accuracy :  0.720226843100189 \tTest accuracy :  0.7855\n",
            "train_accuracy :  1.0 \tVal accuracy :  0.8851063829787233 \tTest accuracy :  0.716\n",
            "train_accuracy :  1.0 \tVal accuracy :  0.44964539007092197 \tTest accuracy :  0.558\n",
            "------------------------------------------------------------------------------------------------\n",
            "Train accuracy(avg): 1.0 | Val accuracy(avg): 0.597668691093861  | Test accuracy(avg): 0.6683\n",
            "================================================================================================\n"
          ],
          "name": "stdout"
        }
      ]
    },
    {
      "cell_type": "code",
      "metadata": {
        "id": "ZHFEhZGlq4Q8",
        "colab_type": "code",
        "colab": {
          "base_uri": "https://localhost:8080/",
          "height": 425
        },
        "outputId": "43f6f1ef-be2b-44a0-d0a0-d4b10b804786"
      },
      "source": [
        "i=0  \n",
        "print(\" c      train                   val                    test\")\n",
        "print(\"===================================================================\")\n",
        "for x in n_list:\n",
        "  print(f\"{x}  -  {n_train_avg[i]} - {n_val_avg[i]} - {n_test_avg[i]}\")\n",
        "  print(\"--------------------------------------------------------------------\")\n",
        "  i=i+1"
      ],
      "execution_count": 50,
      "outputs": [
        {
          "output_type": "stream",
          "text": [
            " c      train                   val                    test\n",
            "===================================================================\n",
            "1000  -  1.0 - 0.598992523473077 - 0.6681\n",
            "--------------------------------------------------------------------\n",
            "1100  -  1.0 - 0.5996540151139355 - 0.6687000000000001\n",
            "--------------------------------------------------------------------\n",
            "1200  -  1.0 - 0.6009771771530208 - 0.6682\n",
            "--------------------------------------------------------------------\n",
            "1300  -  1.0 - 0.6015445530395456 - 0.6678\n",
            "--------------------------------------------------------------------\n",
            "1400  -  1.0 - 0.5993704612386992 - 0.6678000000000001\n",
            "--------------------------------------------------------------------\n",
            "1500  -  1.0 - 0.5984252816545783 - 0.6680999999999999\n",
            "--------------------------------------------------------------------\n",
            "1600  -  1.0 - 0.597479833934405 - 0.6689\n",
            "--------------------------------------------------------------------\n",
            "1700  -  1.0 - 0.5973850031505986 - 0.6694\n",
            "--------------------------------------------------------------------\n",
            "1800  -  1.0 - 0.5983302721134037 - 0.6694\n",
            "--------------------------------------------------------------------\n",
            "1900  -  1.0 - 0.5975741284461068 - 0.6683\n",
            "--------------------------------------------------------------------\n",
            "2000  -  1.0 - 0.597668691093861 - 0.6683\n",
            "--------------------------------------------------------------------\n"
          ],
          "name": "stdout"
        }
      ]
    },
    {
      "cell_type": "code",
      "metadata": {
        "id": "M-8SwsofHdqv",
        "colab_type": "code",
        "colab": {}
      },
      "source": [
        ""
      ],
      "execution_count": null,
      "outputs": []
    }
  ]
}