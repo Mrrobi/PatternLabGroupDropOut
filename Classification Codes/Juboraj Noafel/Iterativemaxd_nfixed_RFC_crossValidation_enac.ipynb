{
  "nbformat": 4,
  "nbformat_minor": 0,
  "metadata": {
    "colab": {
      "name": "Iterativemaxd_nfixed_RFC_crossValidation_enac.ipynb",
      "provenance": [],
      "collapsed_sections": []
    },
    "kernelspec": {
      "name": "python3",
      "display_name": "Python 3"
    }
  },
  "cells": [
    {
      "cell_type": "code",
      "metadata": {
        "id": "xcg-c9ezGOHr",
        "colab_type": "code",
        "colab": {}
      },
      "source": [
        "from sklearn.model_selection import train_test_split\n",
        "import numpy as np"
      ],
      "execution_count": 1,
      "outputs": []
    },
    {
      "cell_type": "code",
      "metadata": {
        "id": "mNgMT0uORFWb",
        "colab_type": "code",
        "colab": {}
      },
      "source": [
        "from sklearn.ensemble import RandomForestClassifier"
      ],
      "execution_count": 2,
      "outputs": []
    },
    {
      "cell_type": "code",
      "metadata": {
        "id": "wROFsPwdNRI5",
        "colab_type": "code",
        "colab": {}
      },
      "source": [
        "from sklearn.svm import SVC"
      ],
      "execution_count": 3,
      "outputs": []
    },
    {
      "cell_type": "code",
      "metadata": {
        "id": "SkYWCRv0Oyiv",
        "colab_type": "code",
        "colab": {}
      },
      "source": [
        "from sklearn.metrics import accuracy_score"
      ],
      "execution_count": 4,
      "outputs": []
    },
    {
      "cell_type": "code",
      "metadata": {
        "id": "VCZnwzteUht2",
        "colab_type": "code",
        "colab": {}
      },
      "source": [
        "from sklearn.model_selection import KFold"
      ],
      "execution_count": 5,
      "outputs": []
    },
    {
      "cell_type": "code",
      "metadata": {
        "id": "va5Hjzg8DKsG",
        "colab_type": "code",
        "colab": {
          "base_uri": "https://localhost:8080/",
          "height": 35
        },
        "outputId": "a0e8bf17-fdef-4ad0-ceda-7028300293d4"
      },
      "source": [
        "from google.colab import drive\n",
        "drive.mount('/content/drive')"
      ],
      "execution_count": 6,
      "outputs": [
        {
          "output_type": "stream",
          "text": [
            "Mounted at /content/drive\n"
          ],
          "name": "stdout"
        }
      ]
    },
    {
      "cell_type": "code",
      "metadata": {
        "id": "yLUt4RggDDLu",
        "colab_type": "code",
        "colab": {}
      },
      "source": [
        "#kmer1\n",
        "fs1Train = [\"/content/drive/My Drive/Pattern project training/pattern/data/converted/A.thaliana5289_pos/combined/Kmer1/A.thaliana5289indep_pos_kmer_1.npy\",\n",
        "                   \"/content/drive/My Drive/Pattern project training/pattern/data/converted/A.thaliana5289_neg/concated result/concated kmer1/A.thaliana5289_neg_kmr1.npy\"]\n",
        "fs1Test = [\"/content/drive/My Drive/Pattern project training/pattern/npy/A.thaliana1000indep_pos_kmer_1.npy\", \n",
        "                  \"/content/drive/My Drive/Pattern project training/pattern/npy/A.thaliana1000indep_neg_kmer_1.npy\"]\n",
        "\n",
        "\n",
        "#enac\n",
        "fs2Train = [\"/content/drive/My Drive/Pattern project training/pattern/data/converted/A.thaliana5289_pos/combined/ENAC/A.thaliana5289indep_pos_ENAC.npy\",\n",
        "                   \"/content/drive/My Drive/Pattern project training/pattern/data/converted/A.thaliana5289_neg/concated result/concated enac/A.thaliana5289_neg_ENAC.npy\"]\n",
        "fs2Test = [\"/content/drive/My Drive/Pattern project training/pattern/npy/A.thaliana1000indep_pos_ENAC.npy\", \n",
        "                  \"/content/drive/My Drive/Pattern project training/pattern/npy/A.thaliana1000indep_neg_enac.npy\"]"
      ],
      "execution_count": 7,
      "outputs": []
    },
    {
      "cell_type": "code",
      "metadata": {
        "id": "Bkibhn2DD9hU",
        "colab_type": "code",
        "colab": {}
      },
      "source": [
        "kmer1_pos_5289 = fs1Train[0]\n",
        "kmer1_neg_5289 = fs1Train[1]\n",
        "kmer1_pos_1000 = fs1Test[0]\n",
        "kmer1_neg_1000 = fs1Test[1]\n",
        "\n",
        "\n",
        "enac_pos_5289 = fs2Train[0]\n",
        "enac_neg_5289 = fs2Train[1]\n",
        "enac_pos_1000 = fs2Test[0]\n",
        "enac_neg_1000 = fs2Test[1]\n",
        "\n",
        "\n",
        "\n",
        "x_train_pos = np.load(enac_pos_5289) \n",
        "x_train_neg = np.load(enac_neg_5289) \n",
        "x_test_pos = np.load(enac_pos_1000)  \n",
        "x_test_neg = np.load(enac_neg_1000)  \n",
        "\n",
        "y_train_pos = np.tile(1, 5289) \n",
        "y_train_neg = np.tile(0, 5289) \n",
        "y_test_pos = np.tile(1, 1000) \n",
        "y_test_neg = np.tile(0, 1000) "
      ],
      "execution_count": 8,
      "outputs": []
    },
    {
      "cell_type": "code",
      "metadata": {
        "id": "H84h5ZubMHuZ",
        "colab_type": "code",
        "colab": {
          "base_uri": "https://localhost:8080/",
          "height": 163
        },
        "outputId": "5fefc821-2a66-46da-d9c6-5cf73f83bf46"
      },
      "source": [
        "print(x_train_pos.shape)\n",
        "print(x_train_neg.shape)\n",
        "print(x_test_pos.shape)\n",
        "print(x_test_neg.shape)\n",
        "\n",
        "print(y_train_pos.shape)\n",
        "print(y_train_neg.shape)\n",
        "print(y_test_pos.shape)\n",
        "print(y_test_neg.shape)"
      ],
      "execution_count": 9,
      "outputs": [
        {
          "output_type": "stream",
          "text": [
            "(5289, 148)\n",
            "(5289, 148)\n",
            "(1000, 148)\n",
            "(1000, 148)\n",
            "(5289,)\n",
            "(5289,)\n",
            "(1000,)\n",
            "(1000,)\n"
          ],
          "name": "stdout"
        }
      ]
    },
    {
      "cell_type": "code",
      "metadata": {
        "id": "4woF7AbhG2D5",
        "colab_type": "code",
        "colab": {}
      },
      "source": [
        "seed = 40\n",
        "np.random.seed(seed)"
      ],
      "execution_count": 10,
      "outputs": []
    },
    {
      "cell_type": "code",
      "metadata": {
        "id": "Rxp25B0pIt5S",
        "colab_type": "code",
        "colab": {}
      },
      "source": [
        "x_training = np.concatenate((x_train_pos, x_train_neg), axis= 0)\n",
        "y_training = np.concatenate((y_train_pos, y_train_neg))"
      ],
      "execution_count": 11,
      "outputs": []
    },
    {
      "cell_type": "code",
      "metadata": {
        "id": "5SlGQaZ0QtwH",
        "colab_type": "code",
        "colab": {}
      },
      "source": [
        "x_test = np.concatenate((x_test_pos, x_test_neg))\n",
        "y_test = np.concatenate((y_test_pos, y_test_neg))"
      ],
      "execution_count": 12,
      "outputs": []
    },
    {
      "cell_type": "code",
      "metadata": {
        "id": "AFWq8oQ9Q8pr",
        "colab_type": "code",
        "colab": {
          "base_uri": "https://localhost:8080/",
          "height": 54
        },
        "outputId": "04bae201-44e6-45c6-a888-5331862fb922"
      },
      "source": [
        "print(x_test.shape)\n",
        "print(y_test.shape)"
      ],
      "execution_count": 13,
      "outputs": [
        {
          "output_type": "stream",
          "text": [
            "(2000, 148)\n",
            "(2000,)\n"
          ],
          "name": "stdout"
        }
      ]
    },
    {
      "cell_type": "code",
      "metadata": {
        "id": "r2lmmmO7JotB",
        "colab_type": "code",
        "colab": {
          "base_uri": "https://localhost:8080/",
          "height": 54
        },
        "outputId": "e6b59c2c-6f5a-4629-c1fa-d50d1d287d0d"
      },
      "source": [
        "print(x_training.shape)\n",
        "print(y_training.shape)"
      ],
      "execution_count": 14,
      "outputs": [
        {
          "output_type": "stream",
          "text": [
            "(10578, 148)\n",
            "(10578,)\n"
          ],
          "name": "stdout"
        }
      ]
    },
    {
      "cell_type": "code",
      "metadata": {
        "id": "s7kBxZXMX5q-",
        "colab_type": "code",
        "colab": {
          "base_uri": "https://localhost:8080/",
          "height": 74
        },
        "outputId": "426a3a64-5bec-464c-bb1f-b0d7f22b5773"
      },
      "source": [
        "kf = KFold(n_splits=5, random_state=seed)"
      ],
      "execution_count": 15,
      "outputs": [
        {
          "output_type": "stream",
          "text": [
            "/usr/local/lib/python3.6/dist-packages/sklearn/model_selection/_split.py:296: FutureWarning: Setting a random_state has no effect since shuffle is False. This will raise an error in 0.24. You should leave random_state to its default (None), or set shuffle=True.\n",
            "  FutureWarning\n"
          ],
          "name": "stderr"
        }
      ]
    },
    {
      "cell_type": "code",
      "metadata": {
        "id": "veZ7aQjkV_62",
        "colab_type": "code",
        "colab": {
          "base_uri": "https://localhost:8080/",
          "height": 1000
        },
        "outputId": "15d8e406-f324-4968-81b5-fdf73a878643"
      },
      "source": [
        "j=2\n",
        "n_list=[]\n",
        "n_test_avg =[]\n",
        "n_train_avg = []\n",
        "n_val_avg = [] \n",
        "while j <= 50:\n",
        "  n = j\n",
        "  sumTrain = sumVal = sumTest =  0\n",
        "  print(f\"RFC: Enac  |   n = 1150, max-depth =  {n}\")\n",
        "  clf = RandomForestClassifier(n_estimators = 1150,max_depth=n, random_state=seed)\n",
        "\n",
        "  val_accuracy_list = []\n",
        "  train_accuracy_list = []\n",
        "  test_accuracy_list = []\n",
        "  n = 1\n",
        "  for train_index, val_index in kf.split(x_training):\n",
        "      print(\"Fold : \",n)\n",
        "      X_train, X_val = x_training[train_index], x_training[val_index]\n",
        "      y_train, y_val = y_training[train_index], y_training[val_index]\n",
        "      \n",
        "      clf.fit(X_train, y_train)\n",
        "\n",
        "      y_val_pred = clf.predict(X_val)\n",
        "      val_accuracy = accuracy_score(y_val, y_val_pred)\n",
        "      val_accuracy_list.append(val_accuracy)\n",
        "\n",
        "      y_train_pred = clf.predict(X_train)\n",
        "      train_accuracy = accuracy_score(y_train, y_train_pred)\n",
        "      train_accuracy_list.append(train_accuracy)\n",
        "\n",
        "      y_test_pred = clf.predict(x_test)\n",
        "      test_accuracy = accuracy_score(y_test, y_test_pred)\n",
        "      test_accuracy_list.append(test_accuracy)\n",
        "\n",
        "      n += 1 \n",
        "\n",
        "  print(\"done\")\n",
        "  for i in range(0, len(train_accuracy_list)):\n",
        "      print(\"train_accuracy : \", train_accuracy_list[i], \"\\tVal accuracy : \", val_accuracy_list[i], \"\\tTest accuracy : \", test_accuracy_list[i])\n",
        "      sumTrain = sumTrain + train_accuracy_list[i]\n",
        "      sumVal = sumVal + val_accuracy_list[i]\n",
        "      sumTest = sumTest + test_accuracy_list[i]\n",
        "  sumTrain = sumTrain/5.0\n",
        "  sumVal = sumVal/5.0\n",
        "  sumTest = sumTest/5.0\n",
        "  print(\"------------------------------------------------------------------------------------------------\")\n",
        "  print(f\"Train accuracy(avg): {sumTrain} | Val accuracy(avg): {sumVal}  | Test accuracy(avg): {sumTest}\")\n",
        "  print(\"================================================================================================\")\n",
        "  n_list.append(j)\n",
        "  n_train_avg.append(sumTrain)\n",
        "  n_val_avg.append(sumVal)\n",
        "  n_test_avg.append(sumTest)\n",
        "  j = j+4"
      ],
      "execution_count": 16,
      "outputs": [
        {
          "output_type": "stream",
          "text": [
            "RFC: Enac  |   n = 1150, max-depth =  2\n",
            "Fold :  1\n",
            "Fold :  2\n",
            "Fold :  3\n",
            "Fold :  4\n",
            "Fold :  5\n",
            "done\n",
            "train_accuracy :  0.727369416213661 \tVal accuracy :  0.11389413988657845 \tTest accuracy :  0.5455\n",
            "train_accuracy :  0.718388087922477 \tVal accuracy :  0.08695652173913043 \tTest accuracy :  0.5425\n",
            "train_accuracy :  0.8840699598203734 \tVal accuracy :  0.5954631379962193 \tTest accuracy :  0.7275\n",
            "train_accuracy :  0.6866359447004609 \tVal accuracy :  0.1342789598108747 \tTest accuracy :  0.5235\n",
            "train_accuracy :  0.7510339123242349 \tVal accuracy :  0.04680851063829787 \tTest accuracy :  0.5075\n",
            "------------------------------------------------------------------------------------------------\n",
            "Train accuracy(avg): 0.7534994641962414 | Val accuracy(avg): 0.19548025401422015  | Test accuracy(avg): 0.5692999999999999\n",
            "================================================================================================\n",
            "RFC: Enac  |   n = 1150, max-depth =  6\n",
            "Fold :  1\n",
            "Fold :  2\n",
            "Fold :  3\n",
            "Fold :  4\n",
            "Fold :  5\n",
            "done\n",
            "train_accuracy :  0.93512172063342 \tVal accuracy :  0.2731568998109641 \tTest accuracy :  0.562\n",
            "train_accuracy :  0.9273221460647602 \tVal accuracy :  0.30954631379962194 \tTest accuracy :  0.628\n",
            "train_accuracy :  0.9632474592294966 \tVal accuracy :  0.6535916824196597 \tTest accuracy :  0.7505\n",
            "train_accuracy :  0.9334751270235141 \tVal accuracy :  0.7215130023640662 \tTest accuracy :  0.672\n",
            "train_accuracy :  0.945527590688881 \tVal accuracy :  0.34657210401891253 \tTest accuracy :  0.54\n",
            "------------------------------------------------------------------------------------------------\n",
            "Train accuracy(avg): 0.9409388087280144 | Val accuracy(avg): 0.460876000482645  | Test accuracy(avg): 0.6305\n",
            "================================================================================================\n",
            "RFC: Enac  |   n = 1150, max-depth =  10\n",
            "Fold :  1\n",
            "Fold :  2\n",
            "Fold :  3\n",
            "Fold :  4\n",
            "Fold :  5\n",
            "done\n",
            "train_accuracy :  0.9985818955329709 \tVal accuracy :  0.30671077504725897 \tTest accuracy :  0.577\n",
            "train_accuracy :  0.9978728432994564 \tVal accuracy :  0.45841209829867674 \tTest accuracy :  0.66\n",
            "train_accuracy :  0.9975183171826991 \tVal accuracy :  0.6885633270321361 \tTest accuracy :  0.7605\n",
            "train_accuracy :  0.9945645752097365 \tVal accuracy :  0.8680851063829788 \tTest accuracy :  0.7085\n",
            "train_accuracy :  0.9961006735200284 \tVal accuracy :  0.4094562647754137 \tTest accuracy :  0.5335\n",
            "------------------------------------------------------------------------------------------------\n",
            "Train accuracy(avg): 0.9969276609489782 | Val accuracy(avg): 0.5462455143072928  | Test accuracy(avg): 0.6479\n",
            "================================================================================================\n",
            "RFC: Enac  |   n = 1150, max-depth =  14\n",
            "Fold :  1\n",
            "Fold :  2\n",
            "Fold :  3\n",
            "Fold :  4\n",
            "Fold :  5\n",
            "done\n",
            "train_accuracy :  1.0 \tVal accuracy :  0.3166351606805293 \tTest accuracy :  0.5865\n",
            "train_accuracy :  1.0 \tVal accuracy :  0.5061436672967864 \tTest accuracy :  0.6635\n",
            "train_accuracy :  1.0 \tVal accuracy :  0.6984877126654064 \tTest accuracy :  0.767\n",
            "train_accuracy :  0.999763677183032 \tVal accuracy :  0.893144208037825 \tTest accuracy :  0.7075\n",
            "train_accuracy :  1.0 \tVal accuracy :  0.4132387706855792 \tTest accuracy :  0.538\n",
            "------------------------------------------------------------------------------------------------\n",
            "Train accuracy(avg): 0.9999527354366065 | Val accuracy(avg): 0.5655299038732252  | Test accuracy(avg): 0.6525000000000001\n",
            "================================================================================================\n",
            "RFC: Enac  |   n = 1150, max-depth =  18\n",
            "Fold :  1\n",
            "Fold :  2\n",
            "Fold :  3\n",
            "Fold :  4\n",
            "Fold :  5\n",
            "done\n",
            "train_accuracy :  1.0 \tVal accuracy :  0.31474480151228734 \tTest accuracy :  0.5805\n",
            "train_accuracy :  1.0 \tVal accuracy :  0.5014177693761814 \tTest accuracy :  0.6655\n",
            "train_accuracy :  1.0 \tVal accuracy :  0.7046313799621928 \tTest accuracy :  0.769\n",
            "train_accuracy :  1.0 \tVal accuracy :  0.8969267139479905 \tTest accuracy :  0.7175\n",
            "train_accuracy :  1.0 \tVal accuracy :  0.42080378250591016 \tTest accuracy :  0.532\n",
            "------------------------------------------------------------------------------------------------\n",
            "Train accuracy(avg): 1.0 | Val accuracy(avg): 0.5677048894609125  | Test accuracy(avg): 0.6529\n",
            "================================================================================================\n",
            "RFC: Enac  |   n = 1150, max-depth =  22\n",
            "Fold :  1\n",
            "Fold :  2\n",
            "Fold :  3\n",
            "Fold :  4\n",
            "Fold :  5\n",
            "done\n",
            "train_accuracy :  1.0 \tVal accuracy :  0.31758034026465026 \tTest accuracy :  0.5875\n",
            "train_accuracy :  1.0 \tVal accuracy :  0.4919659735349716 \tTest accuracy :  0.663\n",
            "train_accuracy :  1.0 \tVal accuracy :  0.7041587901701323 \tTest accuracy :  0.763\n",
            "train_accuracy :  1.0 \tVal accuracy :  0.8978723404255319 \tTest accuracy :  0.714\n",
            "train_accuracy :  1.0 \tVal accuracy :  0.41749408983451536 \tTest accuracy :  0.539\n",
            "------------------------------------------------------------------------------------------------\n",
            "Train accuracy(avg): 1.0 | Val accuracy(avg): 0.5658143068459603  | Test accuracy(avg): 0.6533\n",
            "================================================================================================\n",
            "RFC: Enac  |   n = 1150, max-depth =  26\n",
            "Fold :  1\n",
            "Fold :  2\n",
            "Fold :  3\n",
            "Fold :  4\n",
            "Fold :  5\n",
            "done\n",
            "train_accuracy :  1.0 \tVal accuracy :  0.3166351606805293 \tTest accuracy :  0.5875\n",
            "train_accuracy :  1.0 \tVal accuracy :  0.4948015122873346 \tTest accuracy :  0.6625\n",
            "train_accuracy :  1.0 \tVal accuracy :  0.7036862003780718 \tTest accuracy :  0.767\n",
            "train_accuracy :  1.0 \tVal accuracy :  0.8988179669030733 \tTest accuracy :  0.716\n",
            "train_accuracy :  1.0 \tVal accuracy :  0.41702127659574467 \tTest accuracy :  0.536\n",
            "------------------------------------------------------------------------------------------------\n",
            "Train accuracy(avg): 1.0 | Val accuracy(avg): 0.5661924233689508  | Test accuracy(avg): 0.6537999999999999\n",
            "================================================================================================\n",
            "RFC: Enac  |   n = 1150, max-depth =  30\n",
            "Fold :  1\n",
            "Fold :  2\n",
            "Fold :  3\n",
            "Fold :  4\n",
            "Fold :  5\n",
            "done\n",
            "train_accuracy :  1.0 \tVal accuracy :  0.31710775047258977 \tTest accuracy :  0.5875\n",
            "train_accuracy :  1.0 \tVal accuracy :  0.4948015122873346 \tTest accuracy :  0.6625\n",
            "train_accuracy :  1.0 \tVal accuracy :  0.7036862003780718 \tTest accuracy :  0.767\n",
            "train_accuracy :  1.0 \tVal accuracy :  0.8988179669030733 \tTest accuracy :  0.716\n",
            "train_accuracy :  1.0 \tVal accuracy :  0.41702127659574467 \tTest accuracy :  0.536\n",
            "------------------------------------------------------------------------------------------------\n",
            "Train accuracy(avg): 1.0 | Val accuracy(avg): 0.5662869413273628  | Test accuracy(avg): 0.6537999999999999\n",
            "================================================================================================\n",
            "RFC: Enac  |   n = 1150, max-depth =  34\n",
            "Fold :  1\n",
            "Fold :  2\n",
            "Fold :  3\n",
            "Fold :  4\n",
            "Fold :  5\n",
            "done\n",
            "train_accuracy :  1.0 \tVal accuracy :  0.31710775047258977 \tTest accuracy :  0.5875\n",
            "train_accuracy :  1.0 \tVal accuracy :  0.4948015122873346 \tTest accuracy :  0.6625\n",
            "train_accuracy :  1.0 \tVal accuracy :  0.7036862003780718 \tTest accuracy :  0.767\n",
            "train_accuracy :  1.0 \tVal accuracy :  0.8988179669030733 \tTest accuracy :  0.716\n",
            "train_accuracy :  1.0 \tVal accuracy :  0.41702127659574467 \tTest accuracy :  0.536\n",
            "------------------------------------------------------------------------------------------------\n",
            "Train accuracy(avg): 1.0 | Val accuracy(avg): 0.5662869413273628  | Test accuracy(avg): 0.6537999999999999\n",
            "================================================================================================\n",
            "RFC: Enac  |   n = 1150, max-depth =  38\n",
            "Fold :  1\n",
            "Fold :  2\n",
            "Fold :  3\n",
            "Fold :  4\n",
            "Fold :  5\n",
            "done\n",
            "train_accuracy :  1.0 \tVal accuracy :  0.31710775047258977 \tTest accuracy :  0.5875\n",
            "train_accuracy :  1.0 \tVal accuracy :  0.4948015122873346 \tTest accuracy :  0.6625\n",
            "train_accuracy :  1.0 \tVal accuracy :  0.7036862003780718 \tTest accuracy :  0.767\n",
            "train_accuracy :  1.0 \tVal accuracy :  0.8988179669030733 \tTest accuracy :  0.716\n",
            "train_accuracy :  1.0 \tVal accuracy :  0.41702127659574467 \tTest accuracy :  0.536\n",
            "------------------------------------------------------------------------------------------------\n",
            "Train accuracy(avg): 1.0 | Val accuracy(avg): 0.5662869413273628  | Test accuracy(avg): 0.6537999999999999\n",
            "================================================================================================\n",
            "RFC: Enac  |   n = 1150, max-depth =  42\n",
            "Fold :  1\n",
            "Fold :  2\n",
            "Fold :  3\n",
            "Fold :  4\n",
            "Fold :  5\n",
            "done\n",
            "train_accuracy :  1.0 \tVal accuracy :  0.31710775047258977 \tTest accuracy :  0.5875\n",
            "train_accuracy :  1.0 \tVal accuracy :  0.4948015122873346 \tTest accuracy :  0.6625\n",
            "train_accuracy :  1.0 \tVal accuracy :  0.7036862003780718 \tTest accuracy :  0.767\n",
            "train_accuracy :  1.0 \tVal accuracy :  0.8988179669030733 \tTest accuracy :  0.716\n",
            "train_accuracy :  1.0 \tVal accuracy :  0.41702127659574467 \tTest accuracy :  0.536\n",
            "------------------------------------------------------------------------------------------------\n",
            "Train accuracy(avg): 1.0 | Val accuracy(avg): 0.5662869413273628  | Test accuracy(avg): 0.6537999999999999\n",
            "================================================================================================\n",
            "RFC: Enac  |   n = 1150, max-depth =  46\n",
            "Fold :  1\n",
            "Fold :  2\n",
            "Fold :  3\n",
            "Fold :  4\n",
            "Fold :  5\n",
            "done\n",
            "train_accuracy :  1.0 \tVal accuracy :  0.31710775047258977 \tTest accuracy :  0.5875\n",
            "train_accuracy :  1.0 \tVal accuracy :  0.4948015122873346 \tTest accuracy :  0.6625\n",
            "train_accuracy :  1.0 \tVal accuracy :  0.7036862003780718 \tTest accuracy :  0.767\n",
            "train_accuracy :  1.0 \tVal accuracy :  0.8988179669030733 \tTest accuracy :  0.716\n",
            "train_accuracy :  1.0 \tVal accuracy :  0.41702127659574467 \tTest accuracy :  0.536\n",
            "------------------------------------------------------------------------------------------------\n",
            "Train accuracy(avg): 1.0 | Val accuracy(avg): 0.5662869413273628  | Test accuracy(avg): 0.6537999999999999\n",
            "================================================================================================\n",
            "RFC: Enac  |   n = 1150, max-depth =  50\n",
            "Fold :  1\n",
            "Fold :  2\n",
            "Fold :  3\n",
            "Fold :  4\n",
            "Fold :  5\n",
            "done\n",
            "train_accuracy :  1.0 \tVal accuracy :  0.31710775047258977 \tTest accuracy :  0.5875\n",
            "train_accuracy :  1.0 \tVal accuracy :  0.4948015122873346 \tTest accuracy :  0.6625\n",
            "train_accuracy :  1.0 \tVal accuracy :  0.7036862003780718 \tTest accuracy :  0.767\n",
            "train_accuracy :  1.0 \tVal accuracy :  0.8988179669030733 \tTest accuracy :  0.716\n",
            "train_accuracy :  1.0 \tVal accuracy :  0.41702127659574467 \tTest accuracy :  0.536\n",
            "------------------------------------------------------------------------------------------------\n",
            "Train accuracy(avg): 1.0 | Val accuracy(avg): 0.5662869413273628  | Test accuracy(avg): 0.6537999999999999\n",
            "================================================================================================\n"
          ],
          "name": "stdout"
        }
      ]
    },
    {
      "cell_type": "code",
      "metadata": {
        "id": "ZHFEhZGlq4Q8",
        "colab_type": "code",
        "colab": {
          "base_uri": "https://localhost:8080/",
          "height": 526
        },
        "outputId": "cfd9304a-c6e0-443b-cd3d-29d6310ae2b1"
      },
      "source": [
        "i=0  \n",
        "print(\" md      train                   val                    test\")\n",
        "print(\"===================================================================\")\n",
        "for x in n_list:\n",
        "  print(f\"{x}  -  {n_train_avg[i]} - {n_val_avg[i]} - {n_test_avg[i]}\")\n",
        "  print(\"--------------------------------------------------------------------\")\n",
        "  i=i+1"
      ],
      "execution_count": 17,
      "outputs": [
        {
          "output_type": "stream",
          "text": [
            " md      train                   val                    test\n",
            "===================================================================\n",
            "2  -  0.7534994641962414 - 0.19548025401422015 - 0.5692999999999999\n",
            "--------------------------------------------------------------------\n",
            "6  -  0.9409388087280144 - 0.460876000482645 - 0.6305\n",
            "--------------------------------------------------------------------\n",
            "10  -  0.9969276609489782 - 0.5462455143072928 - 0.6479\n",
            "--------------------------------------------------------------------\n",
            "14  -  0.9999527354366065 - 0.5655299038732252 - 0.6525000000000001\n",
            "--------------------------------------------------------------------\n",
            "18  -  1.0 - 0.5677048894609125 - 0.6529\n",
            "--------------------------------------------------------------------\n",
            "22  -  1.0 - 0.5658143068459603 - 0.6533\n",
            "--------------------------------------------------------------------\n",
            "26  -  1.0 - 0.5661924233689508 - 0.6537999999999999\n",
            "--------------------------------------------------------------------\n",
            "30  -  1.0 - 0.5662869413273628 - 0.6537999999999999\n",
            "--------------------------------------------------------------------\n",
            "34  -  1.0 - 0.5662869413273628 - 0.6537999999999999\n",
            "--------------------------------------------------------------------\n",
            "38  -  1.0 - 0.5662869413273628 - 0.6537999999999999\n",
            "--------------------------------------------------------------------\n",
            "42  -  1.0 - 0.5662869413273628 - 0.6537999999999999\n",
            "--------------------------------------------------------------------\n",
            "46  -  1.0 - 0.5662869413273628 - 0.6537999999999999\n",
            "--------------------------------------------------------------------\n",
            "50  -  1.0 - 0.5662869413273628 - 0.6537999999999999\n",
            "--------------------------------------------------------------------\n"
          ],
          "name": "stdout"
        }
      ]
    },
    {
      "cell_type": "code",
      "metadata": {
        "id": "M-8SwsofHdqv",
        "colab_type": "code",
        "colab": {
          "base_uri": "https://localhost:8080/",
          "height": 142
        },
        "outputId": "97329c97-9b12-412f-ed5a-0edc6fa59cc8"
      },
      "source": [
        "# Import pyplot\n",
        "import matplotlib.pyplot as plt\n",
        "\n",
        "\n",
        "# Define plot space\n",
        "fig, ax = plt.subplots(figsize=(24, 2))\n",
        "\n",
        "# Define x and y axes\n",
        "ax.plot(n_list, \n",
        "        n_train_avg,\n",
        "        marker = 'o')\n",
        "\n",
        "# Set plot title and axes labels\n",
        "ax.set(title = \"max-depth and Train accuracy\",\n",
        "       xlabel = \"m_d values\",\n",
        "       ylabel = \"Train accuracy\")\n",
        "\n",
        "plt.show()"
      ],
      "execution_count": 18,
      "outputs": [
        {
          "output_type": "display_data",
          "data": {
            "image/png": "[encoded data removed]",
            "text/plain": [
              "<Figure size 1728x144 with 1 Axes>"
            ]
          },
          "metadata": {
            "tags": [],
            "needs_background": "light"
          }
        }
      ]
    },
    {
      "cell_type": "code",
      "metadata": {
        "id": "oRdyw4YjiRn2",
        "colab_type": "code",
        "colab": {
          "base_uri": "https://localhost:8080/",
          "height": 142
        },
        "outputId": "069c416d-6b3c-433e-c752-d125f65aa18f"
      },
      "source": [
        "# Import pyplot\n",
        "import matplotlib.pyplot as plt\n",
        "\n",
        "\n",
        "# Define plot space\n",
        "fig, ax = plt.subplots(figsize=(24, 2))\n",
        "\n",
        "# Define x and y axes\n",
        "ax.plot(n_list, \n",
        "        n_val_avg,\n",
        "        marker = 'o')\n",
        "\n",
        "# Set plot title and axes labels\n",
        "ax.set(title = \"max_depth and Val accuracy\",\n",
        "       xlabel = \"m_d values\",\n",
        "       ylabel = \"Val accuracy\")\n",
        "\n",
        "plt.show()"
      ],
      "execution_count": 19,
      "outputs": [
        {
          "output_type": "display_data",
          "data": {
            "image/png": "[encoded data removed]",
            "text/plain": [
              "<Figure size 1728x144 with 1 Axes>"
            ]
          },
          "metadata": {
            "tags": [],
            "needs_background": "light"
          }
        }
      ]
    },
    {
      "cell_type": "code",
      "metadata": {
        "id": "KHxJLrI2jYhU",
        "colab_type": "code",
        "colab": {
          "base_uri": "https://localhost:8080/",
          "height": 141
        },
        "outputId": "6cb696de-842a-4c9f-8087-a07b548e54b5"
      },
      "source": [
        "# Import pyplot\n",
        "import matplotlib.pyplot as plt\n",
        "\n",
        "\n",
        "# Define plot space\n",
        "fig, ax = plt.subplots(figsize=(24, 2))\n",
        "\n",
        "# Define x and y axes\n",
        "ax.plot(n_list, \n",
        "        n_test_avg,\n",
        "        marker = 'o')\n",
        "\n",
        "# Set plot title and axes labels\n",
        "ax.set(title = \"max_depth and Test accuracy\",\n",
        "       xlabel = \"m_d values\",\n",
        "       ylabel = \"Test accuracy\")\n",
        "\n",
        "plt.show()"
      ],
      "execution_count": 20,
      "outputs": [
        {
          "output_type": "display_data",
          "data": {
            "image/png": "[encoded data removed]",
            "text/plain": [
              "<Figure size 1728x144 with 1 Axes>"
            ]
          },
          "metadata": {
            "tags": [],
            "needs_background": "light"
          }
        }
      ]
    },
    {
      "cell_type": "code",
      "metadata": {
        "id": "HM-1X6lRj08s",
        "colab_type": "code",
        "colab": {}
      },
      "source": [
        ""
      ],
      "execution_count": null,
      "outputs": []
    }
  ]
}