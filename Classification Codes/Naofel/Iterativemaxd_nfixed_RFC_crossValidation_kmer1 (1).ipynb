{
  "nbformat": 4,
  "nbformat_minor": 0,
  "metadata": {
    "colab": {
      "name": "Iterativemaxd_nfixed_RFC_crossValidation_kmer1.ipynb",
      "provenance": [],
      "collapsed_sections": []
    },
    "kernelspec": {
      "name": "python3",
      "display_name": "Python 3"
    }
  },
  "cells": [
    {
      "cell_type": "code",
      "metadata": {
        "id": "xcg-c9ezGOHr",
        "colab_type": "code",
        "colab": {}
      },
      "source": [
        "from sklearn.model_selection import train_test_split\n",
        "import numpy as np"
      ],
      "execution_count": 1,
      "outputs": []
    },
    {
      "cell_type": "code",
      "metadata": {
        "id": "mNgMT0uORFWb",
        "colab_type": "code",
        "colab": {}
      },
      "source": [
        "from sklearn.ensemble import RandomForestClassifier"
      ],
      "execution_count": 2,
      "outputs": []
    },
    {
      "cell_type": "code",
      "metadata": {
        "id": "wROFsPwdNRI5",
        "colab_type": "code",
        "colab": {}
      },
      "source": [
        "from sklearn.svm import SVC"
      ],
      "execution_count": 3,
      "outputs": []
    },
    {
      "cell_type": "code",
      "metadata": {
        "id": "SkYWCRv0Oyiv",
        "colab_type": "code",
        "colab": {}
      },
      "source": [
        "from sklearn.metrics import accuracy_score"
      ],
      "execution_count": 4,
      "outputs": []
    },
    {
      "cell_type": "code",
      "metadata": {
        "id": "VCZnwzteUht2",
        "colab_type": "code",
        "colab": {}
      },
      "source": [
        "from sklearn.model_selection import KFold"
      ],
      "execution_count": 5,
      "outputs": []
    },
    {
      "cell_type": "code",
      "metadata": {
        "id": "va5Hjzg8DKsG",
        "colab_type": "code",
        "colab": {
          "base_uri": "https://localhost:8080/",
          "height": 35
        },
        "outputId": "5bae8a23-ec62-4d91-e0c3-58681b8afe41"
      },
      "source": [
        "from google.colab import drive\n",
        "drive.mount('/content/drive')"
      ],
      "execution_count": 6,
      "outputs": [
        {
          "output_type": "stream",
          "text": [
            "Drive already mounted at /content/drive; to attempt to forcibly remount, call drive.mount(\"/content/drive\", force_remount=True).\n"
          ],
          "name": "stdout"
        }
      ]
    },
    {
      "cell_type": "code",
      "metadata": {
        "id": "yLUt4RggDDLu",
        "colab_type": "code",
        "colab": {}
      },
      "source": [
        "#kmer1\n",
        "fs1Train = [\"/content/drive/My Drive/Pattern project training/pattern/data/converted/A.thaliana5289_pos/combined/Kmer1/A.thaliana5289indep_pos_kmer_1.npy\",\n",
        "                   \"/content/drive/My Drive/Pattern project training/pattern/data/converted/A.thaliana5289_neg/concated result/concated kmer1/A.thaliana5289_neg_kmr1.npy\"]\n",
        "fs1Test = [\"/content/drive/My Drive/Pattern project training/pattern/npy/A.thaliana1000indep_pos_kmer_1.npy\", \n",
        "                  \"/content/drive/My Drive/Pattern project training/pattern/npy/A.thaliana1000indep_neg_kmer_1.npy\"]\n",
        "\n",
        "\n",
        "#enac\n",
        "fs2Train = [\"/content/drive/My Drive/Pattern project training/pattern/data/converted/A.thaliana5289_pos/combined/ENAC/A.thaliana5289indep_pos_ENAC.npy\",\n",
        "                   \"/content/drive/My Drive/Pattern project training/pattern/data/converted/A.thaliana5289_neg/concated result/concated enac/A.thaliana5289_neg_ENAC.npy\"]\n",
        "fs2Test = [\"/content/drive/My Drive/Pattern project training/pattern/npy/A.thaliana1000indep_pos_ENAC.npy\", \n",
        "                  \"/content/drive/My Drive/Pattern project training/pattern/npy/A.thaliana1000indep_neg_enac.npy\"]"
      ],
      "execution_count": 7,
      "outputs": []
    },
    {
      "cell_type": "code",
      "metadata": {
        "id": "Bkibhn2DD9hU",
        "colab_type": "code",
        "colab": {}
      },
      "source": [
        "kmer1_pos_5289 = fs1Train[0]\n",
        "kmer1_neg_5289 = fs1Train[1]\n",
        "kmer1_pos_1000 = fs1Test[0]\n",
        "kmer1_neg_1000 = fs1Test[1]\n",
        "\n",
        "\n",
        "enac_pos_5289 = fs2Train[0]\n",
        "enac_neg_5289 = fs2Train[1]\n",
        "enac_pos_1000 = fs2Test[0]\n",
        "enac_neg_1000 = fs2Test[1]\n",
        "\n",
        "\n",
        "\n",
        "x_train_pos = np.load(kmer1_pos_5289) \n",
        "x_train_neg = np.load(kmer1_neg_5289) \n",
        "x_test_pos = np.load(kmer1_pos_1000)  \n",
        "x_test_neg = np.load(kmer1_neg_1000)  \n",
        "\n",
        "y_train_pos = np.tile(1, 5289) \n",
        "y_train_neg = np.tile(0, 5289) \n",
        "y_test_pos = np.tile(1, 1000) \n",
        "y_test_neg = np.tile(0, 1000) "
      ],
      "execution_count": 8,
      "outputs": []
    },
    {
      "cell_type": "code",
      "metadata": {
        "id": "H84h5ZubMHuZ",
        "colab_type": "code",
        "colab": {
          "base_uri": "https://localhost:8080/",
          "height": 163
        },
        "outputId": "909a4a3f-c0c2-48bc-ce8f-0c6b58fa7e44"
      },
      "source": [
        "print(x_train_pos.shape)\n",
        "print(x_train_neg.shape)\n",
        "print(x_test_pos.shape)\n",
        "print(x_test_neg.shape)\n",
        "\n",
        "print(y_train_pos.shape)\n",
        "print(y_train_neg.shape)\n",
        "print(y_test_pos.shape)\n",
        "print(y_test_neg.shape)"
      ],
      "execution_count": 9,
      "outputs": [
        {
          "output_type": "stream",
          "text": [
            "(5289, 4)\n",
            "(5289, 4)\n",
            "(1000, 4)\n",
            "(1000, 4)\n",
            "(5289,)\n",
            "(5289,)\n",
            "(1000,)\n",
            "(1000,)\n"
          ],
          "name": "stdout"
        }
      ]
    },
    {
      "cell_type": "code",
      "metadata": {
        "id": "4woF7AbhG2D5",
        "colab_type": "code",
        "colab": {}
      },
      "source": [
        "seed = 40\n",
        "np.random.seed(seed)"
      ],
      "execution_count": 10,
      "outputs": []
    },
    {
      "cell_type": "code",
      "metadata": {
        "id": "Rxp25B0pIt5S",
        "colab_type": "code",
        "colab": {}
      },
      "source": [
        "x_training = np.concatenate((x_train_pos, x_train_neg), axis= 0)\n",
        "y_training = np.concatenate((y_train_pos, y_train_neg))"
      ],
      "execution_count": 11,
      "outputs": []
    },
    {
      "cell_type": "code",
      "metadata": {
        "id": "5SlGQaZ0QtwH",
        "colab_type": "code",
        "colab": {}
      },
      "source": [
        "x_test = np.concatenate((x_test_pos, x_test_neg))\n",
        "y_test = np.concatenate((y_test_pos, y_test_neg))"
      ],
      "execution_count": 12,
      "outputs": []
    },
    {
      "cell_type": "code",
      "metadata": {
        "id": "AFWq8oQ9Q8pr",
        "colab_type": "code",
        "colab": {
          "base_uri": "https://localhost:8080/",
          "height": 54
        },
        "outputId": "8cfa72ab-e652-419e-ff79-691bdf1e1da7"
      },
      "source": [
        "print(x_test.shape)\n",
        "print(y_test.shape)"
      ],
      "execution_count": 13,
      "outputs": [
        {
          "output_type": "stream",
          "text": [
            "(2000, 4)\n",
            "(2000,)\n"
          ],
          "name": "stdout"
        }
      ]
    },
    {
      "cell_type": "code",
      "metadata": {
        "id": "r2lmmmO7JotB",
        "colab_type": "code",
        "colab": {
          "base_uri": "https://localhost:8080/",
          "height": 54
        },
        "outputId": "efa3b2ee-38b8-4866-e3c7-fc9a9e3ab9d5"
      },
      "source": [
        "print(x_training.shape)\n",
        "print(y_training.shape)"
      ],
      "execution_count": 14,
      "outputs": [
        {
          "output_type": "stream",
          "text": [
            "(10578, 4)\n",
            "(10578,)\n"
          ],
          "name": "stdout"
        }
      ]
    },
    {
      "cell_type": "code",
      "metadata": {
        "id": "s7kBxZXMX5q-",
        "colab_type": "code",
        "colab": {
          "base_uri": "https://localhost:8080/",
          "height": 74
        },
        "outputId": "0ce6477c-0157-4642-91c9-8fc19193ff8d"
      },
      "source": [
        "kf = KFold(n_splits=5, random_state=seed)"
      ],
      "execution_count": 15,
      "outputs": [
        {
          "output_type": "stream",
          "text": [
            "/usr/local/lib/python3.6/dist-packages/sklearn/model_selection/_split.py:296: FutureWarning: Setting a random_state has no effect since shuffle is False. This will raise an error in 0.24. You should leave random_state to its default (None), or set shuffle=True.\n",
            "  FutureWarning\n"
          ],
          "name": "stderr"
        }
      ]
    },
    {
      "cell_type": "code",
      "metadata": {
        "id": "veZ7aQjkV_62",
        "colab_type": "code",
        "colab": {
          "base_uri": "https://localhost:8080/",
          "height": 1000
        },
        "outputId": "09c482dc-83a8-41e7-a3f9-daf7950642ee"
      },
      "source": [
        "j=2\n",
        "n_list=[]\n",
        "n_test_avg =[]\n",
        "n_train_avg = []\n",
        "n_val_avg = [] \n",
        "while j <= 50:\n",
        "  n = j\n",
        "  sumTrain = sumVal = sumTest =  0\n",
        "  print(f\"RFC: kmer1  |   n = 100, max-depth =  {n}\")\n",
        "  clf = RandomForestClassifier(n_estimators = 100,max_depth=n, random_state=seed)\n",
        "\n",
        "  val_accuracy_list = []\n",
        "  train_accuracy_list = []\n",
        "  test_accuracy_list = []\n",
        "  n = 1\n",
        "  for train_index, val_index in kf.split(x_training):\n",
        "      print(\"Fold : \",n)\n",
        "      X_train, X_val = x_training[train_index], x_training[val_index]\n",
        "      y_train, y_val = y_training[train_index], y_training[val_index]\n",
        "      \n",
        "      clf.fit(X_train, y_train)\n",
        "\n",
        "      y_val_pred = clf.predict(X_val)\n",
        "      val_accuracy = accuracy_score(y_val, y_val_pred)\n",
        "      val_accuracy_list.append(val_accuracy)\n",
        "\n",
        "      y_train_pred = clf.predict(X_train)\n",
        "      train_accuracy = accuracy_score(y_train, y_train_pred)\n",
        "      train_accuracy_list.append(train_accuracy)\n",
        "\n",
        "      y_test_pred = clf.predict(x_test)\n",
        "      test_accuracy = accuracy_score(y_test, y_test_pred)\n",
        "      test_accuracy_list.append(test_accuracy)\n",
        "\n",
        "      n += 1 \n",
        "\n",
        "  print(\"done\")\n",
        "  for i in range(0, len(train_accuracy_list)):\n",
        "      print(\"train_accuracy : \", train_accuracy_list[i], \"\\tVal accuracy : \", val_accuracy_list[i], \"\\tTest accuracy : \", test_accuracy_list[i])\n",
        "      sumTrain = sumTrain + train_accuracy_list[i]\n",
        "      sumVal = sumVal + val_accuracy_list[i]\n",
        "      sumTest = sumTest + test_accuracy_list[i]\n",
        "  sumTrain = sumTrain/5.0\n",
        "  sumVal = sumVal/5.0\n",
        "  sumTest = sumTest/5.0\n",
        "  print(\"------------------------------------------------------------------------------------------------\")\n",
        "  print(f\"Train accuracy(avg): {sumTrain} | Val accuracy(avg): {sumVal}  | Test accuracy(avg): {sumTest}\")\n",
        "  print(\"================================================================================================\")\n",
        "  n_list.append(j)\n",
        "  n_train_avg.append(sumTrain)\n",
        "  n_val_avg.append(sumVal)\n",
        "  n_test_avg.append(sumTest)\n",
        "  j = j+4"
      ],
      "execution_count": 16,
      "outputs": [
        {
          "output_type": "stream",
          "text": [
            "RFC: kmer1  |   n = 100, max-depth =  2\n",
            "Fold :  1\n",
            "Fold :  2\n",
            "Fold :  3\n",
            "Fold :  4\n",
            "Fold :  5\n",
            "done\n",
            "train_accuracy :  0.757267785393524 \tVal accuracy :  0.5174858223062382 \tTest accuracy :  0.5635\n",
            "train_accuracy :  0.7486409832190971 \tVal accuracy :  0.45652173913043476 \tTest accuracy :  0.5535\n",
            "train_accuracy :  0.743559442212243 \tVal accuracy :  0.6715500945179584 \tTest accuracy :  0.64\n",
            "train_accuracy :  0.7558785300720785 \tVal accuracy :  0.46477541371158393 \tTest accuracy :  0.554\n",
            "train_accuracy :  0.7478435542951672 \tVal accuracy :  0.48936170212765956 \tTest accuracy :  0.532\n",
            "------------------------------------------------------------------------------------------------\n",
            "Train accuracy(avg): 0.7506380590384218 | Val accuracy(avg): 0.519938954358775  | Test accuracy(avg): 0.5686\n",
            "================================================================================================\n",
            "RFC: kmer1  |   n = 100, max-depth =  6\n",
            "Fold :  1\n",
            "Fold :  2\n",
            "Fold :  3\n",
            "Fold :  4\n",
            "Fold :  5\n",
            "done\n",
            "train_accuracy :  0.8770976128574804 \tVal accuracy :  0.5448960302457467 \tTest accuracy :  0.5315\n",
            "train_accuracy :  0.8730796502008982 \tVal accuracy :  0.5155954631379962 \tTest accuracy :  0.543\n",
            "train_accuracy :  0.8449539116048216 \tVal accuracy :  0.7793005671077504 \tTest accuracy :  0.588\n",
            "train_accuracy :  0.8502894954507858 \tVal accuracy :  0.658628841607565 \tTest accuracy :  0.5395\n",
            "train_accuracy :  0.8798298475717831 \tVal accuracy :  0.5825059101654846 \tTest accuracy :  0.5575\n",
            "------------------------------------------------------------------------------------------------\n",
            "Train accuracy(avg): 0.8650501035371538 | Val accuracy(avg): 0.6161853624529086  | Test accuracy(avg): 0.5519000000000001\n",
            "================================================================================================\n",
            "RFC: kmer1  |   n = 100, max-depth =  10\n",
            "Fold :  1\n",
            "Fold :  2\n",
            "Fold :  3\n",
            "Fold :  4\n",
            "Fold :  5\n",
            "done\n",
            "train_accuracy :  0.9716379106594186 \tVal accuracy :  0.5571833648393195 \tTest accuracy :  0.433\n",
            "train_accuracy :  0.9579295674781375 \tVal accuracy :  0.5628544423440454 \tTest accuracy :  0.4785\n",
            "train_accuracy :  0.9419758922240605 \tVal accuracy :  0.8468809073724007 \tTest accuracy :  0.574\n",
            "train_accuracy :  0.945527590688881 \tVal accuracy :  0.8539007092198582 \tTest accuracy :  0.532\n",
            "train_accuracy :  0.955807633226988 \tVal accuracy :  0.5801418439716312 \tTest accuracy :  0.5395\n",
            "------------------------------------------------------------------------------------------------\n",
            "Train accuracy(avg): 0.9545757188554973 | Val accuracy(avg): 0.680192253549451  | Test accuracy(avg): 0.5114\n",
            "================================================================================================\n",
            "RFC: kmer1  |   n = 100, max-depth =  14\n",
            "Fold :  1\n",
            "Fold :  2\n",
            "Fold :  3\n",
            "Fold :  4\n",
            "Fold :  5\n",
            "done\n",
            "train_accuracy :  0.9966910895769322 \tVal accuracy :  0.5524574669187146 \tTest accuracy :  0.435\n",
            "train_accuracy :  0.9945639328763886 \tVal accuracy :  0.500945179584121 \tTest accuracy :  0.4725\n",
            "train_accuracy :  0.9896005672417868 \tVal accuracy :  0.8941398865784499 \tTest accuracy :  0.564\n",
            "train_accuracy :  0.988774666194021 \tVal accuracy :  0.9120567375886525 \tTest accuracy :  0.535\n",
            "train_accuracy :  0.9918468628146048 \tVal accuracy :  0.5588652482269504 \tTest accuracy :  0.526\n",
            "------------------------------------------------------------------------------------------------\n",
            "Train accuracy(avg): 0.9922954237407466 | Val accuracy(avg): 0.6836929037793776  | Test accuracy(avg): 0.5065\n",
            "================================================================================================\n",
            "RFC: kmer1  |   n = 100, max-depth =  18\n",
            "Fold :  1\n",
            "Fold :  2\n",
            "Fold :  3\n",
            "Fold :  4\n",
            "Fold :  5\n",
            "done\n",
            "train_accuracy :  1.0 \tVal accuracy :  0.5363894139886578 \tTest accuracy :  0.424\n",
            "train_accuracy :  0.9997636492554951 \tVal accuracy :  0.5127599243856332 \tTest accuracy :  0.479\n",
            "train_accuracy :  0.9997636492554951 \tVal accuracy :  0.9017013232514177 \tTest accuracy :  0.5555\n",
            "train_accuracy :  0.9996455157745481 \tVal accuracy :  0.9380614657210402 \tTest accuracy :  0.527\n",
            "train_accuracy :  0.999527354366064 \tVal accuracy :  0.5442080378250591 \tTest accuracy :  0.5235\n",
            "------------------------------------------------------------------------------------------------\n",
            "Train accuracy(avg): 0.9997400337303205 | Val accuracy(avg): 0.6866240330343617  | Test accuracy(avg): 0.5018\n",
            "================================================================================================\n",
            "RFC: kmer1  |   n = 100, max-depth =  22\n",
            "Fold :  1\n",
            "Fold :  2\n",
            "Fold :  3\n",
            "Fold :  4\n",
            "Fold :  5\n",
            "done\n",
            "train_accuracy :  1.0 \tVal accuracy :  0.5392249527410208 \tTest accuracy :  0.425\n",
            "train_accuracy :  1.0 \tVal accuracy :  0.4872400756143667 \tTest accuracy :  0.464\n",
            "train_accuracy :  1.0 \tVal accuracy :  0.8979206049149339 \tTest accuracy :  0.555\n",
            "train_accuracy :  1.0 \tVal accuracy :  0.9375886524822695 \tTest accuracy :  0.5275\n",
            "train_accuracy :  1.0 \tVal accuracy :  0.5347517730496454 \tTest accuracy :  0.519\n",
            "------------------------------------------------------------------------------------------------\n",
            "Train accuracy(avg): 1.0 | Val accuracy(avg): 0.6793452117604473  | Test accuracy(avg): 0.4981\n",
            "================================================================================================\n",
            "RFC: kmer1  |   n = 100, max-depth =  26\n",
            "Fold :  1\n",
            "Fold :  2\n",
            "Fold :  3\n",
            "Fold :  4\n",
            "Fold :  5\n",
            "done\n",
            "train_accuracy :  1.0 \tVal accuracy :  0.5378071833648393 \tTest accuracy :  0.426\n",
            "train_accuracy :  1.0 \tVal accuracy :  0.5122873345935728 \tTest accuracy :  0.472\n",
            "train_accuracy :  1.0 \tVal accuracy :  0.9026465028355387 \tTest accuracy :  0.5515\n",
            "train_accuracy :  1.0 \tVal accuracy :  0.9380614657210402 \tTest accuracy :  0.5295\n",
            "train_accuracy :  1.0 \tVal accuracy :  0.5347517730496454 \tTest accuracy :  0.519\n",
            "------------------------------------------------------------------------------------------------\n",
            "Train accuracy(avg): 1.0 | Val accuracy(avg): 0.6851108519129273  | Test accuracy(avg): 0.49960000000000004\n",
            "================================================================================================\n",
            "RFC: kmer1  |   n = 100, max-depth =  30\n",
            "Fold :  1\n",
            "Fold :  2\n",
            "Fold :  3\n",
            "Fold :  4\n",
            "Fold :  5\n",
            "done\n",
            "train_accuracy :  1.0 \tVal accuracy :  0.5382797731568998 \tTest accuracy :  0.4255\n",
            "train_accuracy :  1.0 \tVal accuracy :  0.5066162570888468 \tTest accuracy :  0.4725\n",
            "train_accuracy :  1.0 \tVal accuracy :  0.9007561436672968 \tTest accuracy :  0.5545\n",
            "train_accuracy :  1.0 \tVal accuracy :  0.9385342789598109 \tTest accuracy :  0.5315\n",
            "train_accuracy :  1.0 \tVal accuracy :  0.5347517730496454 \tTest accuracy :  0.52\n",
            "------------------------------------------------------------------------------------------------\n",
            "Train accuracy(avg): 1.0 | Val accuracy(avg): 0.6837876451845  | Test accuracy(avg): 0.5008\n",
            "================================================================================================\n",
            "RFC: kmer1  |   n = 100, max-depth =  34\n",
            "Fold :  1\n",
            "Fold :  2\n",
            "Fold :  3\n",
            "Fold :  4\n",
            "Fold :  5\n",
            "done\n",
            "train_accuracy :  1.0 \tVal accuracy :  0.5392249527410208 \tTest accuracy :  0.4255\n",
            "train_accuracy :  1.0 \tVal accuracy :  0.5094517958412098 \tTest accuracy :  0.473\n",
            "train_accuracy :  1.0 \tVal accuracy :  0.9007561436672968 \tTest accuracy :  0.5545\n",
            "train_accuracy :  1.0 \tVal accuracy :  0.9385342789598109 \tTest accuracy :  0.5315\n",
            "train_accuracy :  1.0 \tVal accuracy :  0.5295508274231678 \tTest accuracy :  0.5195\n",
            "------------------------------------------------------------------------------------------------\n",
            "Train accuracy(avg): 1.0 | Val accuracy(avg): 0.6835035997265012  | Test accuracy(avg): 0.5007999999999999\n",
            "================================================================================================\n",
            "RFC: kmer1  |   n = 100, max-depth =  38\n",
            "Fold :  1\n",
            "Fold :  2\n",
            "Fold :  3\n",
            "Fold :  4\n",
            "Fold :  5\n",
            "done\n",
            "train_accuracy :  1.0 \tVal accuracy :  0.5392249527410208 \tTest accuracy :  0.4255\n",
            "train_accuracy :  1.0 \tVal accuracy :  0.5094517958412098 \tTest accuracy :  0.473\n",
            "train_accuracy :  1.0 \tVal accuracy :  0.9007561436672968 \tTest accuracy :  0.5545\n",
            "train_accuracy :  1.0 \tVal accuracy :  0.9385342789598109 \tTest accuracy :  0.5315\n",
            "train_accuracy :  1.0 \tVal accuracy :  0.5295508274231678 \tTest accuracy :  0.5195\n",
            "------------------------------------------------------------------------------------------------\n",
            "Train accuracy(avg): 1.0 | Val accuracy(avg): 0.6835035997265012  | Test accuracy(avg): 0.5007999999999999\n",
            "================================================================================================\n",
            "RFC: kmer1  |   n = 100, max-depth =  42\n",
            "Fold :  1\n",
            "Fold :  2\n",
            "Fold :  3\n",
            "Fold :  4\n",
            "Fold :  5\n",
            "done\n",
            "train_accuracy :  1.0 \tVal accuracy :  0.5392249527410208 \tTest accuracy :  0.4255\n",
            "train_accuracy :  1.0 \tVal accuracy :  0.5094517958412098 \tTest accuracy :  0.473\n",
            "train_accuracy :  1.0 \tVal accuracy :  0.9007561436672968 \tTest accuracy :  0.5545\n",
            "train_accuracy :  1.0 \tVal accuracy :  0.9385342789598109 \tTest accuracy :  0.5315\n",
            "train_accuracy :  1.0 \tVal accuracy :  0.5295508274231678 \tTest accuracy :  0.5195\n",
            "------------------------------------------------------------------------------------------------\n",
            "Train accuracy(avg): 1.0 | Val accuracy(avg): 0.6835035997265012  | Test accuracy(avg): 0.5007999999999999\n",
            "================================================================================================\n",
            "RFC: kmer1  |   n = 100, max-depth =  46\n",
            "Fold :  1\n",
            "Fold :  2\n",
            "Fold :  3\n",
            "Fold :  4\n",
            "Fold :  5\n",
            "done\n",
            "train_accuracy :  1.0 \tVal accuracy :  0.5392249527410208 \tTest accuracy :  0.4255\n",
            "train_accuracy :  1.0 \tVal accuracy :  0.5094517958412098 \tTest accuracy :  0.473\n",
            "train_accuracy :  1.0 \tVal accuracy :  0.9007561436672968 \tTest accuracy :  0.5545\n",
            "train_accuracy :  1.0 \tVal accuracy :  0.9385342789598109 \tTest accuracy :  0.5315\n",
            "train_accuracy :  1.0 \tVal accuracy :  0.5295508274231678 \tTest accuracy :  0.5195\n",
            "------------------------------------------------------------------------------------------------\n",
            "Train accuracy(avg): 1.0 | Val accuracy(avg): 0.6835035997265012  | Test accuracy(avg): 0.5007999999999999\n",
            "================================================================================================\n",
            "RFC: kmer1  |   n = 100, max-depth =  50\n",
            "Fold :  1\n",
            "Fold :  2\n",
            "Fold :  3\n",
            "Fold :  4\n",
            "Fold :  5\n",
            "done\n",
            "train_accuracy :  1.0 \tVal accuracy :  0.5392249527410208 \tTest accuracy :  0.4255\n",
            "train_accuracy :  1.0 \tVal accuracy :  0.5094517958412098 \tTest accuracy :  0.473\n",
            "train_accuracy :  1.0 \tVal accuracy :  0.9007561436672968 \tTest accuracy :  0.5545\n",
            "train_accuracy :  1.0 \tVal accuracy :  0.9385342789598109 \tTest accuracy :  0.5315\n",
            "train_accuracy :  1.0 \tVal accuracy :  0.5295508274231678 \tTest accuracy :  0.5195\n",
            "------------------------------------------------------------------------------------------------\n",
            "Train accuracy(avg): 1.0 | Val accuracy(avg): 0.6835035997265012  | Test accuracy(avg): 0.5007999999999999\n",
            "================================================================================================\n"
          ],
          "name": "stdout"
        }
      ]
    },
    {
      "cell_type": "code",
      "metadata": {
        "id": "ZHFEhZGlq4Q8",
        "colab_type": "code",
        "colab": {
          "base_uri": "https://localhost:8080/",
          "height": 526
        },
        "outputId": "40770edf-fc50-4430-cf13-d8d13d3378c5"
      },
      "source": [
        "i=0  \n",
        "print(\" md      train                   val                    test\")\n",
        "print(\"===================================================================\")\n",
        "for x in n_list:\n",
        "  print(f\"{x}  -  {n_train_avg[i]} - {n_val_avg[i]} - {n_test_avg[i]}\")\n",
        "  print(\"--------------------------------------------------------------------\")\n",
        "  i=i+1"
      ],
      "execution_count": 17,
      "outputs": [
        {
          "output_type": "stream",
          "text": [
            " md      train                   val                    test\n",
            "===================================================================\n",
            "2  -  0.7506380590384218 - 0.519938954358775 - 0.5686\n",
            "--------------------------------------------------------------------\n",
            "6  -  0.8650501035371538 - 0.6161853624529086 - 0.5519000000000001\n",
            "--------------------------------------------------------------------\n",
            "10  -  0.9545757188554973 - 0.680192253549451 - 0.5114\n",
            "--------------------------------------------------------------------\n",
            "14  -  0.9922954237407466 - 0.6836929037793776 - 0.5065\n",
            "--------------------------------------------------------------------\n",
            "18  -  0.9997400337303205 - 0.6866240330343617 - 0.5018\n",
            "--------------------------------------------------------------------\n",
            "22  -  1.0 - 0.6793452117604473 - 0.4981\n",
            "--------------------------------------------------------------------\n",
            "26  -  1.0 - 0.6851108519129273 - 0.49960000000000004\n",
            "--------------------------------------------------------------------\n",
            "30  -  1.0 - 0.6837876451845 - 0.5008\n",
            "--------------------------------------------------------------------\n",
            "34  -  1.0 - 0.6835035997265012 - 0.5007999999999999\n",
            "--------------------------------------------------------------------\n",
            "38  -  1.0 - 0.6835035997265012 - 0.5007999999999999\n",
            "--------------------------------------------------------------------\n",
            "42  -  1.0 - 0.6835035997265012 - 0.5007999999999999\n",
            "--------------------------------------------------------------------\n",
            "46  -  1.0 - 0.6835035997265012 - 0.5007999999999999\n",
            "--------------------------------------------------------------------\n",
            "50  -  1.0 - 0.6835035997265012 - 0.5007999999999999\n",
            "--------------------------------------------------------------------\n"
          ],
          "name": "stdout"
        }
      ]
    },
    {
      "cell_type": "code",
      "metadata": {
        "id": "M-8SwsofHdqv",
        "colab_type": "code",
        "colab": {
          "base_uri": "https://localhost:8080/",
          "height": 142
        },
        "outputId": "81bbd568-40a0-4d29-a326-00038d36682e"
      },
      "source": [
        "# Import pyplot\n",
        "import matplotlib.pyplot as plt\n",
        "\n",
        "\n",
        "# Define plot space\n",
        "fig, ax = plt.subplots(figsize=(24, 2))\n",
        "\n",
        "# Define x and y axes\n",
        "ax.plot(n_list, \n",
        "        n_train_avg,\n",
        "        marker = 'o')\n",
        "\n",
        "# Set plot title and axes labels\n",
        "ax.set(title = \"max-depth and Train accuracy\",\n",
        "       xlabel = \"m_d values\",\n",
        "       ylabel = \"Train accuracy\")\n",
        "\n",
        "plt.show()"
      ],
      "execution_count": 21,
      "outputs": [
        {
          "output_type": "display_data",
          "data": {
            "image/png": "[encoded data removed]",
            "text/plain": [
              "<Figure size 1728x144 with 1 Axes>"
            ]
          },
          "metadata": {
            "tags": [],
            "needs_background": "light"
          }
        }
      ]
    },
    {
      "cell_type": "code",
      "metadata": {
        "id": "oRdyw4YjiRn2",
        "colab_type": "code",
        "colab": {
          "base_uri": "https://localhost:8080/",
          "height": 141
        },
        "outputId": "854e037a-e579-4443-f3f5-d3536828e485"
      },
      "source": [
        "# Import pyplot\n",
        "import matplotlib.pyplot as plt\n",
        "\n",
        "\n",
        "# Define plot space\n",
        "fig, ax = plt.subplots(figsize=(24, 2))\n",
        "\n",
        "# Define x and y axes\n",
        "ax.plot(n_list, \n",
        "        n_val_avg,\n",
        "        marker = 'o')\n",
        "\n",
        "# Set plot title and axes labels\n",
        "ax.set(title = \"max_depth and Val accuracy\",\n",
        "       xlabel = \"m_d values\",\n",
        "       ylabel = \"Val accuracy\")\n",
        "\n",
        "plt.show()"
      ],
      "execution_count": 22,
      "outputs": [
        {
          "output_type": "display_data",
          "data": {
            "image/png": "[encoded data removed]",
            "text/plain": [
              "<Figure size 1728x144 with 1 Axes>"
            ]
          },
          "metadata": {
            "tags": [],
            "needs_background": "light"
          }
        }
      ]
    },
    {
      "cell_type": "code",
      "metadata": {
        "id": "KHxJLrI2jYhU",
        "colab_type": "code",
        "colab": {
          "base_uri": "https://localhost:8080/",
          "height": 141
        },
        "outputId": "7a1ce49c-7692-4493-bc19-4a3f970325db"
      },
      "source": [
        "# Import pyplot\n",
        "import matplotlib.pyplot as plt\n",
        "\n",
        "\n",
        "# Define plot space\n",
        "fig, ax = plt.subplots(figsize=(24, 2))\n",
        "\n",
        "# Define x and y axes\n",
        "ax.plot(n_list, \n",
        "        n_test_avg,\n",
        "        marker = 'o')\n",
        "\n",
        "# Set plot title and axes labels\n",
        "ax.set(title = \"max_depth and Test accuracy\",\n",
        "       xlabel = \"m_d values\",\n",
        "       ylabel = \"Test accuracy\")\n",
        "\n",
        "plt.show()"
      ],
      "execution_count": 23,
      "outputs": [
        {
          "output_type": "display_data",
          "data": {
            "image/png": "[encoded data removed]",
            "text/plain": [
              "<Figure size 1728x144 with 1 Axes>"
            ]
          },
          "metadata": {
            "tags": [],
            "needs_background": "light"
          }
        }
      ]
    },
    {
      "cell_type": "code",
      "metadata": {
        "id": "HM-1X6lRj08s",
        "colab_type": "code",
        "colab": {}
      },
      "source": [
        ""
      ],
      "execution_count": null,
      "outputs": []
    }
  ]
}