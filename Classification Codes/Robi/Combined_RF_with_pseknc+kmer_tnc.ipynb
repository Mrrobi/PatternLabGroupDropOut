{
  "nbformat": 4,
  "nbformat_minor": 0,
  "metadata": {
    "colab": {
      "name": "Combined RF with pseknc+kmer_tnc",
      "provenance": []
    },
    "kernelspec": {
      "name": "python3",
      "display_name": "Python 3"
    }
  },
  "cells": [
    {
      "cell_type": "code",
      "metadata": {
        "id": "LuE11qi7Y9Yy",
        "colab_type": "code",
        "colab": {}
      },
      "source": [
        "from sklearn.model_selection import train_test_split\n",
        "import numpy as np\n",
        "from sklearn.ensemble import RandomForestClassifier\n",
        "from sklearn.model_selection import KFold\n",
        "from sklearn.preprocessing import StandardScaler\n",
        "from sklearn.metrics import confusion_matrix,accuracy_score,classification_report"
      ],
      "execution_count": 4,
      "outputs": []
    },
    {
      "cell_type": "code",
      "metadata": {
        "id": "ZJuW8MrJQsmP",
        "colab_type": "code",
        "colab": {}
      },
      "source": [
        "a_pos_5289 = \"/content/drive/My Drive/Fasta RNA feature vectors/A.thaliana5289_pos/kmer3/A.thaliana5289_pos_kmer_tnc_3.npy\"\n",
        "a_neg_5289 = \"/content/drive/My Drive/Fasta RNA feature vectors/A.thaliana5289_neg/kmer3/A.thaliana5289_neg_kmer_tnc.npy\"\n",
        "a_pos_1000 = \"/content/drive/My Drive/Fasta RNA feature vectors/A.thaliana1000indep_pos/kmer3/A.thaliana1000indep_pos_kmer_tnc.npy\"\n",
        "a_neg_1000 = \"/content/drive/My Drive/Fasta RNA feature vectors/A.thaliana1000indep_neg/kmer_tnc/A.thaliana1000indep_neg_kmer_tnc.npy\"\n",
        "\n",
        "a_x_train_pos = np.load(a_pos_5289) \n",
        "a_x_train_neg = np.load(a_neg_5289) \n",
        "a_x_test_pos = np.load(a_pos_1000) \n",
        "a_x_test_neg = np.load(a_neg_1000) \n",
        "\n",
        "\n",
        "b_pos_5289 = \"/content/drive/My Drive/Fasta RNA feature vectors/A.thaliana5289_pos/pseknc/A.thaliana5289_pos_pseknc.npy\"\n",
        "b_neg_5289 = \"/content/drive/My Drive/Fasta RNA feature vectors/A.thaliana5289_neg/pseknc/A.thaliana5289_neg_pseknc.npy\"\n",
        "b_pos_1000 = \"/content/drive/My Drive/Fasta RNA feature vectors/A.thaliana1000indep_pos/pseknc/A.thaliana1000indep_pos_pseknc.npy\"\n",
        "b_neg_1000 = \"/content/drive/My Drive/Fasta RNA feature vectors/A.thaliana1000indep_neg/pseknc/A.thaliana1000indep_neg_pseknc.npy\"\n",
        "\n",
        "b_x_train_pos = np.load(b_pos_5289) \n",
        "b_x_train_neg = np.load(b_neg_5289) \n",
        "b_x_test_pos = np.load(b_pos_1000) \n",
        "b_x_test_neg = np.load(b_neg_1000) \n",
        "\n",
        "y_train_pos = np.tile(1, 5289) \n",
        "y_train_neg = np.tile(0, 5289) \n",
        "y_test_pos = np.tile(1, 1000) \n",
        "y_test_neg = np.tile(0, 1000) "
      ],
      "execution_count": 5,
      "outputs": []
    },
    {
      "cell_type": "code",
      "metadata": {
        "id": "JgHs0GdIfCEc",
        "colab_type": "code",
        "colab": {
          "base_uri": "https://localhost:8080/",
          "height": 168
        },
        "outputId": "69c2b481-3882-4cc6-fb76-b75353776b8a"
      },
      "source": [
        "print(a_x_test_neg.shape)\n",
        "print(a_x_train_neg.shape)\n",
        "\n",
        "print(a_x_test_pos.shape)\n",
        "print(a_x_train_pos.shape)\n",
        "\n",
        "print()\n",
        "print(b_x_test_neg.shape)\n",
        "print(b_x_train_neg.shape)\n",
        "\n",
        "print(b_x_test_pos.shape)\n",
        "print(b_x_train_pos.shape)"
      ],
      "execution_count": 6,
      "outputs": [
        {
          "output_type": "stream",
          "text": [
            "(1000, 64)\n",
            "(5289, 64)\n",
            "(1000, 64)\n",
            "(5289, 64)\n",
            "\n",
            "(1000, 66)\n",
            "(5289, 66)\n",
            "(1000, 66)\n",
            "(5289, 66)\n"
          ],
          "name": "stdout"
        }
      ]
    },
    {
      "cell_type": "code",
      "metadata": {
        "id": "dn6yh4z1Q34j",
        "colab_type": "code",
        "colab": {}
      },
      "source": [
        "a_x_training = np.concatenate((a_x_train_pos, a_x_train_neg), axis = 0)\n",
        "a_x_test = np.concatenate((a_x_test_pos, a_x_test_neg), axis = 0)\n",
        "\n",
        "b_x_training = np.concatenate((b_x_train_pos, b_x_train_neg), axis = 0)\n",
        "b_x_test = np.concatenate((b_x_test_pos, b_x_test_neg), axis = 0)\n",
        "\n",
        "y_train = np.concatenate((y_train_pos,y_train_neg))\n",
        "y_test = np.concatenate((y_test_pos,y_test_neg))"
      ],
      "execution_count": 9,
      "outputs": []
    },
    {
      "cell_type": "code",
      "metadata": {
        "id": "VifFHQVbfYnq",
        "colab_type": "code",
        "colab": {
          "base_uri": "https://localhost:8080/",
          "height": 134
        },
        "outputId": "ea804cc7-eb0d-434c-b7e6-0b2b63c75be0"
      },
      "source": [
        "print(a_x_training.shape)\n",
        "print(a_x_test.shape)\n",
        "\n",
        "print(b_x_training.shape)\n",
        "print(b_x_test.shape)\n",
        "\n",
        "print()\n",
        "print(y_test.shape)\n",
        "print(y_train.shape)\n",
        "\n"
      ],
      "execution_count": 10,
      "outputs": [
        {
          "output_type": "stream",
          "text": [
            "(10578, 64)\n",
            "(2000, 64)\n",
            "(10578, 66)\n",
            "(2000, 66)\n",
            "\n",
            "(2000,)\n",
            "(10578,)\n"
          ],
          "name": "stdout"
        }
      ]
    },
    {
      "cell_type": "code",
      "metadata": {
        "id": "DzaOKf3XrXjQ",
        "colab_type": "code",
        "colab": {}
      },
      "source": [
        "x_training = np.concatenate((a_x_training, b_x_training), axis = 1)\n",
        "\n",
        "x_test = np.concatenate((a_x_test, b_x_test), axis = 1)"
      ],
      "execution_count": 11,
      "outputs": []
    },
    {
      "cell_type": "code",
      "metadata": {
        "id": "pQonV0iGX1Sw",
        "colab_type": "code",
        "colab": {
          "base_uri": "https://localhost:8080/",
          "height": 50
        },
        "outputId": "acb9d4f7-504c-45f5-c654-0f9c78c27c7e"
      },
      "source": [
        "print(x_training.shape)\n",
        "print(x_test.shape)"
      ],
      "execution_count": 12,
      "outputs": [
        {
          "output_type": "stream",
          "text": [
            "(10578, 130)\n",
            "(2000, 130)\n"
          ],
          "name": "stdout"
        }
      ]
    },
    {
      "cell_type": "code",
      "metadata": {
        "id": "V8LAQW4XbWS0",
        "colab_type": "code",
        "colab": {}
      },
      "source": [
        "seed = 40\n",
        "np.random.seed(seed)\n",
        "\n",
        "kf = KFold(n_splits=5, random_state=seed, shuffle=True)"
      ],
      "execution_count": 13,
      "outputs": []
    },
    {
      "cell_type": "code",
      "metadata": {
        "id": "geXiIM9faOhC",
        "colab_type": "code",
        "colab": {
          "base_uri": "https://localhost:8080/",
          "height": 1000
        },
        "outputId": "d92ffc5a-b56f-4a44-f856-1adb2b9d7cbf"
      },
      "source": [
        "test_avg_acc_list = []\n",
        "j = 1\n",
        "for c in range(50,502,50):\n",
        "  RFC = RandomForestClassifier(n_estimators=c,max_depth=None)\n",
        "  val_accuracy_list = []\n",
        "  train_accuracy_list = []\n",
        "  test_acc_list = []\n",
        "  test_avg = 0\n",
        "  for train_index, val_index in kf.split(x_training):\n",
        "    #print(\"train = \",train_index,\"Val =\",val_index)\n",
        "    X_train, X_val = x_training[train_index], x_training[val_index]\n",
        "    y_train, y_val = y_training[train_index], y_training[val_index]\n",
        "    \n",
        "    RFC.fit(X_train, y_train)\n",
        "\n",
        "    y_val_pred = RFC.predict(X_val)\n",
        "    val_accuracy = accuracy_score(y_val, y_val_pred)\n",
        "    val_accuracy_list.append(val_accuracy)\n",
        "\n",
        "    y_train_pred = RFC.predict(X_train)\n",
        "    train_accuracy = accuracy_score(y_train, y_train_pred)\n",
        "    train_accuracy_list.append(train_accuracy)\n",
        "\n",
        "    y_test_pred = RFC.predict(x_test)\n",
        "    test_accuracy = accuracy_score(y_test, y_test_pred)\n",
        "    test_acc_list.append(test_accuracy)\n",
        "    test_avg = test_avg + test_accuracy\n",
        "  test_avg = test_avg/5\n",
        "  print(f\"Epoch {j}/{10} for C = {c}\")\n",
        "  j=j+1\n",
        "  for i in range(0, len(train_accuracy_list)):\n",
        "    print(\"Train Accuracy : \", train_accuracy_list[i], \"\\tValidation Accuracy : \", val_accuracy_list[i],\"\\tTest Accuracy \",test_acc_list[i])\n",
        "  print(\"Avg Test Accuracy:\",test_avg)"
      ],
      "execution_count": 14,
      "outputs": [
        {
          "output_type": "stream",
          "text": [
            "Epoch 1/10 for C = 50\n",
            "Train Accuracy :  1.0 \tValidation Accuracy :  0.9966918714555766 \tTest Accuracy  0.738\n",
            "Train Accuracy :  1.0 \tValidation Accuracy :  0.9966918714555766 \tTest Accuracy  0.7695\n",
            "Train Accuracy :  1.0 \tValidation Accuracy :  0.998109640831758 \tTest Accuracy  0.7715\n",
            "Train Accuracy :  1.0 \tValidation Accuracy :  0.9990543735224586 \tTest Accuracy  0.7385\n",
            "Train Accuracy :  1.0 \tValidation Accuracy :  0.9943262411347518 \tTest Accuracy  0.7795\n",
            "Avg Test Accuracy: 0.7594000000000001\n",
            "Epoch 2/10 for C = 100\n",
            "Train Accuracy :  1.0 \tValidation Accuracy :  0.996219281663516 \tTest Accuracy  0.7625\n",
            "Train Accuracy :  1.0 \tValidation Accuracy :  0.997164461247637 \tTest Accuracy  0.76\n",
            "Train Accuracy :  1.0 \tValidation Accuracy :  0.998109640831758 \tTest Accuracy  0.769\n",
            "Train Accuracy :  1.0 \tValidation Accuracy :  0.9985815602836879 \tTest Accuracy  0.7705\n",
            "Train Accuracy :  1.0 \tValidation Accuracy :  0.9943262411347518 \tTest Accuracy  0.7465\n",
            "Avg Test Accuracy: 0.7617\n",
            "Epoch 3/10 for C = 150\n",
            "Train Accuracy :  1.0 \tValidation Accuracy :  0.9985822306238186 \tTest Accuracy  0.7575\n",
            "Train Accuracy :  1.0 \tValidation Accuracy :  0.9985822306238186 \tTest Accuracy  0.754\n",
            "Train Accuracy :  1.0 \tValidation Accuracy :  0.9985822306238186 \tTest Accuracy  0.76\n",
            "Train Accuracy :  1.0 \tValidation Accuracy :  0.9981087470449173 \tTest Accuracy  0.767\n",
            "Train Accuracy :  1.0 \tValidation Accuracy :  0.9943262411347518 \tTest Accuracy  0.7695\n",
            "Avg Test Accuracy: 0.7615999999999998\n",
            "Epoch 4/10 for C = 200\n",
            "Train Accuracy :  1.0 \tValidation Accuracy :  0.998109640831758 \tTest Accuracy  0.756\n",
            "Train Accuracy :  1.0 \tValidation Accuracy :  0.999054820415879 \tTest Accuracy  0.78\n",
            "Train Accuracy :  1.0 \tValidation Accuracy :  0.999054820415879 \tTest Accuracy  0.773\n",
            "Train Accuracy :  1.0 \tValidation Accuracy :  0.9985815602836879 \tTest Accuracy  0.787\n",
            "Train Accuracy :  1.0 \tValidation Accuracy :  0.9952718676122931 \tTest Accuracy  0.767\n",
            "Avg Test Accuracy: 0.7726\n",
            "Epoch 5/10 for C = 250\n",
            "Train Accuracy :  1.0 \tValidation Accuracy :  0.9985822306238186 \tTest Accuracy  0.7905\n",
            "Train Accuracy :  1.0 \tValidation Accuracy :  0.9985822306238186 \tTest Accuracy  0.7705\n",
            "Train Accuracy :  1.0 \tValidation Accuracy :  1.0 \tTest Accuracy  0.7735\n",
            "Train Accuracy :  1.0 \tValidation Accuracy :  0.9990543735224586 \tTest Accuracy  0.7615\n",
            "Train Accuracy :  1.0 \tValidation Accuracy :  0.9952718676122931 \tTest Accuracy  0.777\n",
            "Avg Test Accuracy: 0.7746\n",
            "Epoch 6/10 for C = 300\n",
            "Train Accuracy :  1.0 \tValidation Accuracy :  0.998109640831758 \tTest Accuracy  0.7615\n",
            "Train Accuracy :  1.0 \tValidation Accuracy :  0.9985822306238186 \tTest Accuracy  0.7705\n",
            "Train Accuracy :  1.0 \tValidation Accuracy :  0.9995274102079396 \tTest Accuracy  0.7715\n",
            "Train Accuracy :  1.0 \tValidation Accuracy :  0.9995271867612293 \tTest Accuracy  0.7685\n",
            "Train Accuracy :  1.0 \tValidation Accuracy :  0.9947990543735225 \tTest Accuracy  0.7625\n",
            "Avg Test Accuracy: 0.7669\n",
            "Epoch 7/10 for C = 350\n",
            "Train Accuracy :  1.0 \tValidation Accuracy :  0.9985822306238186 \tTest Accuracy  0.764\n",
            "Train Accuracy :  1.0 \tValidation Accuracy :  0.999054820415879 \tTest Accuracy  0.762\n",
            "Train Accuracy :  1.0 \tValidation Accuracy :  0.999054820415879 \tTest Accuracy  0.777\n",
            "Train Accuracy :  1.0 \tValidation Accuracy :  0.9990543735224586 \tTest Accuracy  0.775\n",
            "Train Accuracy :  1.0 \tValidation Accuracy :  0.9957446808510638 \tTest Accuracy  0.751\n",
            "Avg Test Accuracy: 0.7657999999999999\n",
            "Epoch 8/10 for C = 400\n",
            "Train Accuracy :  1.0 \tValidation Accuracy :  0.998109640831758 \tTest Accuracy  0.7565\n",
            "Train Accuracy :  1.0 \tValidation Accuracy :  0.998109640831758 \tTest Accuracy  0.7515\n",
            "Train Accuracy :  1.0 \tValidation Accuracy :  0.9985822306238186 \tTest Accuracy  0.7685\n",
            "Train Accuracy :  1.0 \tValidation Accuracy :  0.9995271867612293 \tTest Accuracy  0.7755\n",
            "Train Accuracy :  1.0 \tValidation Accuracy :  0.9966903073286052 \tTest Accuracy  0.7635\n",
            "Avg Test Accuracy: 0.7631\n",
            "Epoch 9/10 for C = 450\n",
            "Train Accuracy :  1.0 \tValidation Accuracy :  0.999054820415879 \tTest Accuracy  0.7645\n",
            "Train Accuracy :  1.0 \tValidation Accuracy :  0.998109640831758 \tTest Accuracy  0.777\n",
            "Train Accuracy :  1.0 \tValidation Accuracy :  0.9995274102079396 \tTest Accuracy  0.784\n",
            "Train Accuracy :  1.0 \tValidation Accuracy :  0.9985815602836879 \tTest Accuracy  0.7775\n",
            "Train Accuracy :  1.0 \tValidation Accuracy :  0.9966903073286052 \tTest Accuracy  0.759\n",
            "Avg Test Accuracy: 0.7724\n",
            "Epoch 10/10 for C = 500\n",
            "Train Accuracy :  1.0 \tValidation Accuracy :  0.998109640831758 \tTest Accuracy  0.7645\n",
            "Train Accuracy :  1.0 \tValidation Accuracy :  0.997164461247637 \tTest Accuracy  0.7645\n",
            "Train Accuracy :  1.0 \tValidation Accuracy :  0.9995274102079396 \tTest Accuracy  0.7645\n",
            "Train Accuracy :  1.0 \tValidation Accuracy :  0.9995271867612293 \tTest Accuracy  0.7615\n",
            "Train Accuracy :  1.0 \tValidation Accuracy :  0.9952718676122931 \tTest Accuracy  0.7665\n",
            "Avg Test Accuracy: 0.7642999999999999\n"
          ],
          "name": "stdout"
        }
      ]
    },
    {
      "cell_type": "code",
      "metadata": {
        "id": "pJLJPwfXdG5p",
        "colab_type": "code",
        "colab": {
          "base_uri": "https://localhost:8080/",
          "height": 605
        },
        "outputId": "b0e0152e-c4b3-4ed3-d50c-31a023e9ba3a"
      },
      "source": [
        "test_avg_acc_list = []\n",
        "j = 1\n",
        "for c in range(250,300,10):\n",
        "  RFC = RandomForestClassifier(n_estimators=c,max_depth=None)\n",
        "  val_accuracy_list = []\n",
        "  train_accuracy_list = []\n",
        "  test_acc_list = []\n",
        "  test_avg = 0\n",
        "  for train_index, val_index in kf.split(x_training):\n",
        "    #print(\"train = \",train_index,\"Val =\",val_index)\n",
        "    X_train, X_val = x_training[train_index], x_training[val_index]\n",
        "    y_train, y_val = y_training[train_index], y_training[val_index]\n",
        "    \n",
        "    RFC.fit(X_train, y_train)\n",
        "\n",
        "    y_val_pred = RFC.predict(X_val)\n",
        "    val_accuracy = accuracy_score(y_val, y_val_pred)\n",
        "    val_accuracy_list.append(val_accuracy)\n",
        "\n",
        "    y_train_pred = RFC.predict(X_train)\n",
        "    train_accuracy = accuracy_score(y_train, y_train_pred)\n",
        "    train_accuracy_list.append(train_accuracy)\n",
        "\n",
        "    y_test_pred = RFC.predict(x_test)\n",
        "    test_accuracy = accuracy_score(y_test, y_test_pred)\n",
        "    test_acc_list.append(test_accuracy)\n",
        "    test_avg = test_avg + test_accuracy\n",
        "  test_avg = test_avg/5\n",
        "  print(f\"Epoch {j}/{10} for C = {c}\")\n",
        "  j=j+1\n",
        "  for i in range(0, len(train_accuracy_list)):\n",
        "    print(\"Train Accuracy : \", train_accuracy_list[i], \"\\tValidation Accuracy : \", val_accuracy_list[i],\"\\tTest Accuracy \",test_acc_list[i])\n",
        "  print(\"Avg Test Accuracy:\",test_avg)"
      ],
      "execution_count": 15,
      "outputs": [
        {
          "output_type": "stream",
          "text": [
            "Epoch 1/10 for C = 250\n",
            "Train Accuracy :  1.0 \tValidation Accuracy :  0.9976370510396976 \tTest Accuracy  0.7775\n",
            "Train Accuracy :  1.0 \tValidation Accuracy :  0.9985822306238186 \tTest Accuracy  0.7685\n",
            "Train Accuracy :  1.0 \tValidation Accuracy :  0.999054820415879 \tTest Accuracy  0.7585\n",
            "Train Accuracy :  1.0 \tValidation Accuracy :  0.9995271867612293 \tTest Accuracy  0.76\n",
            "Train Accuracy :  1.0 \tValidation Accuracy :  0.9957446808510638 \tTest Accuracy  0.7645\n",
            "Avg Test Accuracy: 0.7657999999999999\n",
            "Epoch 2/10 for C = 260\n",
            "Train Accuracy :  1.0 \tValidation Accuracy :  0.998109640831758 \tTest Accuracy  0.7705\n",
            "Train Accuracy :  1.0 \tValidation Accuracy :  0.9985822306238186 \tTest Accuracy  0.772\n",
            "Train Accuracy :  1.0 \tValidation Accuracy :  0.9985822306238186 \tTest Accuracy  0.7535\n",
            "Train Accuracy :  1.0 \tValidation Accuracy :  0.9985815602836879 \tTest Accuracy  0.7805\n",
            "Train Accuracy :  1.0 \tValidation Accuracy :  0.9957446808510638 \tTest Accuracy  0.7665\n",
            "Avg Test Accuracy: 0.7686\n",
            "Epoch 3/10 for C = 270\n",
            "Train Accuracy :  1.0 \tValidation Accuracy :  0.9985822306238186 \tTest Accuracy  0.7715\n",
            "Train Accuracy :  1.0 \tValidation Accuracy :  0.9976370510396976 \tTest Accuracy  0.765\n",
            "Train Accuracy :  1.0 \tValidation Accuracy :  0.999054820415879 \tTest Accuracy  0.7635\n",
            "Train Accuracy :  1.0 \tValidation Accuracy :  0.9981087470449173 \tTest Accuracy  0.791\n",
            "Train Accuracy :  1.0 \tValidation Accuracy :  0.9962174940898345 \tTest Accuracy  0.7705\n",
            "Avg Test Accuracy: 0.7722999999999999\n",
            "Epoch 4/10 for C = 280\n",
            "Train Accuracy :  1.0 \tValidation Accuracy :  0.9985822306238186 \tTest Accuracy  0.778\n",
            "Train Accuracy :  1.0 \tValidation Accuracy :  0.9976370510396976 \tTest Accuracy  0.771\n",
            "Train Accuracy :  1.0 \tValidation Accuracy :  1.0 \tTest Accuracy  0.761\n",
            "Train Accuracy :  1.0 \tValidation Accuracy :  0.9985815602836879 \tTest Accuracy  0.7645\n",
            "Train Accuracy :  1.0 \tValidation Accuracy :  0.9962174940898345 \tTest Accuracy  0.751\n",
            "Avg Test Accuracy: 0.7651\n",
            "Epoch 5/10 for C = 290\n",
            "Train Accuracy :  1.0 \tValidation Accuracy :  0.9985822306238186 \tTest Accuracy  0.763\n",
            "Train Accuracy :  1.0 \tValidation Accuracy :  0.9976370510396976 \tTest Accuracy  0.7775\n",
            "Train Accuracy :  1.0 \tValidation Accuracy :  0.999054820415879 \tTest Accuracy  0.754\n",
            "Train Accuracy :  1.0 \tValidation Accuracy :  0.9990543735224586 \tTest Accuracy  0.7735\n",
            "Train Accuracy :  1.0 \tValidation Accuracy :  0.9947990543735225 \tTest Accuracy  0.786\n",
            "Avg Test Accuracy: 0.7708\n"
          ],
          "name": "stdout"
        }
      ]
    },
    {
      "cell_type": "code",
      "metadata": {
        "id": "lJ4mX1k_eoXc",
        "colab_type": "code",
        "colab": {
          "base_uri": "https://localhost:8080/",
          "height": 1000
        },
        "outputId": "492d3223-664e-43e4-8162-7cd237bdd815"
      },
      "source": [
        "test_avg_acc_list = []\n",
        "j = 1\n",
        "for c in range(5,106,10):\n",
        "  RFC = RandomForestClassifier(n_estimators=270,max_depth=None)\n",
        "  val_accuracy_list = []\n",
        "  train_accuracy_list = []\n",
        "  test_acc_list = []\n",
        "  test_avg = 0\n",
        "  for train_index, val_index in kf.split(x_training):\n",
        "    #print(\"train = \",train_index,\"Val =\",val_index)\n",
        "    X_train, X_val = x_training[train_index], x_training[val_index]\n",
        "    y_train, y_val = y_training[train_index], y_training[val_index]\n",
        "    \n",
        "    RFC.fit(X_train, y_train)\n",
        "\n",
        "    y_val_pred = RFC.predict(X_val)\n",
        "    val_accuracy = accuracy_score(y_val, y_val_pred)\n",
        "    val_accuracy_list.append(val_accuracy)\n",
        "\n",
        "    y_train_pred = RFC.predict(X_train)\n",
        "    train_accuracy = accuracy_score(y_train, y_train_pred)\n",
        "    train_accuracy_list.append(train_accuracy)\n",
        "\n",
        "    y_test_pred = RFC.predict(x_test)\n",
        "    test_accuracy = accuracy_score(y_test, y_test_pred)\n",
        "    test_acc_list.append(test_accuracy)\n",
        "    test_avg = test_avg + test_accuracy\n",
        "  test_avg = test_avg/5\n",
        "  print(f\"Epoch {j}/{10} for C = {c}\")\n",
        "  j=j+1\n",
        "  for i in range(0, len(train_accuracy_list)):\n",
        "    print(\"Train Accuracy : \", train_accuracy_list[i], \"\\tValidation Accuracy : \", val_accuracy_list[i],\"\\tTest Accuracy \",test_acc_list[i])\n",
        "  print(\"Avg Test Accuracy:\",test_avg)"
      ],
      "execution_count": 16,
      "outputs": [
        {
          "output_type": "stream",
          "text": [
            "Epoch 1/10 for C = 5\n",
            "Train Accuracy :  1.0 \tValidation Accuracy :  0.9976370510396976 \tTest Accuracy  0.757\n",
            "Train Accuracy :  1.0 \tValidation Accuracy :  0.998109640831758 \tTest Accuracy  0.782\n",
            "Train Accuracy :  1.0 \tValidation Accuracy :  0.9995274102079396 \tTest Accuracy  0.756\n",
            "Train Accuracy :  1.0 \tValidation Accuracy :  0.9985815602836879 \tTest Accuracy  0.767\n",
            "Train Accuracy :  1.0 \tValidation Accuracy :  0.9971631205673759 \tTest Accuracy  0.763\n",
            "Avg Test Accuracy: 0.7649999999999999\n",
            "Epoch 2/10 for C = 15\n",
            "Train Accuracy :  1.0 \tValidation Accuracy :  0.9966918714555766 \tTest Accuracy  0.767\n",
            "Train Accuracy :  1.0 \tValidation Accuracy :  0.9976370510396976 \tTest Accuracy  0.761\n",
            "Train Accuracy :  1.0 \tValidation Accuracy :  0.9985822306238186 \tTest Accuracy  0.7745\n",
            "Train Accuracy :  1.0 \tValidation Accuracy :  0.9990543735224586 \tTest Accuracy  0.774\n",
            "Train Accuracy :  1.0 \tValidation Accuracy :  0.9966903073286052 \tTest Accuracy  0.781\n",
            "Avg Test Accuracy: 0.7715000000000001\n",
            "Epoch 3/10 for C = 25\n",
            "Train Accuracy :  1.0 \tValidation Accuracy :  0.998109640831758 \tTest Accuracy  0.7745\n",
            "Train Accuracy :  1.0 \tValidation Accuracy :  0.997164461247637 \tTest Accuracy  0.7615\n",
            "Train Accuracy :  1.0 \tValidation Accuracy :  0.9985822306238186 \tTest Accuracy  0.7665\n",
            "Train Accuracy :  1.0 \tValidation Accuracy :  0.9995271867612293 \tTest Accuracy  0.771\n",
            "Train Accuracy :  1.0 \tValidation Accuracy :  0.9952718676122931 \tTest Accuracy  0.7865\n",
            "Avg Test Accuracy: 0.772\n",
            "Epoch 4/10 for C = 35\n",
            "Train Accuracy :  1.0 \tValidation Accuracy :  0.9985822306238186 \tTest Accuracy  0.7735\n",
            "Train Accuracy :  1.0 \tValidation Accuracy :  0.9985822306238186 \tTest Accuracy  0.7655\n",
            "Train Accuracy :  1.0 \tValidation Accuracy :  0.9995274102079396 \tTest Accuracy  0.754\n",
            "Train Accuracy :  1.0 \tValidation Accuracy :  0.9985815602836879 \tTest Accuracy  0.7815\n",
            "Train Accuracy :  1.0 \tValidation Accuracy :  0.9966903073286052 \tTest Accuracy  0.7615\n",
            "Avg Test Accuracy: 0.7672\n",
            "Epoch 5/10 for C = 45\n",
            "Train Accuracy :  1.0 \tValidation Accuracy :  0.9976370510396976 \tTest Accuracy  0.7625\n",
            "Train Accuracy :  1.0 \tValidation Accuracy :  0.9976370510396976 \tTest Accuracy  0.7745\n",
            "Train Accuracy :  1.0 \tValidation Accuracy :  0.9995274102079396 \tTest Accuracy  0.7665\n",
            "Train Accuracy :  1.0 \tValidation Accuracy :  0.9990543735224586 \tTest Accuracy  0.7575\n",
            "Train Accuracy :  1.0 \tValidation Accuracy :  0.9962174940898345 \tTest Accuracy  0.763\n",
            "Avg Test Accuracy: 0.7647999999999999\n",
            "Epoch 6/10 for C = 55\n",
            "Train Accuracy :  1.0 \tValidation Accuracy :  0.9985822306238186 \tTest Accuracy  0.784\n",
            "Train Accuracy :  1.0 \tValidation Accuracy :  0.9985822306238186 \tTest Accuracy  0.773\n",
            "Train Accuracy :  1.0 \tValidation Accuracy :  0.998109640831758 \tTest Accuracy  0.766\n",
            "Train Accuracy :  1.0 \tValidation Accuracy :  0.9990543735224586 \tTest Accuracy  0.7745\n",
            "Train Accuracy :  1.0 \tValidation Accuracy :  0.9952718676122931 \tTest Accuracy  0.7665\n",
            "Avg Test Accuracy: 0.7727999999999999\n",
            "Epoch 7/10 for C = 65\n",
            "Train Accuracy :  1.0 \tValidation Accuracy :  0.999054820415879 \tTest Accuracy  0.7585\n",
            "Train Accuracy :  1.0 \tValidation Accuracy :  0.9985822306238186 \tTest Accuracy  0.754\n",
            "Train Accuracy :  1.0 \tValidation Accuracy :  0.9995274102079396 \tTest Accuracy  0.765\n",
            "Train Accuracy :  1.0 \tValidation Accuracy :  0.9995271867612293 \tTest Accuracy  0.761\n",
            "Train Accuracy :  1.0 \tValidation Accuracy :  0.9966903073286052 \tTest Accuracy  0.764\n",
            "Avg Test Accuracy: 0.7605000000000001\n",
            "Epoch 8/10 for C = 75\n",
            "Train Accuracy :  1.0 \tValidation Accuracy :  0.9985822306238186 \tTest Accuracy  0.771\n",
            "Train Accuracy :  1.0 \tValidation Accuracy :  0.998109640831758 \tTest Accuracy  0.7535\n",
            "Train Accuracy :  1.0 \tValidation Accuracy :  0.9995274102079396 \tTest Accuracy  0.7705\n",
            "Train Accuracy :  1.0 \tValidation Accuracy :  0.9976359338061466 \tTest Accuracy  0.765\n",
            "Train Accuracy :  1.0 \tValidation Accuracy :  0.9962174940898345 \tTest Accuracy  0.7645\n",
            "Avg Test Accuracy: 0.7649\n",
            "Epoch 9/10 for C = 85\n",
            "Train Accuracy :  1.0 \tValidation Accuracy :  0.9985822306238186 \tTest Accuracy  0.7715\n",
            "Train Accuracy :  1.0 \tValidation Accuracy :  0.9976370510396976 \tTest Accuracy  0.7625\n",
            "Train Accuracy :  1.0 \tValidation Accuracy :  0.999054820415879 \tTest Accuracy  0.7745\n",
            "Train Accuracy :  1.0 \tValidation Accuracy :  0.9990543735224586 \tTest Accuracy  0.7575\n",
            "Train Accuracy :  1.0 \tValidation Accuracy :  0.9957446808510638 \tTest Accuracy  0.7675\n",
            "Avg Test Accuracy: 0.7666999999999999\n",
            "Epoch 10/10 for C = 95\n",
            "Train Accuracy :  1.0 \tValidation Accuracy :  0.9985822306238186 \tTest Accuracy  0.7605\n",
            "Train Accuracy :  1.0 \tValidation Accuracy :  0.9985822306238186 \tTest Accuracy  0.7735\n",
            "Train Accuracy :  1.0 \tValidation Accuracy :  0.9985822306238186 \tTest Accuracy  0.766\n",
            "Train Accuracy :  1.0 \tValidation Accuracy :  0.9981087470449173 \tTest Accuracy  0.765\n",
            "Train Accuracy :  1.0 \tValidation Accuracy :  0.9962174940898345 \tTest Accuracy  0.7675\n",
            "Avg Test Accuracy: 0.7665\n",
            "Epoch 11/10 for C = 105\n",
            "Train Accuracy :  1.0 \tValidation Accuracy :  0.998109640831758 \tTest Accuracy  0.772\n",
            "Train Accuracy :  1.0 \tValidation Accuracy :  0.998109640831758 \tTest Accuracy  0.7815\n",
            "Train Accuracy :  1.0 \tValidation Accuracy :  0.999054820415879 \tTest Accuracy  0.7625\n",
            "Train Accuracy :  1.0 \tValidation Accuracy :  0.9990543735224586 \tTest Accuracy  0.7675\n",
            "Train Accuracy :  1.0 \tValidation Accuracy :  0.9957446808510638 \tTest Accuracy  0.772\n",
            "Avg Test Accuracy: 0.7711\n"
          ],
          "name": "stdout"
        }
      ]
    }
  ]
}