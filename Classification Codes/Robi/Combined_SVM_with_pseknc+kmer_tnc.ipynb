{
  "nbformat": 4,
  "nbformat_minor": 0,
  "metadata": {
    "colab": {
      "name": "Combined SVM with pseknc+kmer_tnc",
      "provenance": []
    },
    "kernelspec": {
      "name": "python3",
      "display_name": "Python 3"
    }
  },
  "cells": [
    {
      "cell_type": "code",
      "metadata": {
        "id": "8ltgtHCeY0QP",
        "colab_type": "code",
        "colab": {}
      },
      "source": [
        "from sklearn.model_selection import train_test_split\n",
        "import numpy as np\n",
        "from sklearn.svm import SVC\n",
        "from sklearn.model_selection import KFold\n",
        "from sklearn.preprocessing import StandardScaler\n",
        "from sklearn.metrics import confusion_matrix,accuracy_score,classification_report"
      ],
      "execution_count": 1,
      "outputs": []
    },
    {
      "cell_type": "code",
      "metadata": {
        "id": "ZJuW8MrJQsmP",
        "colab_type": "code",
        "colab": {}
      },
      "source": [
        "a_pos_5289 = \"/content/drive/My Drive/Fasta RNA feature vectors/A.thaliana5289_pos/kmer3/A.thaliana5289_pos_kmer_tnc_3.npy\"\n",
        "a_neg_5289 = \"/content/drive/My Drive/Fasta RNA feature vectors/A.thaliana5289_neg/kmer3/A.thaliana5289_neg_kmer_tnc.npy\"\n",
        "a_pos_1000 = \"/content/drive/My Drive/Fasta RNA feature vectors/A.thaliana1000indep_pos/kmer3/A.thaliana1000indep_pos_kmer_tnc.npy\"\n",
        "a_neg_1000 = \"/content/drive/My Drive/Fasta RNA feature vectors/A.thaliana1000indep_neg/kmer_tnc/A.thaliana1000indep_neg_kmer_tnc.npy\"\n",
        "\n",
        "a_x_train_pos = np.load(a_pos_5289) \n",
        "a_x_train_neg = np.load(a_neg_5289) \n",
        "a_x_test_pos = np.load(a_pos_1000) \n",
        "a_x_test_neg = np.load(a_neg_1000) \n",
        "\n",
        "\n",
        "b_pos_5289 = \"/content/drive/My Drive/Fasta RNA feature vectors/A.thaliana5289_pos/pseknc/A.thaliana5289_pos_pseknc.npy\"\n",
        "b_neg_5289 = \"/content/drive/My Drive/Fasta RNA feature vectors/A.thaliana5289_neg/pseknc/A.thaliana5289_neg_pseknc.npy\"\n",
        "b_pos_1000 = \"/content/drive/My Drive/Fasta RNA feature vectors/A.thaliana1000indep_pos/pseknc/A.thaliana1000indep_pos_pseknc.npy\"\n",
        "b_neg_1000 = \"/content/drive/My Drive/Fasta RNA feature vectors/A.thaliana1000indep_neg/pseknc/A.thaliana1000indep_neg_pseknc.npy\"\n",
        "\n",
        "b_x_train_pos = np.load(b_pos_5289) \n",
        "b_x_train_neg = np.load(b_neg_5289) \n",
        "b_x_test_pos = np.load(b_pos_1000) \n",
        "b_x_test_neg = np.load(b_neg_1000) \n",
        "\n",
        "y_train_pos = np.tile(1, 5289) \n",
        "y_train_neg = np.tile(0, 5289) \n",
        "y_test_pos = np.tile(1, 1000) \n",
        "y_test_neg = np.tile(0, 1000) "
      ],
      "execution_count": 2,
      "outputs": []
    },
    {
      "cell_type": "code",
      "metadata": {
        "id": "JgHs0GdIfCEc",
        "colab_type": "code",
        "colab": {
          "base_uri": "https://localhost:8080/",
          "height": 168
        },
        "outputId": "72caddcd-9077-49dd-fb8a-071400a09cd3"
      },
      "source": [
        "print(a_x_test_neg.shape)\n",
        "print(a_x_train_neg.shape)\n",
        "\n",
        "print(a_x_test_pos.shape)\n",
        "print(a_x_train_pos.shape)\n",
        "\n",
        "print()\n",
        "print(b_x_test_neg.shape)\n",
        "print(b_x_train_neg.shape)\n",
        "\n",
        "print(b_x_test_pos.shape)\n",
        "print(b_x_train_pos.shape)"
      ],
      "execution_count": 4,
      "outputs": [
        {
          "output_type": "stream",
          "text": [
            "(1000, 64)\n",
            "(5289, 64)\n",
            "(1000, 64)\n",
            "(5289, 64)\n",
            "\n",
            "(1000, 66)\n",
            "(5289, 66)\n",
            "(1000, 66)\n",
            "(5289, 66)\n"
          ],
          "name": "stdout"
        }
      ]
    },
    {
      "cell_type": "code",
      "metadata": {
        "id": "dn6yh4z1Q34j",
        "colab_type": "code",
        "colab": {}
      },
      "source": [
        "a_x_training = np.concatenate((a_x_train_pos, a_x_train_neg), axis = 0)\n",
        "a_x_test = np.concatenate((a_x_test_pos, a_x_test_neg), axis = 0)\n",
        "\n",
        "b_x_training = np.concatenate((b_x_train_pos, b_x_train_neg), axis = 0)\n",
        "b_x_test = np.concatenate((b_x_test_pos, b_x_test_neg), axis = 0)\n",
        "\n",
        "y_train = np.concatenate((y_train_pos,y_train_neg))\n",
        "y_test = np.concatenate((y_test_pos,y_test_neg))"
      ],
      "execution_count": 7,
      "outputs": []
    },
    {
      "cell_type": "code",
      "metadata": {
        "id": "VifFHQVbfYnq",
        "colab_type": "code",
        "colab": {
          "base_uri": "https://localhost:8080/",
          "height": 134
        },
        "outputId": "721ebef2-5d14-406a-eb0e-694407fceb61"
      },
      "source": [
        "print(a_x_training.shape)\n",
        "print(a_x_test.shape)\n",
        "\n",
        "print(b_x_training.shape)\n",
        "print(b_x_test.shape)\n",
        "\n",
        "print()\n",
        "print(y_test.shape)\n",
        "print(y_train.shape)\n",
        "\n"
      ],
      "execution_count": 8,
      "outputs": [
        {
          "output_type": "stream",
          "text": [
            "(10578, 64)\n",
            "(2000, 64)\n",
            "(10578, 66)\n",
            "(2000, 66)\n",
            "\n",
            "(2000,)\n",
            "(10578,)\n"
          ],
          "name": "stdout"
        }
      ]
    },
    {
      "cell_type": "code",
      "metadata": {
        "id": "DzaOKf3XrXjQ",
        "colab_type": "code",
        "colab": {}
      },
      "source": [
        "x_training = np.concatenate((a_x_training, b_x_training), axis = 1)\n",
        "\n",
        "x_test = np.concatenate((a_x_test, b_x_test), axis = 1)"
      ],
      "execution_count": 9,
      "outputs": []
    },
    {
      "cell_type": "code",
      "metadata": {
        "id": "pQonV0iGX1Sw",
        "colab_type": "code",
        "colab": {
          "base_uri": "https://localhost:8080/",
          "height": 50
        },
        "outputId": "dec652d2-11e8-4ab6-98de-72d23f8c026d"
      },
      "source": [
        "print(x_training.shape)\n",
        "print(x_test.shape)"
      ],
      "execution_count": 10,
      "outputs": [
        {
          "output_type": "stream",
          "text": [
            "(10578, 130)\n",
            "(2000, 130)\n"
          ],
          "name": "stdout"
        }
      ]
    },
    {
      "cell_type": "code",
      "metadata": {
        "id": "56zeK8IEbSLo",
        "colab_type": "code",
        "colab": {}
      },
      "source": [
        "seed = 40\n",
        "np.random.seed(seed)\n",
        "\n",
        "kf = KFold(n_splits=5, random_state=seed, shuffle=True)"
      ],
      "execution_count": 13,
      "outputs": []
    },
    {
      "cell_type": "code",
      "metadata": {
        "id": "HYh0o8BlaJ4f",
        "colab_type": "code",
        "colab": {
          "base_uri": "https://localhost:8080/",
          "height": 1000
        },
        "outputId": "ada6d68c-dbb6-461a-c66b-8d460cf16767"
      },
      "source": [
        "test_avg_acc_list = []\n",
        "j = 1\n",
        "for c in range(1,100000,10000):\n",
        "  clf = SVC(C=c,  random_state = seed)\n",
        "  val_accuracy_list = []\n",
        "  train_accuracy_list = []\n",
        "  test_acc_list = []\n",
        "  y_pred_list = []\n",
        "  test_avg = 0\n",
        "  for train_index, val_index in kf.split(x_training):\n",
        "    #print(\"train = \",train_index,\"Val =\",val_index)\n",
        "    X_train, X_val = x_training[train_index], x_training[val_index]\n",
        "    y_train, y_val = y_training[train_index], y_training[val_index]\n",
        "    \n",
        "    clf.fit(X_train, y_train)\n",
        "\n",
        "    y_val_pred = clf.predict(X_val)\n",
        "    val_accuracy = accuracy_score(y_val, y_val_pred)\n",
        "    val_accuracy_list.append(val_accuracy)\n",
        "\n",
        "    y_train_pred = clf.predict(X_train)\n",
        "    train_accuracy = accuracy_score(y_train, y_train_pred)\n",
        "    train_accuracy_list.append(train_accuracy)\n",
        "\n",
        "    y_test_pred = clf.predict(x_test)\n",
        "    test_accuracy = accuracy_score(y_test, y_test_pred)\n",
        "    test_acc_list.append(test_accuracy)\n",
        "    test_avg = test_avg + test_accuracy\n",
        "    y_pred_list.append(y_test_pred)\n",
        "  test_avg = test_avg/5\n",
        "  print(f\"Epoch {j}/{10} for C = {c}\")\n",
        "  j=j+1\n",
        "  for i in range(0, len(train_accuracy_list)):\n",
        "    print(\"Train Accuracy : \", train_accuracy_list[i], \"\\tValidation Accuracy : \", val_accuracy_list[i],\"\\tTest Accuracy \",test_acc_list[i])\n",
        "  print(\"Avg Test Accuracy:\",test_avg)"
      ],
      "execution_count": 14,
      "outputs": [
        {
          "output_type": "stream",
          "text": [
            "Epoch 1/10 for C = 1\n",
            "Train Accuracy :  1.0 \tValidation Accuracy :  0.998109640831758 \tTest Accuracy  0.6795\n",
            "Train Accuracy :  1.0 \tValidation Accuracy :  0.997164461247637 \tTest Accuracy  0.677\n",
            "Train Accuracy :  1.0 \tValidation Accuracy :  0.9966918714555766 \tTest Accuracy  0.681\n",
            "Train Accuracy :  1.0 \tValidation Accuracy :  0.9985815602836879 \tTest Accuracy  0.687\n",
            "Train Accuracy :  1.0 \tValidation Accuracy :  0.9976359338061466 \tTest Accuracy  0.6765\n",
            "Avg Test Accuracy: 0.6801999999999999\n",
            "Epoch 2/10 for C = 10001\n",
            "Train Accuracy :  1.0 \tValidation Accuracy :  0.999054820415879 \tTest Accuracy  0.6765\n",
            "Train Accuracy :  1.0 \tValidation Accuracy :  0.9976370510396976 \tTest Accuracy  0.678\n",
            "Train Accuracy :  1.0 \tValidation Accuracy :  0.999054820415879 \tTest Accuracy  0.6875\n",
            "Train Accuracy :  1.0 \tValidation Accuracy :  0.9990543735224586 \tTest Accuracy  0.687\n",
            "Train Accuracy :  1.0 \tValidation Accuracy :  0.9981087470449173 \tTest Accuracy  0.6755\n",
            "Avg Test Accuracy: 0.6809000000000001\n",
            "Epoch 3/10 for C = 20001\n",
            "Train Accuracy :  1.0 \tValidation Accuracy :  0.999054820415879 \tTest Accuracy  0.6765\n",
            "Train Accuracy :  1.0 \tValidation Accuracy :  0.9976370510396976 \tTest Accuracy  0.678\n",
            "Train Accuracy :  1.0 \tValidation Accuracy :  0.999054820415879 \tTest Accuracy  0.6875\n",
            "Train Accuracy :  1.0 \tValidation Accuracy :  0.9990543735224586 \tTest Accuracy  0.687\n",
            "Train Accuracy :  1.0 \tValidation Accuracy :  0.9981087470449173 \tTest Accuracy  0.6755\n",
            "Avg Test Accuracy: 0.6809000000000001\n",
            "Epoch 4/10 for C = 30001\n",
            "Train Accuracy :  1.0 \tValidation Accuracy :  0.999054820415879 \tTest Accuracy  0.6765\n",
            "Train Accuracy :  1.0 \tValidation Accuracy :  0.9976370510396976 \tTest Accuracy  0.678\n",
            "Train Accuracy :  1.0 \tValidation Accuracy :  0.999054820415879 \tTest Accuracy  0.6875\n",
            "Train Accuracy :  1.0 \tValidation Accuracy :  0.9990543735224586 \tTest Accuracy  0.687\n",
            "Train Accuracy :  1.0 \tValidation Accuracy :  0.9981087470449173 \tTest Accuracy  0.6755\n",
            "Avg Test Accuracy: 0.6809000000000001\n",
            "Epoch 5/10 for C = 40001\n",
            "Train Accuracy :  1.0 \tValidation Accuracy :  0.999054820415879 \tTest Accuracy  0.6765\n",
            "Train Accuracy :  1.0 \tValidation Accuracy :  0.9976370510396976 \tTest Accuracy  0.678\n",
            "Train Accuracy :  1.0 \tValidation Accuracy :  0.999054820415879 \tTest Accuracy  0.6875\n",
            "Train Accuracy :  1.0 \tValidation Accuracy :  0.9990543735224586 \tTest Accuracy  0.687\n",
            "Train Accuracy :  1.0 \tValidation Accuracy :  0.9981087470449173 \tTest Accuracy  0.6755\n",
            "Avg Test Accuracy: 0.6809000000000001\n",
            "Epoch 6/10 for C = 50001\n",
            "Train Accuracy :  1.0 \tValidation Accuracy :  0.999054820415879 \tTest Accuracy  0.6765\n",
            "Train Accuracy :  1.0 \tValidation Accuracy :  0.9976370510396976 \tTest Accuracy  0.678\n",
            "Train Accuracy :  1.0 \tValidation Accuracy :  0.999054820415879 \tTest Accuracy  0.6875\n",
            "Train Accuracy :  1.0 \tValidation Accuracy :  0.9990543735224586 \tTest Accuracy  0.687\n",
            "Train Accuracy :  1.0 \tValidation Accuracy :  0.9981087470449173 \tTest Accuracy  0.6755\n",
            "Avg Test Accuracy: 0.6809000000000001\n",
            "Epoch 7/10 for C = 60001\n",
            "Train Accuracy :  1.0 \tValidation Accuracy :  0.999054820415879 \tTest Accuracy  0.6765\n",
            "Train Accuracy :  1.0 \tValidation Accuracy :  0.9976370510396976 \tTest Accuracy  0.678\n",
            "Train Accuracy :  1.0 \tValidation Accuracy :  0.999054820415879 \tTest Accuracy  0.6875\n",
            "Train Accuracy :  1.0 \tValidation Accuracy :  0.9990543735224586 \tTest Accuracy  0.687\n",
            "Train Accuracy :  1.0 \tValidation Accuracy :  0.9981087470449173 \tTest Accuracy  0.6755\n",
            "Avg Test Accuracy: 0.6809000000000001\n",
            "Epoch 8/10 for C = 70001\n",
            "Train Accuracy :  1.0 \tValidation Accuracy :  0.999054820415879 \tTest Accuracy  0.6765\n",
            "Train Accuracy :  1.0 \tValidation Accuracy :  0.9976370510396976 \tTest Accuracy  0.678\n",
            "Train Accuracy :  1.0 \tValidation Accuracy :  0.999054820415879 \tTest Accuracy  0.6875\n",
            "Train Accuracy :  1.0 \tValidation Accuracy :  0.9990543735224586 \tTest Accuracy  0.687\n",
            "Train Accuracy :  1.0 \tValidation Accuracy :  0.9981087470449173 \tTest Accuracy  0.6755\n",
            "Avg Test Accuracy: 0.6809000000000001\n",
            "Epoch 9/10 for C = 80001\n",
            "Train Accuracy :  1.0 \tValidation Accuracy :  0.999054820415879 \tTest Accuracy  0.6765\n",
            "Train Accuracy :  1.0 \tValidation Accuracy :  0.9976370510396976 \tTest Accuracy  0.678\n",
            "Train Accuracy :  1.0 \tValidation Accuracy :  0.999054820415879 \tTest Accuracy  0.6875\n",
            "Train Accuracy :  1.0 \tValidation Accuracy :  0.9990543735224586 \tTest Accuracy  0.687\n",
            "Train Accuracy :  1.0 \tValidation Accuracy :  0.9981087470449173 \tTest Accuracy  0.6755\n",
            "Avg Test Accuracy: 0.6809000000000001\n",
            "Epoch 10/10 for C = 90001\n",
            "Train Accuracy :  1.0 \tValidation Accuracy :  0.999054820415879 \tTest Accuracy  0.6765\n",
            "Train Accuracy :  1.0 \tValidation Accuracy :  0.9976370510396976 \tTest Accuracy  0.678\n",
            "Train Accuracy :  1.0 \tValidation Accuracy :  0.999054820415879 \tTest Accuracy  0.6875\n",
            "Train Accuracy :  1.0 \tValidation Accuracy :  0.9990543735224586 \tTest Accuracy  0.687\n",
            "Train Accuracy :  1.0 \tValidation Accuracy :  0.9981087470449173 \tTest Accuracy  0.6755\n",
            "Avg Test Accuracy: 0.6809000000000001\n"
          ],
          "name": "stdout"
        }
      ]
    }
  ]
}