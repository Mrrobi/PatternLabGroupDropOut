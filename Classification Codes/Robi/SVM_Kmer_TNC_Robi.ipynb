{
  "nbformat": 4,
  "nbformat_minor": 0,
  "metadata": {
    "colab": {
      "name": "SVM Kmer_TNC_Robi",
      "provenance": []
    },
    "kernelspec": {
      "name": "python3",
      "display_name": "Python 3"
    }
  },
  "cells": [
    {
      "cell_type": "code",
      "metadata": {
        "id": "42QExKEoQKf_",
        "colab_type": "code",
        "colab": {}
      },
      "source": [
        "from sklearn.model_selection import train_test_split\n",
        "import numpy as np\n",
        "from sklearn.svm import SVC\n",
        "from sklearn.metrics import accuracy_score\n",
        "from sklearn.model_selection import KFold"
      ],
      "execution_count": null,
      "outputs": []
    },
    {
      "cell_type": "code",
      "metadata": {
        "id": "ZJuW8MrJQsmP",
        "colab_type": "code",
        "colab": {}
      },
      "source": [
        "pos_5289 = \"/content/drive/My Drive/Fasta RNA feature vectors/A.thaliana5289_pos/kmer3/A.thaliana5289_pos_kmer_tnc_3.npy\"\n",
        "neg_5289 = \"/content/drive/My Drive/Fasta RNA feature vectors/A.thaliana5289_neg/kmer3/A.thaliana5289_neg_kmer_tnc.npy\"\n",
        "pos_1000 = \"/content/drive/My Drive/Fasta RNA feature vectors/A.thaliana1000indep_pos/kmer3/A.thaliana1000indep_pos_kmer_tnc.npy\"\n",
        "neg_1000 = \"/content/drive/My Drive/Fasta RNA feature vectors/A.thaliana1000indep_neg/kmer_tnc/A.thaliana1000indep_neg_kmer_tnc.npy\"\n",
        "\n",
        "x_train_pos = np.load(pos_5289) \n",
        "x_train_neg = np.load(neg_5289) \n",
        "x_test_pos = np.load(pos_1000) \n",
        "x_test_neg = np.load(neg_1000) \n",
        "\n",
        "y_train_pos = np.tile(1, 5289) \n",
        "y_train_neg = np.tile(0, 5289) \n",
        "y_test_pos = np.tile(1, 1000) \n",
        "y_test_neg = np.tile(0, 1000) "
      ],
      "execution_count": null,
      "outputs": []
    },
    {
      "cell_type": "code",
      "metadata": {
        "id": "dn6yh4z1Q34j",
        "colab_type": "code",
        "colab": {}
      },
      "source": [
        "x_training = np.concatenate((x_train_pos, x_train_neg), axis = 0)\n",
        "y_training = np.concatenate((y_train_pos, y_train_neg))\n",
        "\n",
        "x_test = np.concatenate((x_test_pos, x_test_neg), axis = 0)\n",
        "y_test = np.concatenate((y_test_pos, y_test_neg))"
      ],
      "execution_count": null,
      "outputs": []
    },
    {
      "cell_type": "code",
      "metadata": {
        "id": "AG55N_UQQ_1M",
        "colab_type": "code",
        "colab": {}
      },
      "source": [
        "seed = 40\n",
        "np.random.seed(seed)\n",
        "\n",
        "kf = KFold(n_splits=5, random_state=seed,shuffle=True)"
      ],
      "execution_count": null,
      "outputs": []
    },
    {
      "cell_type": "code",
      "metadata": {
        "id": "6HDLhWOHh28z",
        "colab_type": "code",
        "colab": {
          "base_uri": "https://localhost:8080/",
          "height": 1000
        },
        "outputId": "fbefa9b7-3c40-46c7-fa92-2ca7557034c4"
      },
      "source": [
        "test_avg_acc_list = []\n",
        "j = 1\n",
        "for c in range(1,100000,10000):\n",
        "  clf = SVC(C=c,  random_state = seed)\n",
        "  val_accuracy_list = []\n",
        "  train_accuracy_list = []\n",
        "  test_acc_list = []\n",
        "  test_avg = 0\n",
        "  for train_index, val_index in kf.split(x_training):\n",
        "    #print(\"train = \",train_index,\"Val =\",val_index)\n",
        "    X_train, X_val = x_training[train_index], x_training[val_index]\n",
        "    y_train, y_val = y_training[train_index], y_training[val_index]\n",
        "    \n",
        "    clf.fit(X_train, y_train)\n",
        "\n",
        "    y_val_pred = clf.predict(X_val)\n",
        "    val_accuracy = accuracy_score(y_val, y_val_pred)\n",
        "    val_accuracy_list.append(val_accuracy)\n",
        "\n",
        "    y_train_pred = clf.predict(X_train)\n",
        "    train_accuracy = accuracy_score(y_train, y_train_pred)\n",
        "    train_accuracy_list.append(train_accuracy)\n",
        "\n",
        "    y_test_pred = clf.predict(x_test)\n",
        "    test_accuracy = accuracy_score(y_test, y_test_pred)\n",
        "    test_acc_list.append(test_accuracy)\n",
        "    test_avg = test_avg + test_accuracy\n",
        "  test_avg = test_avg/5\n",
        "  print(f\"Epoch {j}/{10} for C = {c}\")\n",
        "  j=j+1\n",
        "  for i in range(0, len(train_accuracy_list)):\n",
        "    print(\"Train Accuracy : \", train_accuracy_list[i], \"\\tValidation Accuracy : \", val_accuracy_list[i],\"\\tTest Accuracy \",test_acc_list[i])\n",
        "  print(\"Avg Test Accuracy:\",test_avg)"
      ],
      "execution_count": null,
      "outputs": [
        {
          "output_type": "stream",
          "text": [
            "Epoch 1/10 for C = 1\n",
            "Train Accuracy :  0.9994091231387379 \tValidation Accuracy :  0.9905482041587902 \tTest Accuracy  0.8775\n",
            "Train Accuracy :  0.9990545970219806 \tValidation Accuracy :  0.9924385633270322 \tTest Accuracy  0.8815\n",
            "Train Accuracy :  0.9995272985109903 \tValidation Accuracy :  0.9900756143667296 \tTest Accuracy  0.8795\n",
            "Train Accuracy :  0.99940919295758 \tValidation Accuracy :  0.9933806146572104 \tTest Accuracy  0.8815\n",
            "Train Accuracy :  0.999763677183032 \tValidation Accuracy :  0.9943262411347518 \tTest Accuracy  0.8795\n",
            "Avg Test Accuracy: 0.8798999999999999\n",
            "Epoch 2/10 for C = 10001\n",
            "Train Accuracy :  1.0 \tValidation Accuracy :  0.9929111531190926 \tTest Accuracy  0.8825\n",
            "Train Accuracy :  1.0 \tValidation Accuracy :  0.995274102079395 \tTest Accuracy  0.8805\n",
            "Train Accuracy :  1.0 \tValidation Accuracy :  0.9919659735349716 \tTest Accuracy  0.883\n",
            "Train Accuracy :  1.0 \tValidation Accuracy :  0.9957446808510638 \tTest Accuracy  0.8795\n",
            "Train Accuracy :  1.0 \tValidation Accuracy :  0.9952718676122931 \tTest Accuracy  0.8775\n",
            "Avg Test Accuracy: 0.8806\n",
            "Epoch 3/10 for C = 20001\n",
            "Train Accuracy :  1.0 \tValidation Accuracy :  0.9929111531190926 \tTest Accuracy  0.8825\n",
            "Train Accuracy :  1.0 \tValidation Accuracy :  0.995274102079395 \tTest Accuracy  0.8805\n",
            "Train Accuracy :  1.0 \tValidation Accuracy :  0.9919659735349716 \tTest Accuracy  0.883\n",
            "Train Accuracy :  1.0 \tValidation Accuracy :  0.9957446808510638 \tTest Accuracy  0.8795\n",
            "Train Accuracy :  1.0 \tValidation Accuracy :  0.9952718676122931 \tTest Accuracy  0.8775\n",
            "Avg Test Accuracy: 0.8806\n",
            "Epoch 4/10 for C = 30001\n",
            "Train Accuracy :  1.0 \tValidation Accuracy :  0.9929111531190926 \tTest Accuracy  0.8825\n",
            "Train Accuracy :  1.0 \tValidation Accuracy :  0.995274102079395 \tTest Accuracy  0.8805\n",
            "Train Accuracy :  1.0 \tValidation Accuracy :  0.9919659735349716 \tTest Accuracy  0.883\n",
            "Train Accuracy :  1.0 \tValidation Accuracy :  0.9957446808510638 \tTest Accuracy  0.8795\n",
            "Train Accuracy :  1.0 \tValidation Accuracy :  0.9952718676122931 \tTest Accuracy  0.8775\n",
            "Avg Test Accuracy: 0.8806\n",
            "Epoch 5/10 for C = 40001\n",
            "Train Accuracy :  1.0 \tValidation Accuracy :  0.9929111531190926 \tTest Accuracy  0.8825\n",
            "Train Accuracy :  1.0 \tValidation Accuracy :  0.995274102079395 \tTest Accuracy  0.8805\n",
            "Train Accuracy :  1.0 \tValidation Accuracy :  0.9919659735349716 \tTest Accuracy  0.883\n",
            "Train Accuracy :  1.0 \tValidation Accuracy :  0.9957446808510638 \tTest Accuracy  0.8795\n",
            "Train Accuracy :  1.0 \tValidation Accuracy :  0.9952718676122931 \tTest Accuracy  0.8775\n",
            "Avg Test Accuracy: 0.8806\n",
            "Epoch 6/10 for C = 50001\n",
            "Train Accuracy :  1.0 \tValidation Accuracy :  0.9929111531190926 \tTest Accuracy  0.8825\n",
            "Train Accuracy :  1.0 \tValidation Accuracy :  0.995274102079395 \tTest Accuracy  0.8805\n",
            "Train Accuracy :  1.0 \tValidation Accuracy :  0.9919659735349716 \tTest Accuracy  0.883\n",
            "Train Accuracy :  1.0 \tValidation Accuracy :  0.9957446808510638 \tTest Accuracy  0.8795\n",
            "Train Accuracy :  1.0 \tValidation Accuracy :  0.9952718676122931 \tTest Accuracy  0.8775\n",
            "Avg Test Accuracy: 0.8806\n",
            "Epoch 7/10 for C = 60001\n",
            "Train Accuracy :  1.0 \tValidation Accuracy :  0.9929111531190926 \tTest Accuracy  0.8825\n",
            "Train Accuracy :  1.0 \tValidation Accuracy :  0.995274102079395 \tTest Accuracy  0.8805\n",
            "Train Accuracy :  1.0 \tValidation Accuracy :  0.9919659735349716 \tTest Accuracy  0.883\n",
            "Train Accuracy :  1.0 \tValidation Accuracy :  0.9957446808510638 \tTest Accuracy  0.8795\n",
            "Train Accuracy :  1.0 \tValidation Accuracy :  0.9952718676122931 \tTest Accuracy  0.8775\n",
            "Avg Test Accuracy: 0.8806\n",
            "Epoch 8/10 for C = 70001\n",
            "Train Accuracy :  1.0 \tValidation Accuracy :  0.9929111531190926 \tTest Accuracy  0.8825\n",
            "Train Accuracy :  1.0 \tValidation Accuracy :  0.995274102079395 \tTest Accuracy  0.8805\n",
            "Train Accuracy :  1.0 \tValidation Accuracy :  0.9919659735349716 \tTest Accuracy  0.883\n",
            "Train Accuracy :  1.0 \tValidation Accuracy :  0.9957446808510638 \tTest Accuracy  0.8795\n",
            "Train Accuracy :  1.0 \tValidation Accuracy :  0.9952718676122931 \tTest Accuracy  0.8775\n",
            "Avg Test Accuracy: 0.8806\n",
            "Epoch 9/10 for C = 80001\n",
            "Train Accuracy :  1.0 \tValidation Accuracy :  0.9929111531190926 \tTest Accuracy  0.8825\n",
            "Train Accuracy :  1.0 \tValidation Accuracy :  0.995274102079395 \tTest Accuracy  0.8805\n",
            "Train Accuracy :  1.0 \tValidation Accuracy :  0.9919659735349716 \tTest Accuracy  0.883\n",
            "Train Accuracy :  1.0 \tValidation Accuracy :  0.9957446808510638 \tTest Accuracy  0.8795\n",
            "Train Accuracy :  1.0 \tValidation Accuracy :  0.9952718676122931 \tTest Accuracy  0.8775\n",
            "Avg Test Accuracy: 0.8806\n",
            "Epoch 10/10 for C = 90001\n",
            "Train Accuracy :  1.0 \tValidation Accuracy :  0.9929111531190926 \tTest Accuracy  0.8825\n",
            "Train Accuracy :  1.0 \tValidation Accuracy :  0.995274102079395 \tTest Accuracy  0.8805\n",
            "Train Accuracy :  1.0 \tValidation Accuracy :  0.9919659735349716 \tTest Accuracy  0.883\n",
            "Train Accuracy :  1.0 \tValidation Accuracy :  0.9957446808510638 \tTest Accuracy  0.8795\n",
            "Train Accuracy :  1.0 \tValidation Accuracy :  0.9952718676122931 \tTest Accuracy  0.8775\n",
            "Avg Test Accuracy: 0.8806\n"
          ],
          "name": "stdout"
        }
      ]
    }
  ]
}