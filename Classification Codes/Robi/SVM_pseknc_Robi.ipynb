{
  "nbformat": 4,
  "nbformat_minor": 0,
  "metadata": {
    "colab": {
      "name": "SVM pseknc_Robi",
      "provenance": [],
      "collapsed_sections": []
    },
    "kernelspec": {
      "name": "python3",
      "display_name": "Python 3"
    }
  },
  "cells": [
    {
      "cell_type": "code",
      "metadata": {
        "id": "42QExKEoQKf_",
        "colab_type": "code",
        "colab": {}
      },
      "source": [
        "from sklearn.model_selection import train_test_split\n",
        "import numpy as np\n",
        "from sklearn.svm import SVC\n",
        "from sklearn.model_selection import KFold\n",
        "from sklearn.preprocessing import StandardScaler\n",
        "from sklearn.metrics import confusion_matrix,accuracy_score,classification_report"
      ],
      "execution_count": null,
      "outputs": []
    },
    {
      "cell_type": "code",
      "metadata": {
        "id": "ZJuW8MrJQsmP",
        "colab_type": "code",
        "colab": {}
      },
      "source": [
        "pos_5289 = \"/content/drive/My Drive/Fasta RNA feature vectors/A.thaliana5289_pos/pseknc/A.thaliana5289_pos_pseknc.npy\"\n",
        "neg_5289 = \"/content/drive/My Drive/Fasta RNA feature vectors/A.thaliana5289_neg/pseknc/A.thaliana5289_neg_pseknc.npy\"\n",
        "pos_1000 = \"/content/drive/My Drive/Fasta RNA feature vectors/A.thaliana1000indep_pos/pseknc/A.thaliana1000indep_pos_pseknc.npy\"\n",
        "neg_1000 = \"/content/drive/My Drive/Fasta RNA feature vectors/A.thaliana1000indep_neg/pseknc/A.thaliana1000indep_neg_pseknc.npy\"\n",
        "\n",
        "x_train_pos = np.load(pos_5289) \n",
        "x_train_neg = np.load(neg_5289) \n",
        "x_test_pos = np.load(pos_1000) \n",
        "x_test_neg = np.load(neg_1000) \n",
        "\n",
        "y_train_pos = np.tile(1, 5289) \n",
        "y_train_neg = np.tile(0, 5289) \n",
        "y_test_pos = np.tile(1, 1000) \n",
        "y_test_neg = np.tile(0, 1000) "
      ],
      "execution_count": null,
      "outputs": []
    },
    {
      "cell_type": "code",
      "metadata": {
        "id": "dn6yh4z1Q34j",
        "colab_type": "code",
        "colab": {}
      },
      "source": [
        "x_training = np.concatenate((x_train_pos, x_train_neg), axis = 0)\n",
        "y_training = np.concatenate((y_train_pos, y_train_neg))\n",
        "\n",
        "x_test = np.concatenate((x_test_pos, x_test_neg), axis = 0)\n",
        "y_test = np.concatenate((y_test_pos, y_test_neg))"
      ],
      "execution_count": null,
      "outputs": []
    },
    {
      "cell_type": "code",
      "metadata": {
        "id": "zFyOFx2Unn03",
        "colab_type": "code",
        "colab": {}
      },
      "source": [
        "sc = StandardScaler()\n",
        "x_training = sc.fit_transform(x_training)\n",
        "x_test = sc.fit_transform(x_test)"
      ],
      "execution_count": null,
      "outputs": []
    },
    {
      "cell_type": "code",
      "metadata": {
        "id": "AG55N_UQQ_1M",
        "colab_type": "code",
        "colab": {}
      },
      "source": [
        "seed = 100\n",
        "np.random.seed(seed)\n",
        "\n",
        "kf = KFold(n_splits=5, random_state=seed,shuffle=True)"
      ],
      "execution_count": null,
      "outputs": []
    },
    {
      "cell_type": "code",
      "metadata": {
        "id": "6HDLhWOHh28z",
        "colab_type": "code",
        "colab": {
          "base_uri": "https://localhost:8080/",
          "height": 1000
        },
        "outputId": "dd5ccd89-6a11-4089-9808-5aae0be711fc"
      },
      "source": [
        "test_avg_acc_list = []\n",
        "j = 1\n",
        "for c in range(1,100000,10000):\n",
        "  clf = SVC(C=c,  random_state = seed)\n",
        "  val_accuracy_list = []\n",
        "  train_accuracy_list = []\n",
        "  test_acc_list = []\n",
        "  y_pred_list = []\n",
        "  test_avg = 0\n",
        "  for train_index, val_index in kf.split(x_training):\n",
        "    #print(\"train = \",train_index,\"Val =\",val_index)\n",
        "    X_train, X_val = x_training[train_index], x_training[val_index]\n",
        "    y_train, y_val = y_training[train_index], y_training[val_index]\n",
        "    \n",
        "    clf.fit(X_train, y_train)\n",
        "\n",
        "    y_val_pred = clf.predict(X_val)\n",
        "    val_accuracy = accuracy_score(y_val, y_val_pred)\n",
        "    val_accuracy_list.append(val_accuracy)\n",
        "\n",
        "    y_train_pred = clf.predict(X_train)\n",
        "    train_accuracy = accuracy_score(y_train, y_train_pred)\n",
        "    train_accuracy_list.append(train_accuracy)\n",
        "\n",
        "    y_test_pred = clf.predict(x_test)\n",
        "    test_accuracy = accuracy_score(y_test, y_test_pred)\n",
        "    test_acc_list.append(test_accuracy)\n",
        "    test_avg = test_avg + test_accuracy\n",
        "    y_pred_list.append(y_test_pred)\n",
        "  test_avg = test_avg/5\n",
        "  print(f\"Epoch {j}/{10} for C = {c}\")\n",
        "  j=j+1\n",
        "  for i in range(0, len(train_accuracy_list)):\n",
        "    print(\"Train Accuracy : \", train_accuracy_list[i], \"\\tValidation Accuracy : \", val_accuracy_list[i],\"\\tTest Accuracy \",test_acc_list[i])\n",
        "  print(\"Avg Test Accuracy:\",test_avg)"
      ],
      "execution_count": null,
      "outputs": [
        {
          "output_type": "stream",
          "text": [
            "Epoch 1/10 for C = 1\n",
            "Train Accuracy :  0.9998818246277476 \tValidation Accuracy :  0.994328922495274 \tTest Accuracy  0.8885\n",
            "Train Accuracy :  0.9996454738832428 \tValidation Accuracy :  0.9938563327032136 \tTest Accuracy  0.891\n",
            "Train Accuracy :  0.9996454738832428 \tValidation Accuracy :  0.9933837429111532 \tTest Accuracy  0.884\n",
            "Train Accuracy :  0.9996455157745481 \tValidation Accuracy :  0.9914893617021276 \tTest Accuracy  0.8985\n",
            "Train Accuracy :  0.999763677183032 \tValidation Accuracy :  0.9943262411347518 \tTest Accuracy  0.885\n",
            "Avg Test Accuracy: 0.8894\n",
            "Epoch 2/10 for C = 10001\n",
            "Train Accuracy :  1.0 \tValidation Accuracy :  0.9948015122873346 \tTest Accuracy  0.8985\n",
            "Train Accuracy :  1.0 \tValidation Accuracy :  0.995274102079395 \tTest Accuracy  0.9095\n",
            "Train Accuracy :  1.0 \tValidation Accuracy :  0.995274102079395 \tTest Accuracy  0.902\n",
            "Train Accuracy :  1.0 \tValidation Accuracy :  0.992434988179669 \tTest Accuracy  0.9115\n",
            "Train Accuracy :  1.0 \tValidation Accuracy :  0.9938534278959811 \tTest Accuracy  0.903\n",
            "Avg Test Accuracy: 0.9048999999999999\n",
            "Epoch 3/10 for C = 20001\n",
            "Train Accuracy :  1.0 \tValidation Accuracy :  0.9948015122873346 \tTest Accuracy  0.8985\n",
            "Train Accuracy :  1.0 \tValidation Accuracy :  0.995274102079395 \tTest Accuracy  0.9095\n",
            "Train Accuracy :  1.0 \tValidation Accuracy :  0.995274102079395 \tTest Accuracy  0.902\n",
            "Train Accuracy :  1.0 \tValidation Accuracy :  0.992434988179669 \tTest Accuracy  0.9115\n",
            "Train Accuracy :  1.0 \tValidation Accuracy :  0.9938534278959811 \tTest Accuracy  0.903\n",
            "Avg Test Accuracy: 0.9048999999999999\n",
            "Epoch 4/10 for C = 30001\n",
            "Train Accuracy :  1.0 \tValidation Accuracy :  0.9948015122873346 \tTest Accuracy  0.8985\n",
            "Train Accuracy :  1.0 \tValidation Accuracy :  0.995274102079395 \tTest Accuracy  0.9095\n",
            "Train Accuracy :  1.0 \tValidation Accuracy :  0.995274102079395 \tTest Accuracy  0.902\n",
            "Train Accuracy :  1.0 \tValidation Accuracy :  0.992434988179669 \tTest Accuracy  0.9115\n",
            "Train Accuracy :  1.0 \tValidation Accuracy :  0.9938534278959811 \tTest Accuracy  0.903\n",
            "Avg Test Accuracy: 0.9048999999999999\n",
            "Epoch 5/10 for C = 40001\n",
            "Train Accuracy :  1.0 \tValidation Accuracy :  0.9948015122873346 \tTest Accuracy  0.8985\n",
            "Train Accuracy :  1.0 \tValidation Accuracy :  0.995274102079395 \tTest Accuracy  0.9095\n",
            "Train Accuracy :  1.0 \tValidation Accuracy :  0.995274102079395 \tTest Accuracy  0.902\n",
            "Train Accuracy :  1.0 \tValidation Accuracy :  0.992434988179669 \tTest Accuracy  0.9115\n",
            "Train Accuracy :  1.0 \tValidation Accuracy :  0.9938534278959811 \tTest Accuracy  0.903\n",
            "Avg Test Accuracy: 0.9048999999999999\n",
            "Epoch 6/10 for C = 50001\n",
            "Train Accuracy :  1.0 \tValidation Accuracy :  0.9948015122873346 \tTest Accuracy  0.8985\n",
            "Train Accuracy :  1.0 \tValidation Accuracy :  0.995274102079395 \tTest Accuracy  0.9095\n",
            "Train Accuracy :  1.0 \tValidation Accuracy :  0.995274102079395 \tTest Accuracy  0.902\n",
            "Train Accuracy :  1.0 \tValidation Accuracy :  0.992434988179669 \tTest Accuracy  0.9115\n",
            "Train Accuracy :  1.0 \tValidation Accuracy :  0.9938534278959811 \tTest Accuracy  0.903\n",
            "Avg Test Accuracy: 0.9048999999999999\n",
            "Epoch 7/10 for C = 60001\n",
            "Train Accuracy :  1.0 \tValidation Accuracy :  0.9948015122873346 \tTest Accuracy  0.8985\n",
            "Train Accuracy :  1.0 \tValidation Accuracy :  0.995274102079395 \tTest Accuracy  0.9095\n",
            "Train Accuracy :  1.0 \tValidation Accuracy :  0.995274102079395 \tTest Accuracy  0.902\n",
            "Train Accuracy :  1.0 \tValidation Accuracy :  0.992434988179669 \tTest Accuracy  0.9115\n",
            "Train Accuracy :  1.0 \tValidation Accuracy :  0.9938534278959811 \tTest Accuracy  0.903\n",
            "Avg Test Accuracy: 0.9048999999999999\n",
            "Epoch 8/10 for C = 70001\n",
            "Train Accuracy :  1.0 \tValidation Accuracy :  0.9948015122873346 \tTest Accuracy  0.8985\n",
            "Train Accuracy :  1.0 \tValidation Accuracy :  0.995274102079395 \tTest Accuracy  0.9095\n",
            "Train Accuracy :  1.0 \tValidation Accuracy :  0.995274102079395 \tTest Accuracy  0.902\n",
            "Train Accuracy :  1.0 \tValidation Accuracy :  0.992434988179669 \tTest Accuracy  0.9115\n",
            "Train Accuracy :  1.0 \tValidation Accuracy :  0.9938534278959811 \tTest Accuracy  0.903\n",
            "Avg Test Accuracy: 0.9048999999999999\n",
            "Epoch 9/10 for C = 80001\n",
            "Train Accuracy :  1.0 \tValidation Accuracy :  0.9948015122873346 \tTest Accuracy  0.8985\n",
            "Train Accuracy :  1.0 \tValidation Accuracy :  0.995274102079395 \tTest Accuracy  0.9095\n",
            "Train Accuracy :  1.0 \tValidation Accuracy :  0.995274102079395 \tTest Accuracy  0.902\n",
            "Train Accuracy :  1.0 \tValidation Accuracy :  0.992434988179669 \tTest Accuracy  0.9115\n",
            "Train Accuracy :  1.0 \tValidation Accuracy :  0.9938534278959811 \tTest Accuracy  0.903\n",
            "Avg Test Accuracy: 0.9048999999999999\n",
            "Epoch 10/10 for C = 90001\n",
            "Train Accuracy :  1.0 \tValidation Accuracy :  0.9948015122873346 \tTest Accuracy  0.8985\n",
            "Train Accuracy :  1.0 \tValidation Accuracy :  0.995274102079395 \tTest Accuracy  0.9095\n",
            "Train Accuracy :  1.0 \tValidation Accuracy :  0.995274102079395 \tTest Accuracy  0.902\n",
            "Train Accuracy :  1.0 \tValidation Accuracy :  0.992434988179669 \tTest Accuracy  0.9115\n",
            "Train Accuracy :  1.0 \tValidation Accuracy :  0.9938534278959811 \tTest Accuracy  0.903\n",
            "Avg Test Accuracy: 0.9048999999999999\n"
          ],
          "name": "stdout"
        }
      ]
    }
  ]
}